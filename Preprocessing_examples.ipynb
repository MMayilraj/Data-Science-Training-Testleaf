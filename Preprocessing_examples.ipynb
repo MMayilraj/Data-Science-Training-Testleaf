{
 "cells": [
  {
   "cell_type": "markdown",
   "metadata": {},
   "source": [
    "# Introduce the Data"
   ]
  },
  {
   "cell_type": "code",
   "execution_count": 3,
   "metadata": {
    "collapsed": true
   },
   "outputs": [],
   "source": [
    "import os\n",
    "import numpy as np\n",
    "import pandas as pd"
   ]
  },
  {
   "cell_type": "code",
   "execution_count": 4,
   "metadata": {},
   "outputs": [
    {
     "data": {
      "text/plain": [
       "'C:\\\\Users\\\\Irfan'"
      ]
     },
     "execution_count": 4,
     "metadata": {},
     "output_type": "execute_result"
    }
   ],
   "source": [
    "os.getcwd()"
   ]
  },
  {
   "cell_type": "code",
   "execution_count": 5,
   "metadata": {
    "collapsed": true
   },
   "outputs": [],
   "source": [
    "os.chdir('Datasets')"
   ]
  },
  {
   "cell_type": "code",
   "execution_count": 71,
   "metadata": {
    "collapsed": true
   },
   "outputs": [],
   "source": [
    "# Import data and take a look\n",
    "\n",
    "df = pd.read_csv('adult.csv', na_values=['#NAME?'])"
   ]
  },
  {
   "cell_type": "code",
   "execution_count": 72,
   "metadata": {},
   "outputs": [
    {
     "data": {
      "text/html": [
       "<div>\n",
       "<style>\n",
       "    .dataframe thead tr:only-child th {\n",
       "        text-align: right;\n",
       "    }\n",
       "\n",
       "    .dataframe thead th {\n",
       "        text-align: left;\n",
       "    }\n",
       "\n",
       "    .dataframe tbody tr th {\n",
       "        vertical-align: top;\n",
       "    }\n",
       "</style>\n",
       "<table border=\"1\" class=\"dataframe\">\n",
       "  <thead>\n",
       "    <tr style=\"text-align: right;\">\n",
       "      <th></th>\n",
       "      <th>age</th>\n",
       "      <th>workclass</th>\n",
       "      <th>fnlwgt</th>\n",
       "      <th>education</th>\n",
       "      <th>education_num</th>\n",
       "      <th>marital_status</th>\n",
       "      <th>occupation</th>\n",
       "      <th>relationship</th>\n",
       "      <th>race</th>\n",
       "      <th>sex</th>\n",
       "      <th>capital_gain</th>\n",
       "      <th>capital_loss</th>\n",
       "      <th>hours_per_week</th>\n",
       "      <th>native_country</th>\n",
       "      <th>income</th>\n",
       "    </tr>\n",
       "  </thead>\n",
       "  <tbody>\n",
       "    <tr>\n",
       "      <th>0</th>\n",
       "      <td>39.0</td>\n",
       "      <td>State-gov</td>\n",
       "      <td>77516.0</td>\n",
       "      <td>Bachelors</td>\n",
       "      <td>13.0</td>\n",
       "      <td>Never-married</td>\n",
       "      <td>Adm-clerical</td>\n",
       "      <td>Not-in-family</td>\n",
       "      <td>White</td>\n",
       "      <td>Male</td>\n",
       "      <td>2174</td>\n",
       "      <td>0</td>\n",
       "      <td>40</td>\n",
       "      <td>United-States</td>\n",
       "      <td>&lt;=50K</td>\n",
       "    </tr>\n",
       "    <tr>\n",
       "      <th>1</th>\n",
       "      <td>50.0</td>\n",
       "      <td>Self-emp-not-inc</td>\n",
       "      <td>83311.0</td>\n",
       "      <td>Bachelors</td>\n",
       "      <td>13.0</td>\n",
       "      <td>Married-civ-spouse</td>\n",
       "      <td>Exec-managerial</td>\n",
       "      <td>Husband</td>\n",
       "      <td>White</td>\n",
       "      <td>Male</td>\n",
       "      <td>0</td>\n",
       "      <td>0</td>\n",
       "      <td>13</td>\n",
       "      <td>United-States</td>\n",
       "      <td>&lt;=50K</td>\n",
       "    </tr>\n",
       "    <tr>\n",
       "      <th>2</th>\n",
       "      <td>38.0</td>\n",
       "      <td>Private</td>\n",
       "      <td>215646.0</td>\n",
       "      <td>HS-grad</td>\n",
       "      <td>9.0</td>\n",
       "      <td>Divorced</td>\n",
       "      <td>Handlers-cleaners</td>\n",
       "      <td>Not-in-family</td>\n",
       "      <td>White</td>\n",
       "      <td>Male</td>\n",
       "      <td>0</td>\n",
       "      <td>0</td>\n",
       "      <td>40</td>\n",
       "      <td>United-States</td>\n",
       "      <td>&lt;=50K</td>\n",
       "    </tr>\n",
       "    <tr>\n",
       "      <th>3</th>\n",
       "      <td>53.0</td>\n",
       "      <td>Private</td>\n",
       "      <td>234721.0</td>\n",
       "      <td>11th</td>\n",
       "      <td>7.0</td>\n",
       "      <td>Married-civ-spouse</td>\n",
       "      <td>Handlers-cleaners</td>\n",
       "      <td>Husband</td>\n",
       "      <td>Black</td>\n",
       "      <td>NaN</td>\n",
       "      <td>0</td>\n",
       "      <td>0</td>\n",
       "      <td>40</td>\n",
       "      <td>United-States</td>\n",
       "      <td>&lt;=50K</td>\n",
       "    </tr>\n",
       "    <tr>\n",
       "      <th>4</th>\n",
       "      <td>28.0</td>\n",
       "      <td>Private</td>\n",
       "      <td>338409.0</td>\n",
       "      <td>Bachelors</td>\n",
       "      <td>13.0</td>\n",
       "      <td>Married-civ-spouse</td>\n",
       "      <td>Prof-specialty</td>\n",
       "      <td>Wife</td>\n",
       "      <td>Black</td>\n",
       "      <td>Female</td>\n",
       "      <td>0</td>\n",
       "      <td>0</td>\n",
       "      <td>40</td>\n",
       "      <td>Cuba</td>\n",
       "      <td>&lt;=50K</td>\n",
       "    </tr>\n",
       "  </tbody>\n",
       "</table>\n",
       "</div>"
      ],
      "text/plain": [
       "    age         workclass    fnlwgt  education  education_num  \\\n",
       "0  39.0         State-gov   77516.0  Bachelors           13.0   \n",
       "1  50.0  Self-emp-not-inc   83311.0  Bachelors           13.0   \n",
       "2  38.0           Private  215646.0    HS-grad            9.0   \n",
       "3  53.0           Private  234721.0       11th            7.0   \n",
       "4  28.0           Private  338409.0  Bachelors           13.0   \n",
       "\n",
       "       marital_status         occupation   relationship   race     sex  \\\n",
       "0       Never-married       Adm-clerical  Not-in-family  White    Male   \n",
       "1  Married-civ-spouse    Exec-managerial        Husband  White    Male   \n",
       "2            Divorced  Handlers-cleaners  Not-in-family  White    Male   \n",
       "3  Married-civ-spouse  Handlers-cleaners        Husband  Black     NaN   \n",
       "4  Married-civ-spouse     Prof-specialty           Wife  Black  Female   \n",
       "\n",
       "   capital_gain  capital_loss  hours_per_week native_country income  \n",
       "0          2174             0              40  United-States  <=50K  \n",
       "1             0             0              13  United-States  <=50K  \n",
       "2             0             0              40  United-States  <=50K  \n",
       "3             0             0              40  United-States  <=50K  \n",
       "4             0             0              40           Cuba  <=50K  "
      ]
     },
     "execution_count": 72,
     "metadata": {},
     "output_type": "execute_result"
    }
   ],
   "source": [
    "df.head(5)"
   ]
  },
  {
   "cell_type": "code",
   "execution_count": 73,
   "metadata": {},
   "outputs": [
    {
     "data": {
      "text/plain": [
       "Index(['age', 'workclass', 'fnlwgt', 'education', 'education_num',\n",
       "       'marital_status', 'occupation', 'relationship', 'race', 'sex',\n",
       "       'capital_gain', 'capital_loss', 'hours_per_week', 'native_country',\n",
       "       'income'],\n",
       "      dtype='object')"
      ]
     },
     "execution_count": 73,
     "metadata": {},
     "output_type": "execute_result"
    }
   ],
   "source": [
    "df.columns"
   ]
  },
  {
   "cell_type": "markdown",
   "metadata": {},
   "source": [
    "Let's take a look at the outcome variable: 'income'"
   ]
  },
  {
   "cell_type": "code",
   "execution_count": 46,
   "metadata": {},
   "outputs": [
    {
     "name": "stdout",
     "output_type": "stream",
     "text": [
      "<=50K    3779\n",
      ">50K     1221\n",
      "Name: income, dtype: int64\n"
     ]
    }
   ],
   "source": [
    "\n",
    "print(df['income'].value_counts())"
   ]
  },
  {
   "cell_type": "markdown",
   "metadata": {},
   "source": [
    "Assign outcome as 0 if income <=50K and as 1 if income >50K"
   ]
  },
  {
   "cell_type": "code",
   "execution_count": 47,
   "metadata": {},
   "outputs": [
    {
     "data": {
      "text/html": [
       "<div>\n",
       "<style>\n",
       "    .dataframe thead tr:only-child th {\n",
       "        text-align: right;\n",
       "    }\n",
       "\n",
       "    .dataframe thead th {\n",
       "        text-align: left;\n",
       "    }\n",
       "\n",
       "    .dataframe tbody tr th {\n",
       "        vertical-align: top;\n",
       "    }\n",
       "</style>\n",
       "<table border=\"1\" class=\"dataframe\">\n",
       "  <thead>\n",
       "    <tr style=\"text-align: right;\">\n",
       "      <th></th>\n",
       "      <th>age</th>\n",
       "      <th>workclass</th>\n",
       "      <th>fnlwgt</th>\n",
       "      <th>education</th>\n",
       "      <th>education_num</th>\n",
       "      <th>marital_status</th>\n",
       "      <th>occupation</th>\n",
       "      <th>relationship</th>\n",
       "      <th>race</th>\n",
       "      <th>sex</th>\n",
       "      <th>capital_gain</th>\n",
       "      <th>capital_loss</th>\n",
       "      <th>hours_per_week</th>\n",
       "      <th>native_country</th>\n",
       "      <th>income</th>\n",
       "    </tr>\n",
       "  </thead>\n",
       "  <tbody>\n",
       "    <tr>\n",
       "      <th>0</th>\n",
       "      <td>39.0</td>\n",
       "      <td>State-gov</td>\n",
       "      <td>77516.0</td>\n",
       "      <td>Bachelors</td>\n",
       "      <td>13.0</td>\n",
       "      <td>Never-married</td>\n",
       "      <td>Adm-clerical</td>\n",
       "      <td>Not-in-family</td>\n",
       "      <td>White</td>\n",
       "      <td>Male</td>\n",
       "      <td>2174</td>\n",
       "      <td>0</td>\n",
       "      <td>40</td>\n",
       "      <td>United-States</td>\n",
       "      <td>0</td>\n",
       "    </tr>\n",
       "    <tr>\n",
       "      <th>1</th>\n",
       "      <td>50.0</td>\n",
       "      <td>Self-emp-not-inc</td>\n",
       "      <td>83311.0</td>\n",
       "      <td>Bachelors</td>\n",
       "      <td>13.0</td>\n",
       "      <td>Married-civ-spouse</td>\n",
       "      <td>Exec-managerial</td>\n",
       "      <td>Husband</td>\n",
       "      <td>White</td>\n",
       "      <td>Male</td>\n",
       "      <td>0</td>\n",
       "      <td>0</td>\n",
       "      <td>13</td>\n",
       "      <td>United-States</td>\n",
       "      <td>0</td>\n",
       "    </tr>\n",
       "    <tr>\n",
       "      <th>2</th>\n",
       "      <td>38.0</td>\n",
       "      <td>Private</td>\n",
       "      <td>215646.0</td>\n",
       "      <td>HS-grad</td>\n",
       "      <td>9.0</td>\n",
       "      <td>Divorced</td>\n",
       "      <td>Handlers-cleaners</td>\n",
       "      <td>Not-in-family</td>\n",
       "      <td>White</td>\n",
       "      <td>Male</td>\n",
       "      <td>0</td>\n",
       "      <td>0</td>\n",
       "      <td>40</td>\n",
       "      <td>United-States</td>\n",
       "      <td>0</td>\n",
       "    </tr>\n",
       "  </tbody>\n",
       "</table>\n",
       "</div>"
      ],
      "text/plain": [
       "    age         workclass    fnlwgt  education  education_num  \\\n",
       "0  39.0         State-gov   77516.0  Bachelors           13.0   \n",
       "1  50.0  Self-emp-not-inc   83311.0  Bachelors           13.0   \n",
       "2  38.0           Private  215646.0    HS-grad            9.0   \n",
       "\n",
       "       marital_status         occupation   relationship   race   sex  \\\n",
       "0       Never-married       Adm-clerical  Not-in-family  White  Male   \n",
       "1  Married-civ-spouse    Exec-managerial        Husband  White  Male   \n",
       "2            Divorced  Handlers-cleaners  Not-in-family  White  Male   \n",
       "\n",
       "   capital_gain  capital_loss  hours_per_week native_country  income  \n",
       "0          2174             0              40  United-States       0  \n",
       "1             0             0              13  United-States       0  \n",
       "2             0             0              40  United-States       0  "
      ]
     },
     "execution_count": 47,
     "metadata": {},
     "output_type": "execute_result"
    }
   ],
   "source": [
    "\n",
    "df['income'] = [0 if x == '<=50K' else 1 for x in df['income']]  \n",
    "df[:3]"
   ]
  },
  {
   "cell_type": "markdown",
   "metadata": {},
   "source": [
    "Assign X as a DataFrame of features and y as a Series of the outcome variable"
   ]
  },
  {
   "cell_type": "code",
   "execution_count": 48,
   "metadata": {
    "collapsed": true
   },
   "outputs": [],
   "source": [
    "\n",
    "X = df.drop('income', axis=1) #Whether to drop labels from the index (0 or ‘index’) or columns (1 or ‘columns’)\n",
    "y = df['income']"
   ]
  },
  {
   "cell_type": "code",
   "execution_count": 49,
   "metadata": {},
   "outputs": [
    {
     "data": {
      "text/html": [
       "<div>\n",
       "<style>\n",
       "    .dataframe thead tr:only-child th {\n",
       "        text-align: right;\n",
       "    }\n",
       "\n",
       "    .dataframe thead th {\n",
       "        text-align: left;\n",
       "    }\n",
       "\n",
       "    .dataframe tbody tr th {\n",
       "        vertical-align: top;\n",
       "    }\n",
       "</style>\n",
       "<table border=\"1\" class=\"dataframe\">\n",
       "  <thead>\n",
       "    <tr style=\"text-align: right;\">\n",
       "      <th></th>\n",
       "      <th>age</th>\n",
       "      <th>workclass</th>\n",
       "      <th>fnlwgt</th>\n",
       "      <th>education</th>\n",
       "      <th>education_num</th>\n",
       "      <th>marital_status</th>\n",
       "      <th>occupation</th>\n",
       "      <th>relationship</th>\n",
       "      <th>race</th>\n",
       "      <th>sex</th>\n",
       "      <th>capital_gain</th>\n",
       "      <th>capital_loss</th>\n",
       "      <th>hours_per_week</th>\n",
       "      <th>native_country</th>\n",
       "    </tr>\n",
       "  </thead>\n",
       "  <tbody>\n",
       "    <tr>\n",
       "      <th>0</th>\n",
       "      <td>39.0</td>\n",
       "      <td>State-gov</td>\n",
       "      <td>77516.0</td>\n",
       "      <td>Bachelors</td>\n",
       "      <td>13.0</td>\n",
       "      <td>Never-married</td>\n",
       "      <td>Adm-clerical</td>\n",
       "      <td>Not-in-family</td>\n",
       "      <td>White</td>\n",
       "      <td>Male</td>\n",
       "      <td>2174</td>\n",
       "      <td>0</td>\n",
       "      <td>40</td>\n",
       "      <td>United-States</td>\n",
       "    </tr>\n",
       "    <tr>\n",
       "      <th>1</th>\n",
       "      <td>50.0</td>\n",
       "      <td>Self-emp-not-inc</td>\n",
       "      <td>83311.0</td>\n",
       "      <td>Bachelors</td>\n",
       "      <td>13.0</td>\n",
       "      <td>Married-civ-spouse</td>\n",
       "      <td>Exec-managerial</td>\n",
       "      <td>Husband</td>\n",
       "      <td>White</td>\n",
       "      <td>Male</td>\n",
       "      <td>0</td>\n",
       "      <td>0</td>\n",
       "      <td>13</td>\n",
       "      <td>United-States</td>\n",
       "    </tr>\n",
       "    <tr>\n",
       "      <th>2</th>\n",
       "      <td>38.0</td>\n",
       "      <td>Private</td>\n",
       "      <td>215646.0</td>\n",
       "      <td>HS-grad</td>\n",
       "      <td>9.0</td>\n",
       "      <td>Divorced</td>\n",
       "      <td>Handlers-cleaners</td>\n",
       "      <td>Not-in-family</td>\n",
       "      <td>White</td>\n",
       "      <td>Male</td>\n",
       "      <td>0</td>\n",
       "      <td>0</td>\n",
       "      <td>40</td>\n",
       "      <td>United-States</td>\n",
       "    </tr>\n",
       "  </tbody>\n",
       "</table>\n",
       "</div>"
      ],
      "text/plain": [
       "    age         workclass    fnlwgt  education  education_num  \\\n",
       "0  39.0         State-gov   77516.0  Bachelors           13.0   \n",
       "1  50.0  Self-emp-not-inc   83311.0  Bachelors           13.0   \n",
       "2  38.0           Private  215646.0    HS-grad            9.0   \n",
       "\n",
       "       marital_status         occupation   relationship   race   sex  \\\n",
       "0       Never-married       Adm-clerical  Not-in-family  White  Male   \n",
       "1  Married-civ-spouse    Exec-managerial        Husband  White  Male   \n",
       "2            Divorced  Handlers-cleaners  Not-in-family  White  Male   \n",
       "\n",
       "   capital_gain  capital_loss  hours_per_week native_country  \n",
       "0          2174             0              40  United-States  \n",
       "1             0             0              13  United-States  \n",
       "2             0             0              40  United-States  "
      ]
     },
     "execution_count": 49,
     "metadata": {},
     "output_type": "execute_result"
    }
   ],
   "source": [
    "X[:3]"
   ]
  },
  {
   "cell_type": "code",
   "execution_count": 50,
   "metadata": {},
   "outputs": [
    {
     "data": {
      "text/plain": [
       "0    0\n",
       "1    0\n",
       "2    0\n",
       "Name: income, dtype: int64"
      ]
     },
     "execution_count": 50,
     "metadata": {},
     "output_type": "execute_result"
    }
   ],
   "source": [
    "y[:3]"
   ]
  },
  {
   "cell_type": "markdown",
   "metadata": {},
   "source": [
    "# Basic data cleaning"
   ]
  },
  {
   "cell_type": "markdown",
   "metadata": {},
   "source": [
    "#  Dealing with data types\n",
    "\n",
    "- There are three main data types:\n",
    "- Numeric, e.g. income, age\n",
    "- Categorical, e.g. gender, nationality\n",
    "- Ordinal, e.g. low/medium/high"
   ]
  },
  {
   "cell_type": "markdown",
   "metadata": {},
   "source": [
    "Models can only handle numeric features\n",
    "- So, we must convert categorical and ordinal features into numeric features\n",
    "- Create dummy features\n",
    "- Transform a categorical feature into a set of dummy features, each representing a unique category\n",
    "- In the set of dummy features, 1 indicates that the observation belongs to that category"
   ]
  },
  {
   "cell_type": "markdown",
   "metadata": {},
   "source": [
    "Education is a categorical feature:"
   ]
  },
  {
   "cell_type": "code",
   "execution_count": 51,
   "metadata": {},
   "outputs": [
    {
     "data": {
      "text/plain": [
       "0    Bachelors\n",
       "1    Bachelors\n",
       "2      HS-grad\n",
       "3         11th\n",
       "4    Bachelors\n",
       "Name: education, dtype: object"
      ]
     },
     "execution_count": 51,
     "metadata": {},
     "output_type": "execute_result"
    }
   ],
   "source": [
    "\n",
    "X['education'].head(5)"
   ]
  },
  {
   "cell_type": "code",
   "execution_count": 52,
   "metadata": {},
   "outputs": [
    {
     "data": {
      "text/plain": [
       "17"
      ]
     },
     "execution_count": 52,
     "metadata": {},
     "output_type": "execute_result"
    }
   ],
   "source": [
    "X['education'].nunique()"
   ]
  },
  {
   "cell_type": "code",
   "execution_count": 53,
   "metadata": {},
   "outputs": [
    {
     "data": {
      "text/plain": [
       "array(['Bachelors', 'HS-grad', '11th', 'Masters', '9th', 'Some-college',\n",
       "       'Assoc-acdm', 'Assoc-voc', '7th-8th', 'Doctorate', '?',\n",
       "       'Prof-school', '5th-6th', '10th', '1st-4th', 'Preschool', '12th'], dtype=object)"
      ]
     },
     "execution_count": 53,
     "metadata": {},
     "output_type": "execute_result"
    }
   ],
   "source": [
    "X['education'].unique()"
   ]
  },
  {
   "cell_type": "markdown",
   "metadata": {},
   "source": [
    "Use get_dummies in pandas"
   ]
  },
  {
   "cell_type": "code",
   "execution_count": 54,
   "metadata": {},
   "outputs": [
    {
     "data": {
      "text/html": [
       "<div>\n",
       "<style>\n",
       "    .dataframe thead tr:only-child th {\n",
       "        text-align: right;\n",
       "    }\n",
       "\n",
       "    .dataframe thead th {\n",
       "        text-align: left;\n",
       "    }\n",
       "\n",
       "    .dataframe tbody tr th {\n",
       "        vertical-align: top;\n",
       "    }\n",
       "</style>\n",
       "<table border=\"1\" class=\"dataframe\">\n",
       "  <thead>\n",
       "    <tr style=\"text-align: right;\">\n",
       "      <th></th>\n",
       "      <th>10th</th>\n",
       "      <th>11th</th>\n",
       "      <th>12th</th>\n",
       "      <th>1st-4th</th>\n",
       "      <th>5th-6th</th>\n",
       "      <th>7th-8th</th>\n",
       "      <th>9th</th>\n",
       "      <th>?</th>\n",
       "      <th>Assoc-acdm</th>\n",
       "      <th>Assoc-voc</th>\n",
       "      <th>Bachelors</th>\n",
       "      <th>Doctorate</th>\n",
       "      <th>HS-grad</th>\n",
       "      <th>Masters</th>\n",
       "      <th>Preschool</th>\n",
       "      <th>Prof-school</th>\n",
       "      <th>Some-college</th>\n",
       "    </tr>\n",
       "  </thead>\n",
       "  <tbody>\n",
       "    <tr>\n",
       "      <th>0</th>\n",
       "      <td>0</td>\n",
       "      <td>0</td>\n",
       "      <td>0</td>\n",
       "      <td>0</td>\n",
       "      <td>0</td>\n",
       "      <td>0</td>\n",
       "      <td>0</td>\n",
       "      <td>0</td>\n",
       "      <td>0</td>\n",
       "      <td>0</td>\n",
       "      <td>1</td>\n",
       "      <td>0</td>\n",
       "      <td>0</td>\n",
       "      <td>0</td>\n",
       "      <td>0</td>\n",
       "      <td>0</td>\n",
       "      <td>0</td>\n",
       "    </tr>\n",
       "    <tr>\n",
       "      <th>1</th>\n",
       "      <td>0</td>\n",
       "      <td>0</td>\n",
       "      <td>0</td>\n",
       "      <td>0</td>\n",
       "      <td>0</td>\n",
       "      <td>0</td>\n",
       "      <td>0</td>\n",
       "      <td>0</td>\n",
       "      <td>0</td>\n",
       "      <td>0</td>\n",
       "      <td>1</td>\n",
       "      <td>0</td>\n",
       "      <td>0</td>\n",
       "      <td>0</td>\n",
       "      <td>0</td>\n",
       "      <td>0</td>\n",
       "      <td>0</td>\n",
       "    </tr>\n",
       "    <tr>\n",
       "      <th>2</th>\n",
       "      <td>0</td>\n",
       "      <td>0</td>\n",
       "      <td>0</td>\n",
       "      <td>0</td>\n",
       "      <td>0</td>\n",
       "      <td>0</td>\n",
       "      <td>0</td>\n",
       "      <td>0</td>\n",
       "      <td>0</td>\n",
       "      <td>0</td>\n",
       "      <td>0</td>\n",
       "      <td>0</td>\n",
       "      <td>1</td>\n",
       "      <td>0</td>\n",
       "      <td>0</td>\n",
       "      <td>0</td>\n",
       "      <td>0</td>\n",
       "    </tr>\n",
       "    <tr>\n",
       "      <th>3</th>\n",
       "      <td>0</td>\n",
       "      <td>1</td>\n",
       "      <td>0</td>\n",
       "      <td>0</td>\n",
       "      <td>0</td>\n",
       "      <td>0</td>\n",
       "      <td>0</td>\n",
       "      <td>0</td>\n",
       "      <td>0</td>\n",
       "      <td>0</td>\n",
       "      <td>0</td>\n",
       "      <td>0</td>\n",
       "      <td>0</td>\n",
       "      <td>0</td>\n",
       "      <td>0</td>\n",
       "      <td>0</td>\n",
       "      <td>0</td>\n",
       "    </tr>\n",
       "    <tr>\n",
       "      <th>4</th>\n",
       "      <td>0</td>\n",
       "      <td>0</td>\n",
       "      <td>0</td>\n",
       "      <td>0</td>\n",
       "      <td>0</td>\n",
       "      <td>0</td>\n",
       "      <td>0</td>\n",
       "      <td>0</td>\n",
       "      <td>0</td>\n",
       "      <td>0</td>\n",
       "      <td>1</td>\n",
       "      <td>0</td>\n",
       "      <td>0</td>\n",
       "      <td>0</td>\n",
       "      <td>0</td>\n",
       "      <td>0</td>\n",
       "      <td>0</td>\n",
       "    </tr>\n",
       "  </tbody>\n",
       "</table>\n",
       "</div>"
      ],
      "text/plain": [
       "   10th  11th  12th  1st-4th  5th-6th  7th-8th  9th  ?  Assoc-acdm  Assoc-voc  \\\n",
       "0     0     0     0        0        0        0    0  0           0          0   \n",
       "1     0     0     0        0        0        0    0  0           0          0   \n",
       "2     0     0     0        0        0        0    0  0           0          0   \n",
       "3     0     1     0        0        0        0    0  0           0          0   \n",
       "4     0     0     0        0        0        0    0  0           0          0   \n",
       "\n",
       "   Bachelors  Doctorate  HS-grad  Masters  Preschool  Prof-school  \\\n",
       "0          1          0        0        0          0            0   \n",
       "1          1          0        0        0          0            0   \n",
       "2          0          0        1        0          0            0   \n",
       "3          0          0        0        0          0            0   \n",
       "4          1          0        0        0          0            0   \n",
       "\n",
       "   Some-college  \n",
       "0             0  \n",
       "1             0  \n",
       "2             0  \n",
       "3             0  \n",
       "4             0  "
      ]
     },
     "execution_count": 54,
     "metadata": {},
     "output_type": "execute_result"
    }
   ],
   "source": [
    "\n",
    "pd.get_dummies(X['education']).head(5)"
   ]
  },
  {
   "cell_type": "code",
   "execution_count": 55,
   "metadata": {},
   "outputs": [
    {
     "data": {
      "text/plain": [
       "Private             3435\n",
       "Self-emp-not-inc     383\n",
       "?                    331\n",
       "Local-gov            329\n",
       "State-gov            193\n",
       "Self-emp-inc         182\n",
       "Federal-gov          146\n",
       "Without-pay            1\n",
       "Name: workclass, dtype: int64"
      ]
     },
     "execution_count": 55,
     "metadata": {},
     "output_type": "execute_result"
    }
   ],
   "source": [
    "X[\"workclass\"].value_counts()"
   ]
  },
  {
   "cell_type": "code",
   "execution_count": 56,
   "metadata": {},
   "outputs": [
    {
     "data": {
      "text/plain": [
       "array(['State-gov', 'Self-emp-not-inc', 'Private', 'Federal-gov',\n",
       "       'Local-gov', '?', 'Self-emp-inc', 'Without-pay'], dtype=object)"
      ]
     },
     "execution_count": 56,
     "metadata": {},
     "output_type": "execute_result"
    }
   ],
   "source": [
    "X[\"workclass\"].unique()"
   ]
  },
  {
   "cell_type": "markdown",
   "metadata": {},
   "source": [
    "Decide which categorical variables you want to use in model"
   ]
  },
  {
   "cell_type": "code",
   "execution_count": 57,
   "metadata": {},
   "outputs": [
    {
     "data": {
      "text/plain": [
       "Index(['age', 'workclass', 'fnlwgt', 'education', 'education_num',\n",
       "       'marital_status', 'occupation', 'relationship', 'race', 'sex',\n",
       "       'capital_gain', 'capital_loss', 'hours_per_week', 'native_country'],\n",
       "      dtype='object')"
      ]
     },
     "execution_count": 57,
     "metadata": {},
     "output_type": "execute_result"
    }
   ],
   "source": [
    "X.columns"
   ]
  },
  {
   "cell_type": "code",
   "execution_count": 59,
   "metadata": {},
   "outputs": [
    {
     "data": {
      "text/plain": [
       "age               float64\n",
       "workclass          object\n",
       "fnlwgt            float64\n",
       "education          object\n",
       "education_num     float64\n",
       "marital_status     object\n",
       "occupation         object\n",
       "relationship       object\n",
       "race               object\n",
       "sex                object\n",
       "capital_gain        int64\n",
       "capital_loss        int64\n",
       "hours_per_week      int64\n",
       "native_country     object\n",
       "dtype: object"
      ]
     },
     "execution_count": 59,
     "metadata": {},
     "output_type": "execute_result"
    }
   ],
   "source": [
    "X.dtypes"
   ]
  },
  {
   "cell_type": "code",
   "execution_count": 60,
   "metadata": {},
   "outputs": [
    {
     "name": "stdout",
     "output_type": "stream",
     "text": [
      "Feature 'workclass' has 8 unique categories\n",
      "Feature 'education' has 17 unique categories\n",
      "Feature 'marital_status' has 7 unique categories\n",
      "Feature 'occupation' has 15 unique categories\n",
      "Feature 'relationship' has 6 unique categories\n",
      "Feature 'race' has 6 unique categories\n",
      "Feature 'sex' has 3 unique categories\n",
      "Feature 'native_country' has 40 unique categories\n"
     ]
    }
   ],
   "source": [
    "\n",
    "for col_name in X.columns:\n",
    "    if X[col_name].dtypes == 'object':\n",
    "        unique_cat = len(X[col_name].unique())\n",
    "        print(\"Feature '{col_name}' has {unique_cat} unique categories\".format(col_name=col_name, unique_cat=unique_cat))"
   ]
  },
  {
   "cell_type": "code",
   "execution_count": 63,
   "metadata": {},
   "outputs": [
    {
     "data": {
      "text/plain": [
       "['Male', nan, 'Female']"
      ]
     },
     "execution_count": 63,
     "metadata": {},
     "output_type": "execute_result"
    }
   ],
   "source": [
    "X['sex'].unique().tolist()"
   ]
  },
  {
   "cell_type": "code",
   "execution_count": 61,
   "metadata": {},
   "outputs": [
    {
     "data": {
      "text/plain": [
       "['White', 'Black', 'Asian-Pac-Islander', 'Amer-Indian-Eskimo', nan, 'Other']"
      ]
     },
     "execution_count": 61,
     "metadata": {},
     "output_type": "execute_result"
    }
   ],
   "source": [
    "X['race'].unique().tolist()"
   ]
  },
  {
   "cell_type": "code",
   "execution_count": 62,
   "metadata": {},
   "outputs": [
    {
     "name": "stdout",
     "output_type": "stream",
     "text": [
      "Feature 'workclass' has 8 unique categories\n",
      "Feature 'education' has 17 unique categories\n",
      "Feature 'marital_status' has 7 unique categories\n",
      "Feature 'occupation' has 15 unique categories\n",
      "Feature 'relationship' has 6 unique categories\n",
      "Feature 'race' has 5 unique categories\n",
      "Feature 'sex' has 2 unique categories\n",
      "Feature 'native_country' has 40 unique categories\n"
     ]
    }
   ],
   "source": [
    "# nunique function ignores the 'nan'\n",
    "\n",
    "for col_name in X.columns:\n",
    "    if X[col_name].dtypes == 'object':\n",
    "        unique_cat = X[col_name].nunique()\n",
    "        print(\"Feature '{col_name}' has {unique_cat} unique categories\".format(col_name=col_name, unique_cat=unique_cat))"
   ]
  },
  {
   "cell_type": "markdown",
   "metadata": {},
   "source": [
    "Sorting"
   ]
  },
  {
   "cell_type": "code",
   "execution_count": 64,
   "metadata": {},
   "outputs": [
    {
     "data": {
      "text/plain": [
       "United-States    4465\n",
       "Mexico            104\n",
       "?                  97\n",
       "Canada             28\n",
       "Philippines        22\n",
       "Germany            22\n",
       "England            16\n",
       "Puerto-Rico        16\n",
       "El-Salvador        16\n",
       "China              15\n",
       "Name: native_country, dtype: int64"
      ]
     },
     "execution_count": 64,
     "metadata": {},
     "output_type": "execute_result"
    }
   ],
   "source": [
    "\n",
    "X['native_country'].value_counts().sort_values(ascending=False).head(10)"
   ]
  },
  {
   "cell_type": "markdown",
   "metadata": {},
   "source": [
    "In this case, bucket low frequecy categories as \"Other\""
   ]
  },
  {
   "cell_type": "code",
   "execution_count": 65,
   "metadata": {},
   "outputs": [
    {
     "name": "stdout",
     "output_type": "stream",
     "text": [
      "United-States     4465\n",
      "Other              535\n",
      "Name: native_country, dtype: int64\n"
     ]
    }
   ],
   "source": [
    "\n",
    "X['native_country'] = ['United-States ' if x == 'United-States' else 'Other' for x in X['native_country']]\n",
    "\n",
    "print(X['native_country'].value_counts().sort_values(ascending=False))"
   ]
  },
  {
   "cell_type": "markdown",
   "metadata": {},
   "source": [
    "Create a list of features to dummy"
   ]
  },
  {
   "cell_type": "code",
   "execution_count": 66,
   "metadata": {
    "collapsed": true
   },
   "outputs": [],
   "source": [
    "\n",
    "todummy_list = ['workclass', 'education', 'marital_status', 'occupation', 'relationship', 'race', 'sex', 'native_country']"
   ]
  },
  {
   "cell_type": "code",
   "execution_count": 67,
   "metadata": {},
   "outputs": [
    {
     "data": {
      "text/html": [
       "<div>\n",
       "<style>\n",
       "    .dataframe thead tr:only-child th {\n",
       "        text-align: right;\n",
       "    }\n",
       "\n",
       "    .dataframe thead th {\n",
       "        text-align: left;\n",
       "    }\n",
       "\n",
       "    .dataframe tbody tr th {\n",
       "        vertical-align: top;\n",
       "    }\n",
       "</style>\n",
       "<table border=\"1\" class=\"dataframe\">\n",
       "  <thead>\n",
       "    <tr style=\"text-align: right;\">\n",
       "      <th></th>\n",
       "      <th>age</th>\n",
       "      <th>workclass</th>\n",
       "      <th>fnlwgt</th>\n",
       "      <th>education</th>\n",
       "      <th>education_num</th>\n",
       "      <th>marital_status</th>\n",
       "      <th>occupation</th>\n",
       "      <th>relationship</th>\n",
       "      <th>race</th>\n",
       "      <th>sex</th>\n",
       "      <th>capital_gain</th>\n",
       "      <th>capital_loss</th>\n",
       "      <th>hours_per_week</th>\n",
       "      <th>native_country</th>\n",
       "    </tr>\n",
       "  </thead>\n",
       "  <tbody>\n",
       "    <tr>\n",
       "      <th>0</th>\n",
       "      <td>39.0</td>\n",
       "      <td>State-gov</td>\n",
       "      <td>77516.0</td>\n",
       "      <td>Bachelors</td>\n",
       "      <td>13.0</td>\n",
       "      <td>Never-married</td>\n",
       "      <td>Adm-clerical</td>\n",
       "      <td>Not-in-family</td>\n",
       "      <td>White</td>\n",
       "      <td>Male</td>\n",
       "      <td>2174</td>\n",
       "      <td>0</td>\n",
       "      <td>40</td>\n",
       "      <td>United-States</td>\n",
       "    </tr>\n",
       "    <tr>\n",
       "      <th>1</th>\n",
       "      <td>50.0</td>\n",
       "      <td>Self-emp-not-inc</td>\n",
       "      <td>83311.0</td>\n",
       "      <td>Bachelors</td>\n",
       "      <td>13.0</td>\n",
       "      <td>Married-civ-spouse</td>\n",
       "      <td>Exec-managerial</td>\n",
       "      <td>Husband</td>\n",
       "      <td>White</td>\n",
       "      <td>Male</td>\n",
       "      <td>0</td>\n",
       "      <td>0</td>\n",
       "      <td>13</td>\n",
       "      <td>United-States</td>\n",
       "    </tr>\n",
       "    <tr>\n",
       "      <th>2</th>\n",
       "      <td>38.0</td>\n",
       "      <td>Private</td>\n",
       "      <td>215646.0</td>\n",
       "      <td>HS-grad</td>\n",
       "      <td>9.0</td>\n",
       "      <td>Divorced</td>\n",
       "      <td>Handlers-cleaners</td>\n",
       "      <td>Not-in-family</td>\n",
       "      <td>White</td>\n",
       "      <td>Male</td>\n",
       "      <td>0</td>\n",
       "      <td>0</td>\n",
       "      <td>40</td>\n",
       "      <td>United-States</td>\n",
       "    </tr>\n",
       "  </tbody>\n",
       "</table>\n",
       "</div>"
      ],
      "text/plain": [
       "    age         workclass    fnlwgt  education  education_num  \\\n",
       "0  39.0         State-gov   77516.0  Bachelors           13.0   \n",
       "1  50.0  Self-emp-not-inc   83311.0  Bachelors           13.0   \n",
       "2  38.0           Private  215646.0    HS-grad            9.0   \n",
       "\n",
       "       marital_status         occupation   relationship   race   sex  \\\n",
       "0       Never-married       Adm-clerical  Not-in-family  White  Male   \n",
       "1  Married-civ-spouse    Exec-managerial        Husband  White  Male   \n",
       "2            Divorced  Handlers-cleaners  Not-in-family  White  Male   \n",
       "\n",
       "   capital_gain  capital_loss  hours_per_week  native_country  \n",
       "0          2174             0              40  United-States   \n",
       "1             0             0              13  United-States   \n",
       "2             0             0              40  United-States   "
      ]
     },
     "execution_count": 67,
     "metadata": {},
     "output_type": "execute_result"
    }
   ],
   "source": [
    "X[:3]"
   ]
  },
  {
   "cell_type": "markdown",
   "metadata": {},
   "source": [
    "Function to dummy all the categorical variables used for modeling"
   ]
  },
  {
   "cell_type": "code",
   "execution_count": 68,
   "metadata": {
    "collapsed": true
   },
   "outputs": [],
   "source": [
    "\n",
    "def dummy_df(df, todummy_list):\n",
    "    for x in todummy_list:\n",
    "        dummies = pd.get_dummies(df[x], prefix=x, dummy_na=False)\n",
    "        df = df.drop(x, 1)\n",
    "        df = pd.concat([df, dummies], axis=1)\n",
    "    return df"
   ]
  },
  {
   "cell_type": "code",
   "execution_count": 69,
   "metadata": {
    "collapsed": true
   },
   "outputs": [],
   "source": [
    "X = dummy_df(X, todummy_list)"
   ]
  },
  {
   "cell_type": "code",
   "execution_count": 70,
   "metadata": {},
   "outputs": [
    {
     "data": {
      "text/html": [
       "<div>\n",
       "<style>\n",
       "    .dataframe thead tr:only-child th {\n",
       "        text-align: right;\n",
       "    }\n",
       "\n",
       "    .dataframe thead th {\n",
       "        text-align: left;\n",
       "    }\n",
       "\n",
       "    .dataframe tbody tr th {\n",
       "        vertical-align: top;\n",
       "    }\n",
       "</style>\n",
       "<table border=\"1\" class=\"dataframe\">\n",
       "  <thead>\n",
       "    <tr style=\"text-align: right;\">\n",
       "      <th></th>\n",
       "      <th>age</th>\n",
       "      <th>fnlwgt</th>\n",
       "      <th>education_num</th>\n",
       "      <th>capital_gain</th>\n",
       "      <th>capital_loss</th>\n",
       "      <th>hours_per_week</th>\n",
       "      <th>workclass_?</th>\n",
       "      <th>workclass_Federal-gov</th>\n",
       "      <th>workclass_Local-gov</th>\n",
       "      <th>workclass_Private</th>\n",
       "      <th>...</th>\n",
       "      <th>relationship_Wife</th>\n",
       "      <th>race_Amer-Indian-Eskimo</th>\n",
       "      <th>race_Asian-Pac-Islander</th>\n",
       "      <th>race_Black</th>\n",
       "      <th>race_Other</th>\n",
       "      <th>race_White</th>\n",
       "      <th>sex_Female</th>\n",
       "      <th>sex_Male</th>\n",
       "      <th>native_country_Other</th>\n",
       "      <th>native_country_United-States</th>\n",
       "    </tr>\n",
       "  </thead>\n",
       "  <tbody>\n",
       "    <tr>\n",
       "      <th>0</th>\n",
       "      <td>39.0</td>\n",
       "      <td>77516.0</td>\n",
       "      <td>13.0</td>\n",
       "      <td>2174</td>\n",
       "      <td>0</td>\n",
       "      <td>40</td>\n",
       "      <td>0</td>\n",
       "      <td>0</td>\n",
       "      <td>0</td>\n",
       "      <td>0</td>\n",
       "      <td>...</td>\n",
       "      <td>0</td>\n",
       "      <td>0</td>\n",
       "      <td>0</td>\n",
       "      <td>0</td>\n",
       "      <td>0</td>\n",
       "      <td>1</td>\n",
       "      <td>0</td>\n",
       "      <td>1</td>\n",
       "      <td>0</td>\n",
       "      <td>1</td>\n",
       "    </tr>\n",
       "    <tr>\n",
       "      <th>1</th>\n",
       "      <td>50.0</td>\n",
       "      <td>83311.0</td>\n",
       "      <td>13.0</td>\n",
       "      <td>0</td>\n",
       "      <td>0</td>\n",
       "      <td>13</td>\n",
       "      <td>0</td>\n",
       "      <td>0</td>\n",
       "      <td>0</td>\n",
       "      <td>0</td>\n",
       "      <td>...</td>\n",
       "      <td>0</td>\n",
       "      <td>0</td>\n",
       "      <td>0</td>\n",
       "      <td>0</td>\n",
       "      <td>0</td>\n",
       "      <td>1</td>\n",
       "      <td>0</td>\n",
       "      <td>1</td>\n",
       "      <td>0</td>\n",
       "      <td>1</td>\n",
       "    </tr>\n",
       "  </tbody>\n",
       "</table>\n",
       "<p>2 rows × 68 columns</p>\n",
       "</div>"
      ],
      "text/plain": [
       "    age   fnlwgt  education_num  capital_gain  capital_loss  hours_per_week  \\\n",
       "0  39.0  77516.0           13.0          2174             0              40   \n",
       "1  50.0  83311.0           13.0             0             0              13   \n",
       "\n",
       "   workclass_?  workclass_Federal-gov  workclass_Local-gov  workclass_Private  \\\n",
       "0            0                      0                    0                  0   \n",
       "1            0                      0                    0                  0   \n",
       "\n",
       "               ...                relationship_Wife  race_Amer-Indian-Eskimo  \\\n",
       "0              ...                                0                        0   \n",
       "1              ...                                0                        0   \n",
       "\n",
       "   race_Asian-Pac-Islander  race_Black  race_Other  race_White  sex_Female  \\\n",
       "0                        0           0           0           1           0   \n",
       "1                        0           0           0           1           0   \n",
       "\n",
       "   sex_Male  native_country_Other  native_country_United-States   \n",
       "0         1                     0                              1  \n",
       "1         1                     0                              1  \n",
       "\n",
       "[2 rows x 68 columns]"
      ]
     },
     "execution_count": 70,
     "metadata": {},
     "output_type": "execute_result"
    }
   ],
   "source": [
    "X[:2]"
   ]
  },
  {
   "cell_type": "code",
   "execution_count": 72,
   "metadata": {
    "collapsed": true
   },
   "outputs": [],
   "source": [
    "# X.T"
   ]
  },
  {
   "cell_type": "markdown",
   "metadata": {},
   "source": [
    "#  Handling missing data\n",
    "    \n",
    "Models can not handle missing data\n",
    "\n",
    "Simplest solutionis to remove observations/features that have missing data\n",
    "\n",
    "But, removing missing data can introduce a lot of issues\n",
    "Data is randomly missing: potentially lose a lot of your data\n",
    "Data is non-randomly missing: in addition to losing data, you are also introducing potential biases    \n",
    "Usually, this is a poor solution\n",
    "\n",
    "An alternative solution is to use imputation\n",
    "- Replace missing value with another value\n",
    "\n",
    "- Strategies: mean, median, highest frequency value of given feature"
   ]
  },
  {
   "cell_type": "code",
   "execution_count": 73,
   "metadata": {},
   "outputs": [
    {
     "data": {
      "text/plain": [
       "fnlwgt                 107\n",
       "education_num           57\n",
       "age                     48\n",
       "education_Doctorate      0\n",
       "education_7th-8th        0\n",
       "dtype: int64"
      ]
     },
     "execution_count": 73,
     "metadata": {},
     "output_type": "execute_result"
    }
   ],
   "source": [
    "# How much of your data is missing?\n",
    "\n",
    "X.isnull().sum().sort_values(ascending=False).head()"
   ]
  },
  {
   "cell_type": "markdown",
   "metadata": {},
   "source": [
    "Impute missing values using Imputer in sklearn.preprocessing"
   ]
  },
  {
   "cell_type": "code",
   "execution_count": 74,
   "metadata": {
    "collapsed": true
   },
   "outputs": [],
   "source": [
    "\n",
    "from sklearn.preprocessing import Imputer\n",
    "\n",
    "imp = Imputer(missing_values='NaN', strategy='median', axis=0)\n",
    "imp.fit(X)\n",
    "\n",
    "X = pd.DataFrame(data=imp.transform(X) , columns=X.columns)"
   ]
  },
  {
   "cell_type": "markdown",
   "metadata": {},
   "source": [
    "sanity check on missing data"
   ]
  },
  {
   "cell_type": "code",
   "execution_count": 76,
   "metadata": {},
   "outputs": [
    {
     "data": {
      "text/plain": [
       "native_country_United-States     0\n",
       "education_Bachelors              0\n",
       "education_5th-6th                0\n",
       "education_7th-8th                0\n",
       "education_9th                    0\n",
       "dtype: int64"
      ]
     },
     "execution_count": 76,
     "metadata": {},
     "output_type": "execute_result"
    }
   ],
   "source": [
    "\n",
    "X.isnull().sum().sort_values(ascending=False).head()"
   ]
  },
  {
   "cell_type": "markdown",
   "metadata": {},
   "source": [
    "## Distribution of Features"
   ]
  },
  {
   "cell_type": "code",
   "execution_count": null,
   "metadata": {
    "collapsed": true
   },
   "outputs": [],
   "source": [
    "# A histogram is a simple representation of the distribution of values for a given feature\n",
    "# X-axis represents value bins and y-axis represents the frequency of an observation falling into that bin\n",
    "# It is also interesting to look at distributions broken up by outcome categories"
   ]
  },
  {
   "cell_type": "code",
   "execution_count": 89,
   "metadata": {
    "collapsed": true
   },
   "outputs": [],
   "source": [
    "# Use pyplot in matplotlib to plot histograms\n",
    "\n",
    "# %matplotlib inline\n",
    "import matplotlib.pyplot as plt\n",
    "\n",
    "def plot_histogram(x):\n",
    "    plt.hist(x, color='orange') # alpha=0.5\n",
    "    plt.title(\"Histogram of '{var_name}'\".format(var_name=x.name))\n",
    "    plt.xlabel(\"Value\")\n",
    "    plt.ylabel(\"Frequency\")\n",
    "    plt.show()"
   ]
  },
  {
   "cell_type": "code",
   "execution_count": 90,
   "metadata": {
    "scrolled": true
   },
   "outputs": [
    {
     "data": {
      "image/png": "[encoded data removed]",
      "text/plain": [
       "<matplotlib.figure.Figure at 0xc928358>"
      ]
     },
     "metadata": {},
     "output_type": "display_data"
    }
   ],
   "source": [
    "plot_histogram(X['age'])"
   ]
  },
  {
   "cell_type": "markdown",
   "metadata": {},
   "source": [
    "# Categorical conversions"
   ]
  },
  {
   "cell_type": "markdown",
   "metadata": {},
   "source": [
    "Define the headers since the data does not have any"
   ]
  },
  {
   "cell_type": "code",
   "execution_count": 83,
   "metadata": {
    "collapsed": true
   },
   "outputs": [],
   "source": [
    "headers = [\"symboling\", \"normalized_losses\", \"make\", \"fuel_type\", \"aspiration\",\n",
    "           \"num_doors\", \"body_style\", \"drive_wheels\", \"engine_location\",\n",
    "           \"wheel_base\", \"length\", \"width\", \"height\", \"curb_weight\",\n",
    "           \"engine_type\", \"num_cylinders\", \"engine_size\", \"fuel_system\",\n",
    "           \"bore\", \"stroke\", \"compression_ratio\", \"horsepower\", \"peak_rpm\",\n",
    "           \"city_mpg\", \"highway_mpg\", \"price\"]"
   ]
  },
  {
   "cell_type": "markdown",
   "metadata": {},
   "source": [
    "Read in the CSV file and convert \"?\" to NaN"
   ]
  },
  {
   "cell_type": "code",
   "execution_count": 84,
   "metadata": {
    "collapsed": true
   },
   "outputs": [],
   "source": [
    "df = pd.read_csv(\"http://mlr.cs.umass.edu/ml/machine-learning-databases/autos/imports-85.data\",\n",
    "                  header=None, names=headers, na_values=\"?\" )"
   ]
  },
  {
   "cell_type": "code",
   "execution_count": 85,
   "metadata": {},
   "outputs": [
    {
     "data": {
      "text/html": [
       "<div>\n",
       "<style>\n",
       "    .dataframe thead tr:only-child th {\n",
       "        text-align: right;\n",
       "    }\n",
       "\n",
       "    .dataframe thead th {\n",
       "        text-align: left;\n",
       "    }\n",
       "\n",
       "    .dataframe tbody tr th {\n",
       "        vertical-align: top;\n",
       "    }\n",
       "</style>\n",
       "<table border=\"1\" class=\"dataframe\">\n",
       "  <thead>\n",
       "    <tr style=\"text-align: right;\">\n",
       "      <th></th>\n",
       "      <th>symboling</th>\n",
       "      <th>normalized_losses</th>\n",
       "      <th>make</th>\n",
       "      <th>fuel_type</th>\n",
       "      <th>aspiration</th>\n",
       "      <th>num_doors</th>\n",
       "      <th>body_style</th>\n",
       "      <th>drive_wheels</th>\n",
       "      <th>engine_location</th>\n",
       "      <th>wheel_base</th>\n",
       "      <th>...</th>\n",
       "      <th>engine_size</th>\n",
       "      <th>fuel_system</th>\n",
       "      <th>bore</th>\n",
       "      <th>stroke</th>\n",
       "      <th>compression_ratio</th>\n",
       "      <th>horsepower</th>\n",
       "      <th>peak_rpm</th>\n",
       "      <th>city_mpg</th>\n",
       "      <th>highway_mpg</th>\n",
       "      <th>price</th>\n",
       "    </tr>\n",
       "  </thead>\n",
       "  <tbody>\n",
       "    <tr>\n",
       "      <th>0</th>\n",
       "      <td>3</td>\n",
       "      <td>NaN</td>\n",
       "      <td>alfa-romero</td>\n",
       "      <td>gas</td>\n",
       "      <td>std</td>\n",
       "      <td>two</td>\n",
       "      <td>convertible</td>\n",
       "      <td>rwd</td>\n",
       "      <td>front</td>\n",
       "      <td>88.6</td>\n",
       "      <td>...</td>\n",
       "      <td>130</td>\n",
       "      <td>mpfi</td>\n",
       "      <td>3.47</td>\n",
       "      <td>2.68</td>\n",
       "      <td>9.0</td>\n",
       "      <td>111.0</td>\n",
       "      <td>5000.0</td>\n",
       "      <td>21</td>\n",
       "      <td>27</td>\n",
       "      <td>13495.0</td>\n",
       "    </tr>\n",
       "    <tr>\n",
       "      <th>1</th>\n",
       "      <td>3</td>\n",
       "      <td>NaN</td>\n",
       "      <td>alfa-romero</td>\n",
       "      <td>gas</td>\n",
       "      <td>std</td>\n",
       "      <td>two</td>\n",
       "      <td>convertible</td>\n",
       "      <td>rwd</td>\n",
       "      <td>front</td>\n",
       "      <td>88.6</td>\n",
       "      <td>...</td>\n",
       "      <td>130</td>\n",
       "      <td>mpfi</td>\n",
       "      <td>3.47</td>\n",
       "      <td>2.68</td>\n",
       "      <td>9.0</td>\n",
       "      <td>111.0</td>\n",
       "      <td>5000.0</td>\n",
       "      <td>21</td>\n",
       "      <td>27</td>\n",
       "      <td>16500.0</td>\n",
       "    </tr>\n",
       "    <tr>\n",
       "      <th>2</th>\n",
       "      <td>1</td>\n",
       "      <td>NaN</td>\n",
       "      <td>alfa-romero</td>\n",
       "      <td>gas</td>\n",
       "      <td>std</td>\n",
       "      <td>two</td>\n",
       "      <td>hatchback</td>\n",
       "      <td>rwd</td>\n",
       "      <td>front</td>\n",
       "      <td>94.5</td>\n",
       "      <td>...</td>\n",
       "      <td>152</td>\n",
       "      <td>mpfi</td>\n",
       "      <td>2.68</td>\n",
       "      <td>3.47</td>\n",
       "      <td>9.0</td>\n",
       "      <td>154.0</td>\n",
       "      <td>5000.0</td>\n",
       "      <td>19</td>\n",
       "      <td>26</td>\n",
       "      <td>16500.0</td>\n",
       "    </tr>\n",
       "    <tr>\n",
       "      <th>3</th>\n",
       "      <td>2</td>\n",
       "      <td>164.0</td>\n",
       "      <td>audi</td>\n",
       "      <td>gas</td>\n",
       "      <td>std</td>\n",
       "      <td>four</td>\n",
       "      <td>sedan</td>\n",
       "      <td>fwd</td>\n",
       "      <td>front</td>\n",
       "      <td>99.8</td>\n",
       "      <td>...</td>\n",
       "      <td>109</td>\n",
       "      <td>mpfi</td>\n",
       "      <td>3.19</td>\n",
       "      <td>3.40</td>\n",
       "      <td>10.0</td>\n",
       "      <td>102.0</td>\n",
       "      <td>5500.0</td>\n",
       "      <td>24</td>\n",
       "      <td>30</td>\n",
       "      <td>13950.0</td>\n",
       "    </tr>\n",
       "    <tr>\n",
       "      <th>4</th>\n",
       "      <td>2</td>\n",
       "      <td>164.0</td>\n",
       "      <td>audi</td>\n",
       "      <td>gas</td>\n",
       "      <td>std</td>\n",
       "      <td>four</td>\n",
       "      <td>sedan</td>\n",
       "      <td>4wd</td>\n",
       "      <td>front</td>\n",
       "      <td>99.4</td>\n",
       "      <td>...</td>\n",
       "      <td>136</td>\n",
       "      <td>mpfi</td>\n",
       "      <td>3.19</td>\n",
       "      <td>3.40</td>\n",
       "      <td>8.0</td>\n",
       "      <td>115.0</td>\n",
       "      <td>5500.0</td>\n",
       "      <td>18</td>\n",
       "      <td>22</td>\n",
       "      <td>17450.0</td>\n",
       "    </tr>\n",
       "  </tbody>\n",
       "</table>\n",
       "<p>5 rows × 26 columns</p>\n",
       "</div>"
      ],
      "text/plain": [
       "   symboling  normalized_losses         make fuel_type aspiration num_doors  \\\n",
       "0          3                NaN  alfa-romero       gas        std       two   \n",
       "1          3                NaN  alfa-romero       gas        std       two   \n",
       "2          1                NaN  alfa-romero       gas        std       two   \n",
       "3          2              164.0         audi       gas        std      four   \n",
       "4          2              164.0         audi       gas        std      four   \n",
       "\n",
       "    body_style drive_wheels engine_location  wheel_base   ...     engine_size  \\\n",
       "0  convertible          rwd           front        88.6   ...             130   \n",
       "1  convertible          rwd           front        88.6   ...             130   \n",
       "2    hatchback          rwd           front        94.5   ...             152   \n",
       "3        sedan          fwd           front        99.8   ...             109   \n",
       "4        sedan          4wd           front        99.4   ...             136   \n",
       "\n",
       "   fuel_system  bore  stroke compression_ratio horsepower  peak_rpm city_mpg  \\\n",
       "0         mpfi  3.47    2.68               9.0      111.0    5000.0       21   \n",
       "1         mpfi  3.47    2.68               9.0      111.0    5000.0       21   \n",
       "2         mpfi  2.68    3.47               9.0      154.0    5000.0       19   \n",
       "3         mpfi  3.19    3.40              10.0      102.0    5500.0       24   \n",
       "4         mpfi  3.19    3.40               8.0      115.0    5500.0       18   \n",
       "\n",
       "   highway_mpg    price  \n",
       "0           27  13495.0  \n",
       "1           27  16500.0  \n",
       "2           26  16500.0  \n",
       "3           30  13950.0  \n",
       "4           22  17450.0  \n",
       "\n",
       "[5 rows x 26 columns]"
      ]
     },
     "execution_count": 85,
     "metadata": {},
     "output_type": "execute_result"
    }
   ],
   "source": [
    "df.head()"
   ]
  },
  {
   "cell_type": "code",
   "execution_count": 86,
   "metadata": {
    "collapsed": true
   },
   "outputs": [],
   "source": [
    "# df.to_csv('Auto.csv')"
   ]
  },
  {
   "cell_type": "code",
   "execution_count": 89,
   "metadata": {},
   "outputs": [],
   "source": [
    "# pd.read_csv('Auto.csv', index_col=0)"
   ]
  },
  {
   "cell_type": "code",
   "execution_count": 77,
   "metadata": {},
   "outputs": [
    {
     "data": {
      "text/plain": [
       "symboling              int64\n",
       "normalized_losses    float64\n",
       "make                  object\n",
       "fuel_type             object\n",
       "aspiration            object\n",
       "num_doors             object\n",
       "body_style            object\n",
       "drive_wheels          object\n",
       "engine_location       object\n",
       "wheel_base           float64\n",
       "length               float64\n",
       "width                float64\n",
       "height               float64\n",
       "curb_weight            int64\n",
       "engine_type           object\n",
       "num_cylinders         object\n",
       "engine_size            int64\n",
       "fuel_system           object\n",
       "bore                 float64\n",
       "stroke               float64\n",
       "compression_ratio    float64\n",
       "horsepower           float64\n",
       "peak_rpm             float64\n",
       "city_mpg               int64\n",
       "highway_mpg            int64\n",
       "price                float64\n",
       "dtype: object"
      ]
     },
     "execution_count": 77,
     "metadata": {},
     "output_type": "execute_result"
    }
   ],
   "source": [
    "df.dtypes"
   ]
  },
  {
   "cell_type": "markdown",
   "metadata": {},
   "source": [
    "select type 'object'"
   ]
  },
  {
   "cell_type": "code",
   "execution_count": 78,
   "metadata": {},
   "outputs": [
    {
     "data": {
      "text/html": [
       "<div>\n",
       "<style>\n",
       "    .dataframe thead tr:only-child th {\n",
       "        text-align: right;\n",
       "    }\n",
       "\n",
       "    .dataframe thead th {\n",
       "        text-align: left;\n",
       "    }\n",
       "\n",
       "    .dataframe tbody tr th {\n",
       "        vertical-align: top;\n",
       "    }\n",
       "</style>\n",
       "<table border=\"1\" class=\"dataframe\">\n",
       "  <thead>\n",
       "    <tr style=\"text-align: right;\">\n",
       "      <th></th>\n",
       "      <th>make</th>\n",
       "      <th>fuel_type</th>\n",
       "      <th>aspiration</th>\n",
       "      <th>num_doors</th>\n",
       "      <th>body_style</th>\n",
       "      <th>drive_wheels</th>\n",
       "      <th>engine_location</th>\n",
       "      <th>engine_type</th>\n",
       "      <th>num_cylinders</th>\n",
       "      <th>fuel_system</th>\n",
       "    </tr>\n",
       "  </thead>\n",
       "  <tbody>\n",
       "    <tr>\n",
       "      <th>0</th>\n",
       "      <td>alfa-romero</td>\n",
       "      <td>gas</td>\n",
       "      <td>std</td>\n",
       "      <td>two</td>\n",
       "      <td>convertible</td>\n",
       "      <td>rwd</td>\n",
       "      <td>front</td>\n",
       "      <td>dohc</td>\n",
       "      <td>four</td>\n",
       "      <td>mpfi</td>\n",
       "    </tr>\n",
       "    <tr>\n",
       "      <th>1</th>\n",
       "      <td>alfa-romero</td>\n",
       "      <td>gas</td>\n",
       "      <td>std</td>\n",
       "      <td>two</td>\n",
       "      <td>convertible</td>\n",
       "      <td>rwd</td>\n",
       "      <td>front</td>\n",
       "      <td>dohc</td>\n",
       "      <td>four</td>\n",
       "      <td>mpfi</td>\n",
       "    </tr>\n",
       "    <tr>\n",
       "      <th>2</th>\n",
       "      <td>alfa-romero</td>\n",
       "      <td>gas</td>\n",
       "      <td>std</td>\n",
       "      <td>two</td>\n",
       "      <td>hatchback</td>\n",
       "      <td>rwd</td>\n",
       "      <td>front</td>\n",
       "      <td>ohcv</td>\n",
       "      <td>six</td>\n",
       "      <td>mpfi</td>\n",
       "    </tr>\n",
       "    <tr>\n",
       "      <th>3</th>\n",
       "      <td>audi</td>\n",
       "      <td>gas</td>\n",
       "      <td>std</td>\n",
       "      <td>four</td>\n",
       "      <td>sedan</td>\n",
       "      <td>fwd</td>\n",
       "      <td>front</td>\n",
       "      <td>ohc</td>\n",
       "      <td>four</td>\n",
       "      <td>mpfi</td>\n",
       "    </tr>\n",
       "    <tr>\n",
       "      <th>4</th>\n",
       "      <td>audi</td>\n",
       "      <td>gas</td>\n",
       "      <td>std</td>\n",
       "      <td>four</td>\n",
       "      <td>sedan</td>\n",
       "      <td>4wd</td>\n",
       "      <td>front</td>\n",
       "      <td>ohc</td>\n",
       "      <td>five</td>\n",
       "      <td>mpfi</td>\n",
       "    </tr>\n",
       "  </tbody>\n",
       "</table>\n",
       "</div>"
      ],
      "text/plain": [
       "          make fuel_type aspiration num_doors   body_style drive_wheels  \\\n",
       "0  alfa-romero       gas        std       two  convertible          rwd   \n",
       "1  alfa-romero       gas        std       two  convertible          rwd   \n",
       "2  alfa-romero       gas        std       two    hatchback          rwd   \n",
       "3         audi       gas        std      four        sedan          fwd   \n",
       "4         audi       gas        std      four        sedan          4wd   \n",
       "\n",
       "  engine_location engine_type num_cylinders fuel_system  \n",
       "0           front        dohc          four        mpfi  \n",
       "1           front        dohc          four        mpfi  \n",
       "2           front        ohcv           six        mpfi  \n",
       "3           front         ohc          four        mpfi  \n",
       "4           front         ohc          five        mpfi  "
      ]
     },
     "execution_count": 78,
     "metadata": {},
     "output_type": "execute_result"
    }
   ],
   "source": [
    "obj_col = df.select_dtypes(include=['object'])\n",
    "obj_col.head()"
   ]
  },
  {
   "cell_type": "code",
   "execution_count": 80,
   "metadata": {
    "collapsed": true
   },
   "outputs": [],
   "source": [
    "# obj_col[obj_col.isnull()]"
   ]
  },
  {
   "cell_type": "code",
   "execution_count": 82,
   "metadata": {},
   "outputs": [
    {
     "data": {
      "text/html": [
       "<div>\n",
       "<style>\n",
       "    .dataframe thead tr:only-child th {\n",
       "        text-align: right;\n",
       "    }\n",
       "\n",
       "    .dataframe thead th {\n",
       "        text-align: left;\n",
       "    }\n",
       "\n",
       "    .dataframe tbody tr th {\n",
       "        vertical-align: top;\n",
       "    }\n",
       "</style>\n",
       "<table border=\"1\" class=\"dataframe\">\n",
       "  <thead>\n",
       "    <tr style=\"text-align: right;\">\n",
       "      <th></th>\n",
       "      <th>make</th>\n",
       "      <th>fuel_type</th>\n",
       "      <th>aspiration</th>\n",
       "      <th>num_doors</th>\n",
       "      <th>body_style</th>\n",
       "      <th>drive_wheels</th>\n",
       "      <th>engine_location</th>\n",
       "      <th>engine_type</th>\n",
       "      <th>num_cylinders</th>\n",
       "      <th>fuel_system</th>\n",
       "    </tr>\n",
       "  </thead>\n",
       "  <tbody>\n",
       "    <tr>\n",
       "      <th>27</th>\n",
       "      <td>dodge</td>\n",
       "      <td>gas</td>\n",
       "      <td>turbo</td>\n",
       "      <td>NaN</td>\n",
       "      <td>sedan</td>\n",
       "      <td>fwd</td>\n",
       "      <td>front</td>\n",
       "      <td>ohc</td>\n",
       "      <td>four</td>\n",
       "      <td>mpfi</td>\n",
       "    </tr>\n",
       "    <tr>\n",
       "      <th>63</th>\n",
       "      <td>mazda</td>\n",
       "      <td>diesel</td>\n",
       "      <td>std</td>\n",
       "      <td>NaN</td>\n",
       "      <td>sedan</td>\n",
       "      <td>fwd</td>\n",
       "      <td>front</td>\n",
       "      <td>ohc</td>\n",
       "      <td>four</td>\n",
       "      <td>idi</td>\n",
       "    </tr>\n",
       "  </tbody>\n",
       "</table>\n",
       "</div>"
      ],
      "text/plain": [
       "     make fuel_type aspiration num_doors body_style drive_wheels  \\\n",
       "27  dodge       gas      turbo       NaN      sedan          fwd   \n",
       "63  mazda    diesel        std       NaN      sedan          fwd   \n",
       "\n",
       "   engine_location engine_type num_cylinders fuel_system  \n",
       "27           front         ohc          four        mpfi  \n",
       "63           front         ohc          four         idi  "
      ]
     },
     "execution_count": 82,
     "metadata": {},
     "output_type": "execute_result"
    }
   ],
   "source": [
    "obj_col[obj_col.isnull().any(axis=1)]"
   ]
  },
  {
   "cell_type": "markdown",
   "metadata": {},
   "source": [
    "Get the frequency of a feature"
   ]
  },
  {
   "cell_type": "code",
   "execution_count": 163,
   "metadata": {},
   "outputs": [
    {
     "data": {
      "text/plain": [
       "four    114\n",
       "two      89\n",
       "Name: num_doors, dtype: int64"
      ]
     },
     "execution_count": 163,
     "metadata": {},
     "output_type": "execute_result"
    }
   ],
   "source": [
    "obj_col['num_doors'].value_counts()"
   ]
  },
  {
   "cell_type": "markdown",
   "metadata": {},
   "source": [
    "Since the mode is four, let's replace the null values with four"
   ]
  },
  {
   "cell_type": "code",
   "execution_count": 164,
   "metadata": {
    "collapsed": true
   },
   "outputs": [],
   "source": [
    "obj_col = obj_col.fillna({'num_doors': 'four'})"
   ]
  },
  {
   "cell_type": "markdown",
   "metadata": {},
   "source": [
    "# One hot encoding\n",
    "\n",
    "A one hot encoding is a representation of categorical variables as binary vectors"
   ]
  },
  {
   "cell_type": "code",
   "execution_count": 165,
   "metadata": {
    "collapsed": true
   },
   "outputs": [],
   "source": [
    "from sklearn.preprocessing import OneHotEncoder, LabelEncoder, LabelBinarizer"
   ]
  },
  {
   "cell_type": "code",
   "execution_count": 166,
   "metadata": {},
   "outputs": [
    {
     "data": {
      "text/plain": [
       "sedan          96\n",
       "hatchback      70\n",
       "wagon          25\n",
       "hardtop         8\n",
       "convertible     6\n",
       "Name: body_style, dtype: int64"
      ]
     },
     "execution_count": 166,
     "metadata": {},
     "output_type": "execute_result"
    }
   ],
   "source": [
    "obj_col['body_style'].value_counts() "
   ]
  },
  {
   "cell_type": "markdown",
   "metadata": {},
   "source": [
    "Get dummies of \"body_style\", \"drive_wheels\" features"
   ]
  },
  {
   "cell_type": "code",
   "execution_count": 167,
   "metadata": {},
   "outputs": [
    {
     "data": {
      "text/html": [
       "<div>\n",
       "<style>\n",
       "    .dataframe thead tr:only-child th {\n",
       "        text-align: right;\n",
       "    }\n",
       "\n",
       "    .dataframe thead th {\n",
       "        text-align: left;\n",
       "    }\n",
       "\n",
       "    .dataframe tbody tr th {\n",
       "        vertical-align: top;\n",
       "    }\n",
       "</style>\n",
       "<table border=\"1\" class=\"dataframe\">\n",
       "  <thead>\n",
       "    <tr style=\"text-align: right;\">\n",
       "      <th></th>\n",
       "      <th>make</th>\n",
       "      <th>fuel_type</th>\n",
       "      <th>aspiration</th>\n",
       "      <th>num_doors</th>\n",
       "      <th>engine_location</th>\n",
       "      <th>engine_type</th>\n",
       "      <th>num_cylinders</th>\n",
       "      <th>fuel_system</th>\n",
       "      <th>body_convertible</th>\n",
       "      <th>body_hardtop</th>\n",
       "      <th>body_hatchback</th>\n",
       "      <th>body_sedan</th>\n",
       "      <th>body_wagon</th>\n",
       "      <th>drive_4wd</th>\n",
       "      <th>drive_fwd</th>\n",
       "      <th>drive_rwd</th>\n",
       "    </tr>\n",
       "  </thead>\n",
       "  <tbody>\n",
       "    <tr>\n",
       "      <th>0</th>\n",
       "      <td>alfa-romero</td>\n",
       "      <td>gas</td>\n",
       "      <td>std</td>\n",
       "      <td>two</td>\n",
       "      <td>front</td>\n",
       "      <td>dohc</td>\n",
       "      <td>four</td>\n",
       "      <td>mpfi</td>\n",
       "      <td>1</td>\n",
       "      <td>0</td>\n",
       "      <td>0</td>\n",
       "      <td>0</td>\n",
       "      <td>0</td>\n",
       "      <td>0</td>\n",
       "      <td>0</td>\n",
       "      <td>1</td>\n",
       "    </tr>\n",
       "    <tr>\n",
       "      <th>1</th>\n",
       "      <td>alfa-romero</td>\n",
       "      <td>gas</td>\n",
       "      <td>std</td>\n",
       "      <td>two</td>\n",
       "      <td>front</td>\n",
       "      <td>dohc</td>\n",
       "      <td>four</td>\n",
       "      <td>mpfi</td>\n",
       "      <td>1</td>\n",
       "      <td>0</td>\n",
       "      <td>0</td>\n",
       "      <td>0</td>\n",
       "      <td>0</td>\n",
       "      <td>0</td>\n",
       "      <td>0</td>\n",
       "      <td>1</td>\n",
       "    </tr>\n",
       "    <tr>\n",
       "      <th>2</th>\n",
       "      <td>alfa-romero</td>\n",
       "      <td>gas</td>\n",
       "      <td>std</td>\n",
       "      <td>two</td>\n",
       "      <td>front</td>\n",
       "      <td>ohcv</td>\n",
       "      <td>six</td>\n",
       "      <td>mpfi</td>\n",
       "      <td>0</td>\n",
       "      <td>0</td>\n",
       "      <td>1</td>\n",
       "      <td>0</td>\n",
       "      <td>0</td>\n",
       "      <td>0</td>\n",
       "      <td>0</td>\n",
       "      <td>1</td>\n",
       "    </tr>\n",
       "    <tr>\n",
       "      <th>3</th>\n",
       "      <td>audi</td>\n",
       "      <td>gas</td>\n",
       "      <td>std</td>\n",
       "      <td>four</td>\n",
       "      <td>front</td>\n",
       "      <td>ohc</td>\n",
       "      <td>four</td>\n",
       "      <td>mpfi</td>\n",
       "      <td>0</td>\n",
       "      <td>0</td>\n",
       "      <td>0</td>\n",
       "      <td>1</td>\n",
       "      <td>0</td>\n",
       "      <td>0</td>\n",
       "      <td>1</td>\n",
       "      <td>0</td>\n",
       "    </tr>\n",
       "    <tr>\n",
       "      <th>4</th>\n",
       "      <td>audi</td>\n",
       "      <td>gas</td>\n",
       "      <td>std</td>\n",
       "      <td>four</td>\n",
       "      <td>front</td>\n",
       "      <td>ohc</td>\n",
       "      <td>five</td>\n",
       "      <td>mpfi</td>\n",
       "      <td>0</td>\n",
       "      <td>0</td>\n",
       "      <td>0</td>\n",
       "      <td>1</td>\n",
       "      <td>0</td>\n",
       "      <td>1</td>\n",
       "      <td>0</td>\n",
       "      <td>0</td>\n",
       "    </tr>\n",
       "  </tbody>\n",
       "</table>\n",
       "</div>"
      ],
      "text/plain": [
       "          make fuel_type aspiration num_doors engine_location engine_type  \\\n",
       "0  alfa-romero       gas        std       two           front        dohc   \n",
       "1  alfa-romero       gas        std       two           front        dohc   \n",
       "2  alfa-romero       gas        std       two           front        ohcv   \n",
       "3         audi       gas        std      four           front         ohc   \n",
       "4         audi       gas        std      four           front         ohc   \n",
       "\n",
       "  num_cylinders fuel_system  body_convertible  body_hardtop  body_hatchback  \\\n",
       "0          four        mpfi                 1             0               0   \n",
       "1          four        mpfi                 1             0               0   \n",
       "2           six        mpfi                 0             0               1   \n",
       "3          four        mpfi                 0             0               0   \n",
       "4          five        mpfi                 0             0               0   \n",
       "\n",
       "   body_sedan  body_wagon  drive_4wd  drive_fwd  drive_rwd  \n",
       "0           0           0          0          0          1  \n",
       "1           0           0          0          0          1  \n",
       "2           0           0          0          0          1  \n",
       "3           1           0          0          1          0  \n",
       "4           1           0          1          0          0  "
      ]
     },
     "execution_count": 167,
     "metadata": {},
     "output_type": "execute_result"
    }
   ],
   "source": [
    "\n",
    "pd.get_dummies(obj_col, columns=[\"body_style\", \"drive_wheels\"], prefix=[\"body\", \"drive\"]).head()"
   ]
  },
  {
   "cell_type": "markdown",
   "metadata": {},
   "source": [
    "# Label binarizer"
   ]
  },
  {
   "cell_type": "code",
   "execution_count": 168,
   "metadata": {},
   "outputs": [
    {
     "data": {
      "text/html": [
       "<div>\n",
       "<style>\n",
       "    .dataframe thead tr:only-child th {\n",
       "        text-align: right;\n",
       "    }\n",
       "\n",
       "    .dataframe thead th {\n",
       "        text-align: left;\n",
       "    }\n",
       "\n",
       "    .dataframe tbody tr th {\n",
       "        vertical-align: top;\n",
       "    }\n",
       "</style>\n",
       "<table border=\"1\" class=\"dataframe\">\n",
       "  <thead>\n",
       "    <tr style=\"text-align: right;\">\n",
       "      <th></th>\n",
       "      <th>convertible</th>\n",
       "      <th>hardtop</th>\n",
       "      <th>hatchback</th>\n",
       "      <th>sedan</th>\n",
       "      <th>wagon</th>\n",
       "    </tr>\n",
       "  </thead>\n",
       "  <tbody>\n",
       "    <tr>\n",
       "      <th>0</th>\n",
       "      <td>1</td>\n",
       "      <td>0</td>\n",
       "      <td>0</td>\n",
       "      <td>0</td>\n",
       "      <td>0</td>\n",
       "    </tr>\n",
       "    <tr>\n",
       "      <th>1</th>\n",
       "      <td>1</td>\n",
       "      <td>0</td>\n",
       "      <td>0</td>\n",
       "      <td>0</td>\n",
       "      <td>0</td>\n",
       "    </tr>\n",
       "    <tr>\n",
       "      <th>2</th>\n",
       "      <td>0</td>\n",
       "      <td>0</td>\n",
       "      <td>1</td>\n",
       "      <td>0</td>\n",
       "      <td>0</td>\n",
       "    </tr>\n",
       "    <tr>\n",
       "      <th>3</th>\n",
       "      <td>0</td>\n",
       "      <td>0</td>\n",
       "      <td>0</td>\n",
       "      <td>1</td>\n",
       "      <td>0</td>\n",
       "    </tr>\n",
       "    <tr>\n",
       "      <th>4</th>\n",
       "      <td>0</td>\n",
       "      <td>0</td>\n",
       "      <td>0</td>\n",
       "      <td>1</td>\n",
       "      <td>0</td>\n",
       "    </tr>\n",
       "  </tbody>\n",
       "</table>\n",
       "</div>"
      ],
      "text/plain": [
       "   convertible  hardtop  hatchback  sedan  wagon\n",
       "0            1        0          0      0      0\n",
       "1            1        0          0      0      0\n",
       "2            0        0          1      0      0\n",
       "3            0        0          0      1      0\n",
       "4            0        0          0      1      0"
      ]
     },
     "execution_count": 168,
     "metadata": {},
     "output_type": "execute_result"
    }
   ],
   "source": [
    "\n",
    "lb_style = LabelBinarizer()\n",
    "lb_results = lb_style.fit_transform(obj_col[\"body_style\"])\n",
    "pd.DataFrame(lb_results, columns=lb_style.classes_).head()"
   ]
  },
  {
   "cell_type": "code",
   "execution_count": 169,
   "metadata": {},
   "outputs": [
    {
     "data": {
      "text/plain": [
       "array(['convertible', 'hardtop', 'hatchback', 'sedan', 'wagon'],\n",
       "      dtype='<U11')"
      ]
     },
     "execution_count": 169,
     "metadata": {},
     "output_type": "execute_result"
    }
   ],
   "source": [
    "lb_style.classes_"
   ]
  },
  {
   "cell_type": "markdown",
   "metadata": {
    "collapsed": true
   },
   "source": [
    "# Replacing with numerics"
   ]
  },
  {
   "cell_type": "code",
   "execution_count": 170,
   "metadata": {},
   "outputs": [
    {
     "data": {
      "text/plain": [
       "four      159\n",
       "six        24\n",
       "five       11\n",
       "eight       5\n",
       "two         4\n",
       "twelve      1\n",
       "three       1\n",
       "Name: num_cylinders, dtype: int64"
      ]
     },
     "execution_count": 170,
     "metadata": {},
     "output_type": "execute_result"
    }
   ],
   "source": [
    "obj_col['num_cylinders'].value_counts()"
   ]
  },
  {
   "cell_type": "markdown",
   "metadata": {},
   "source": [
    "Converting string to numeric using dictionary"
   ]
  },
  {
   "cell_type": "code",
   "execution_count": 171,
   "metadata": {
    "collapsed": true
   },
   "outputs": [],
   "source": [
    "cleanup_nums = {\"num_doors\": {\"four\":4, \"two\":2, np.nan:4},\n",
    "               \"num_cylinders\": {\"two\":2 ,\"three\":3,\"four\":4 ,\"six\":6, \"five\":5, \"eight\": 8,\"twelve\":12}}"
   ]
  },
  {
   "cell_type": "code",
   "execution_count": 172,
   "metadata": {},
   "outputs": [
    {
     "data": {
      "text/plain": [
       "{'num_cylinders': {'eight': 8,\n",
       "  'five': 5,\n",
       "  'four': 4,\n",
       "  'six': 6,\n",
       "  'three': 3,\n",
       "  'twelve': 12,\n",
       "  'two': 2},\n",
       " 'num_doors': {'four': 4, 'two': 2}}"
      ]
     },
     "execution_count": 172,
     "metadata": {},
     "output_type": "execute_result"
    }
   ],
   "source": [
    "cleanup_nums"
   ]
  },
  {
   "cell_type": "code",
   "execution_count": 173,
   "metadata": {
    "collapsed": true
   },
   "outputs": [],
   "source": [
    "obj_col.replace(cleanup_nums, inplace=True)"
   ]
  },
  {
   "cell_type": "code",
   "execution_count": 174,
   "metadata": {},
   "outputs": [
    {
     "data": {
      "text/html": [
       "<div>\n",
       "<style>\n",
       "    .dataframe thead tr:only-child th {\n",
       "        text-align: right;\n",
       "    }\n",
       "\n",
       "    .dataframe thead th {\n",
       "        text-align: left;\n",
       "    }\n",
       "\n",
       "    .dataframe tbody tr th {\n",
       "        vertical-align: top;\n",
       "    }\n",
       "</style>\n",
       "<table border=\"1\" class=\"dataframe\">\n",
       "  <thead>\n",
       "    <tr style=\"text-align: right;\">\n",
       "      <th></th>\n",
       "      <th>make</th>\n",
       "      <th>fuel_type</th>\n",
       "      <th>aspiration</th>\n",
       "      <th>num_doors</th>\n",
       "      <th>body_style</th>\n",
       "      <th>drive_wheels</th>\n",
       "      <th>engine_location</th>\n",
       "      <th>engine_type</th>\n",
       "      <th>num_cylinders</th>\n",
       "      <th>fuel_system</th>\n",
       "    </tr>\n",
       "  </thead>\n",
       "  <tbody>\n",
       "    <tr>\n",
       "      <th>0</th>\n",
       "      <td>alfa-romero</td>\n",
       "      <td>gas</td>\n",
       "      <td>std</td>\n",
       "      <td>2</td>\n",
       "      <td>convertible</td>\n",
       "      <td>rwd</td>\n",
       "      <td>front</td>\n",
       "      <td>dohc</td>\n",
       "      <td>4</td>\n",
       "      <td>mpfi</td>\n",
       "    </tr>\n",
       "    <tr>\n",
       "      <th>1</th>\n",
       "      <td>alfa-romero</td>\n",
       "      <td>gas</td>\n",
       "      <td>std</td>\n",
       "      <td>2</td>\n",
       "      <td>convertible</td>\n",
       "      <td>rwd</td>\n",
       "      <td>front</td>\n",
       "      <td>dohc</td>\n",
       "      <td>4</td>\n",
       "      <td>mpfi</td>\n",
       "    </tr>\n",
       "    <tr>\n",
       "      <th>2</th>\n",
       "      <td>alfa-romero</td>\n",
       "      <td>gas</td>\n",
       "      <td>std</td>\n",
       "      <td>2</td>\n",
       "      <td>hatchback</td>\n",
       "      <td>rwd</td>\n",
       "      <td>front</td>\n",
       "      <td>ohcv</td>\n",
       "      <td>6</td>\n",
       "      <td>mpfi</td>\n",
       "    </tr>\n",
       "  </tbody>\n",
       "</table>\n",
       "</div>"
      ],
      "text/plain": [
       "          make fuel_type aspiration  num_doors   body_style drive_wheels  \\\n",
       "0  alfa-romero       gas        std          2  convertible          rwd   \n",
       "1  alfa-romero       gas        std          2  convertible          rwd   \n",
       "2  alfa-romero       gas        std          2    hatchback          rwd   \n",
       "\n",
       "  engine_location engine_type  num_cylinders fuel_system  \n",
       "0           front        dohc              4        mpfi  \n",
       "1           front        dohc              4        mpfi  \n",
       "2           front        ohcv              6        mpfi  "
      ]
     },
     "execution_count": 174,
     "metadata": {},
     "output_type": "execute_result"
    }
   ],
   "source": [
    "obj_col[:3]"
   ]
  },
  {
   "cell_type": "markdown",
   "metadata": {},
   "source": [
    "Implicit change in the data type of the changed column in observed"
   ]
  },
  {
   "cell_type": "code",
   "execution_count": 175,
   "metadata": {},
   "outputs": [
    {
     "data": {
      "text/plain": [
       "make               object\n",
       "fuel_type          object\n",
       "aspiration         object\n",
       "num_doors           int64\n",
       "body_style         object\n",
       "drive_wheels       object\n",
       "engine_location    object\n",
       "engine_type        object\n",
       "num_cylinders       int64\n",
       "fuel_system        object\n",
       "dtype: object"
      ]
     },
     "execution_count": 175,
     "metadata": {},
     "output_type": "execute_result"
    }
   ],
   "source": [
    "obj_col.dtypes"
   ]
  },
  {
   "cell_type": "markdown",
   "metadata": {},
   "source": [
    "# Label Encoder"
   ]
  },
  {
   "cell_type": "code",
   "execution_count": 176,
   "metadata": {},
   "outputs": [
    {
     "data": {
      "text/plain": [
       "toyota        32\n",
       "nissan        18\n",
       "mazda         17\n",
       "mitsubishi    13\n",
       "honda         13\n",
       "Name: make, dtype: int64"
      ]
     },
     "execution_count": 176,
     "metadata": {},
     "output_type": "execute_result"
    }
   ],
   "source": [
    "obj_col[\"make\"].value_counts().head()"
   ]
  },
  {
   "cell_type": "code",
   "execution_count": 92,
   "metadata": {},
   "outputs": [
    {
     "data": {
      "text/plain": [
       "array(['alfa-romero', 'audi', 'bmw', 'chevrolet', 'dodge', 'honda',\n",
       "       'isuzu', 'jaguar', 'mazda', 'mercedes-benz', 'mercury',\n",
       "       'mitsubishi', 'nissan', 'peugot', 'plymouth', 'porsche', 'renault',\n",
       "       'saab', 'subaru', 'toyota', 'volkswagen', 'volvo'], dtype=object)"
      ]
     },
     "execution_count": 92,
     "metadata": {},
     "output_type": "execute_result"
    }
   ],
   "source": [
    "obj_col['make'].unique()"
   ]
  },
  {
   "cell_type": "code",
   "execution_count": 177,
   "metadata": {},
   "outputs": [
    {
     "data": {
      "text/html": [
       "<div>\n",
       "<style>\n",
       "    .dataframe thead tr:only-child th {\n",
       "        text-align: right;\n",
       "    }\n",
       "\n",
       "    .dataframe thead th {\n",
       "        text-align: left;\n",
       "    }\n",
       "\n",
       "    .dataframe tbody tr th {\n",
       "        vertical-align: top;\n",
       "    }\n",
       "</style>\n",
       "<table border=\"1\" class=\"dataframe\">\n",
       "  <thead>\n",
       "    <tr style=\"text-align: right;\">\n",
       "      <th></th>\n",
       "      <th>make</th>\n",
       "      <th>make_code</th>\n",
       "    </tr>\n",
       "  </thead>\n",
       "  <tbody>\n",
       "    <tr>\n",
       "      <th>0</th>\n",
       "      <td>alfa-romero</td>\n",
       "      <td>0</td>\n",
       "    </tr>\n",
       "    <tr>\n",
       "      <th>1</th>\n",
       "      <td>alfa-romero</td>\n",
       "      <td>0</td>\n",
       "    </tr>\n",
       "    <tr>\n",
       "      <th>2</th>\n",
       "      <td>alfa-romero</td>\n",
       "      <td>0</td>\n",
       "    </tr>\n",
       "    <tr>\n",
       "      <th>3</th>\n",
       "      <td>audi</td>\n",
       "      <td>1</td>\n",
       "    </tr>\n",
       "    <tr>\n",
       "      <th>4</th>\n",
       "      <td>audi</td>\n",
       "      <td>1</td>\n",
       "    </tr>\n",
       "  </tbody>\n",
       "</table>\n",
       "</div>"
      ],
      "text/plain": [
       "          make  make_code\n",
       "0  alfa-romero          0\n",
       "1  alfa-romero          0\n",
       "2  alfa-romero          0\n",
       "3         audi          1\n",
       "4         audi          1"
      ]
     },
     "execution_count": 177,
     "metadata": {},
     "output_type": "execute_result"
    }
   ],
   "source": [
    "lb_make = LabelEncoder()\n",
    "\n",
    "obj_col[\"make_code\"] = lb_make.fit_transform(obj_col[\"make\"])\n",
    "obj_col[[\"make\", \"make_code\"]].head(5)"
   ]
  },
  {
   "cell_type": "markdown",
   "metadata": {},
   "source": [
    "# Custom binary encoding"
   ]
  },
  {
   "cell_type": "markdown",
   "metadata": {},
   "source": [
    "Use domain knowledge to solve the problem"
   ]
  },
  {
   "cell_type": "code",
   "execution_count": 178,
   "metadata": {},
   "outputs": [
    {
     "data": {
      "text/plain": [
       "ohc      148\n",
       "ohcf      15\n",
       "ohcv      13\n",
       "dohc      12\n",
       "l         12\n",
       "rotor      4\n",
       "dohcv      1\n",
       "Name: engine_type, dtype: int64"
      ]
     },
     "execution_count": 178,
     "metadata": {},
     "output_type": "execute_result"
    }
   ],
   "source": [
    "\n",
    "obj_col['engine_type'].value_counts()"
   ]
  },
  {
   "cell_type": "markdown",
   "metadata": {},
   "source": [
    "implementing np.where function"
   ]
  },
  {
   "cell_type": "code",
   "execution_count": 179,
   "metadata": {
    "collapsed": true
   },
   "outputs": [],
   "source": [
    "obj_col[\"OHC_Code\"] = np.where(obj_col[\"engine_type\"].str.contains(\"ohc\"), 1,0)"
   ]
  },
  {
   "cell_type": "code",
   "execution_count": 180,
   "metadata": {},
   "outputs": [
    {
     "data": {
      "text/html": [
       "<div>\n",
       "<style>\n",
       "    .dataframe thead tr:only-child th {\n",
       "        text-align: right;\n",
       "    }\n",
       "\n",
       "    .dataframe thead th {\n",
       "        text-align: left;\n",
       "    }\n",
       "\n",
       "    .dataframe tbody tr th {\n",
       "        vertical-align: top;\n",
       "    }\n",
       "</style>\n",
       "<table border=\"1\" class=\"dataframe\">\n",
       "  <thead>\n",
       "    <tr style=\"text-align: right;\">\n",
       "      <th></th>\n",
       "      <th>make</th>\n",
       "      <th>engine_type</th>\n",
       "      <th>OHC_Code</th>\n",
       "    </tr>\n",
       "  </thead>\n",
       "  <tbody>\n",
       "    <tr>\n",
       "      <th>0</th>\n",
       "      <td>alfa-romero</td>\n",
       "      <td>dohc</td>\n",
       "      <td>1</td>\n",
       "    </tr>\n",
       "    <tr>\n",
       "      <th>1</th>\n",
       "      <td>alfa-romero</td>\n",
       "      <td>dohc</td>\n",
       "      <td>1</td>\n",
       "    </tr>\n",
       "    <tr>\n",
       "      <th>2</th>\n",
       "      <td>alfa-romero</td>\n",
       "      <td>ohcv</td>\n",
       "      <td>1</td>\n",
       "    </tr>\n",
       "    <tr>\n",
       "      <th>3</th>\n",
       "      <td>audi</td>\n",
       "      <td>ohc</td>\n",
       "      <td>1</td>\n",
       "    </tr>\n",
       "    <tr>\n",
       "      <th>4</th>\n",
       "      <td>audi</td>\n",
       "      <td>ohc</td>\n",
       "      <td>1</td>\n",
       "    </tr>\n",
       "  </tbody>\n",
       "</table>\n",
       "</div>"
      ],
      "text/plain": [
       "          make engine_type  OHC_Code\n",
       "0  alfa-romero        dohc         1\n",
       "1  alfa-romero        dohc         1\n",
       "2  alfa-romero        ohcv         1\n",
       "3         audi         ohc         1\n",
       "4         audi         ohc         1"
      ]
     },
     "execution_count": 180,
     "metadata": {},
     "output_type": "execute_result"
    }
   ],
   "source": [
    "obj_col[['make','engine_type','OHC_Code']].head()"
   ]
  },
  {
   "cell_type": "markdown",
   "metadata": {},
   "source": [
    "To use OneHotEncoder, we must first convert object to numeric, then apply OneHotEncoder.\n",
    "\n",
    "Here, 'make_code' column is already encoded using LabelEncoder. Hence used this column directly here.\n",
    "\n",
    "Since, it involves binary encoding, reshaping and fitting with OneHotEncoder, rather get_dummy is widely used because of simplicity"
   ]
  },
  {
   "cell_type": "code",
   "execution_count": 181,
   "metadata": {},
   "outputs": [
    {
     "data": {
      "text/plain": [
       "22"
      ]
     },
     "execution_count": 181,
     "metadata": {},
     "output_type": "execute_result"
    }
   ],
   "source": [
    "obj_col[\"make_code\"].nunique()"
   ]
  },
  {
   "cell_type": "code",
   "execution_count": null,
   "metadata": {
    "collapsed": true
   },
   "outputs": [],
   "source": [
    "ohe = OneHotEncoder()\n",
    "integer_encoded = obj_col[\"make_code\"].values.reshape(len(obj_col[\"make_code\"]), 1)\n",
    "ohe_results = ohe.fit_transform(integer_encoded)\n",
    "print(ohe_results)"
   ]
  },
  {
   "cell_type": "code",
   "execution_count": null,
   "metadata": {
    "collapsed": true
   },
   "outputs": [],
   "source": []
  },
  {
   "cell_type": "code",
   "execution_count": null,
   "metadata": {
    "collapsed": true
   },
   "outputs": [],
   "source": [
    "import "
   ]
  },
  {
   "cell_type": "code",
   "execution_count": 6,
   "metadata": {
    "collapsed": true
   },
   "outputs": [],
   "source": [
    "dict_cols = {'Store_No1':'str', 'Sales_Type':'str', 'Receipt_No':'str', 'Transaction_No':'int64', 'Item_No':'str', 'Line_No':'int64', 'Price':'float64', 'Quantity':'float64', 'Discount_Amount':'float64', 'Net_Amount':'float64', 'Customer_No': 'str', 'Date': 'str', 'Time': 'str', 'Total_Rounded_Amt':'float64'}"
   ]
  },
  {
   "cell_type": "code",
   "execution_count": 19,
   "metadata": {
    "scrolled": false
   },
   "outputs": [],
   "source": [
    "df = pd.read_csv('Dataset_new.csv', index_col=0)"
   ]
  },
  {
   "cell_type": "code",
   "execution_count": 20,
   "metadata": {},
   "outputs": [
    {
     "data": {
      "text/html": [
       "<div>\n",
       "<style>\n",
       "    .dataframe thead tr:only-child th {\n",
       "        text-align: right;\n",
       "    }\n",
       "\n",
       "    .dataframe thead th {\n",
       "        text-align: left;\n",
       "    }\n",
       "\n",
       "    .dataframe tbody tr th {\n",
       "        vertical-align: top;\n",
       "    }\n",
       "</style>\n",
       "<table border=\"1\" class=\"dataframe\">\n",
       "  <thead>\n",
       "    <tr style=\"text-align: right;\">\n",
       "      <th></th>\n",
       "      <th>City</th>\n",
       "      <th>Mapped_Sales_Type</th>\n",
       "      <th>Mapped_Item_Code</th>\n",
       "      <th>Transaction_Date</th>\n",
       "      <th>Quantity_Sold</th>\n",
       "      <th>Median_Price</th>\n",
       "      <th>Average_Tax_Percent</th>\n",
       "      <th>Effective_Price</th>\n",
       "      <th>Percent_Quantity_With_Discount</th>\n",
       "      <th>Avg_Discount_Percent_On_Discounted_Items</th>\n",
       "      <th>...</th>\n",
       "      <th>Day</th>\n",
       "      <th>Car_sales</th>\n",
       "      <th>F_and_B_Inflation</th>\n",
       "      <th>F_and_B_Inflation_Adjusted_Effective_Price</th>\n",
       "      <th>F_and_B_Inflation_Adjusted_Median_Price</th>\n",
       "      <th>First_Week_Of_The_Month_Dummy</th>\n",
       "      <th>Last_Week_Of_The_Month_Dummy</th>\n",
       "      <th>Day_Of_The_Week_Seasonality</th>\n",
       "      <th>Month_Of_The_Year_Seasonality</th>\n",
       "      <th>Two_Wheeler_sales</th>\n",
       "    </tr>\n",
       "  </thead>\n",
       "  <tbody>\n",
       "    <tr>\n",
       "      <th>0</th>\n",
       "      <td>Hyderabad</td>\n",
       "      <td>Take Away</td>\n",
       "      <td>9923</td>\n",
       "      <td>2018-07-31</td>\n",
       "      <td>56</td>\n",
       "      <td>114.0</td>\n",
       "      <td>0.05</td>\n",
       "      <td>119.700000</td>\n",
       "      <td>NaN</td>\n",
       "      <td>NaN</td>\n",
       "      <td>...</td>\n",
       "      <td>Tue</td>\n",
       "      <td>7559.28</td>\n",
       "      <td>143.7</td>\n",
       "      <td>0.832985</td>\n",
       "      <td>0.793319</td>\n",
       "      <td>0</td>\n",
       "      <td>1</td>\n",
       "      <td>0.86</td>\n",
       "      <td>0.91</td>\n",
       "      <td>37307.52</td>\n",
       "    </tr>\n",
       "    <tr>\n",
       "      <th>1</th>\n",
       "      <td>Hyderabad</td>\n",
       "      <td>Take Away</td>\n",
       "      <td>4009</td>\n",
       "      <td>2018-07-31</td>\n",
       "      <td>257</td>\n",
       "      <td>529.0</td>\n",
       "      <td>0.05</td>\n",
       "      <td>540.329105</td>\n",
       "      <td>0.027237</td>\n",
       "      <td>1.05</td>\n",
       "      <td>...</td>\n",
       "      <td>Tue</td>\n",
       "      <td>7559.28</td>\n",
       "      <td>143.7</td>\n",
       "      <td>3.760119</td>\n",
       "      <td>3.681280</td>\n",
       "      <td>0</td>\n",
       "      <td>1</td>\n",
       "      <td>0.83</td>\n",
       "      <td>0.91</td>\n",
       "      <td>37307.52</td>\n",
       "    </tr>\n",
       "    <tr>\n",
       "      <th>2</th>\n",
       "      <td>Hyderabad</td>\n",
       "      <td>Main Hall</td>\n",
       "      <td>910</td>\n",
       "      <td>2018-07-31</td>\n",
       "      <td>583</td>\n",
       "      <td>190.0</td>\n",
       "      <td>0.05</td>\n",
       "      <td>200.835163</td>\n",
       "      <td>NaN</td>\n",
       "      <td>NaN</td>\n",
       "      <td>...</td>\n",
       "      <td>Tue</td>\n",
       "      <td>7559.28</td>\n",
       "      <td>143.7</td>\n",
       "      <td>1.397600</td>\n",
       "      <td>1.322199</td>\n",
       "      <td>0</td>\n",
       "      <td>1</td>\n",
       "      <td>1.08</td>\n",
       "      <td>1.08</td>\n",
       "      <td>37307.52</td>\n",
       "    </tr>\n",
       "  </tbody>\n",
       "</table>\n",
       "<p>3 rows × 22 columns</p>\n",
       "</div>"
      ],
      "text/plain": [
       "        City Mapped_Sales_Type  Mapped_Item_Code Transaction_Date  \\\n",
       "0  Hyderabad         Take Away              9923       2018-07-31   \n",
       "1  Hyderabad         Take Away              4009       2018-07-31   \n",
       "2  Hyderabad         Main Hall               910       2018-07-31   \n",
       "\n",
       "   Quantity_Sold  Median_Price  Average_Tax_Percent  Effective_Price  \\\n",
       "0             56         114.0                 0.05       119.700000   \n",
       "1            257         529.0                 0.05       540.329105   \n",
       "2            583         190.0                 0.05       200.835163   \n",
       "\n",
       "   Percent_Quantity_With_Discount  Avg_Discount_Percent_On_Discounted_Items  \\\n",
       "0                             NaN                                       NaN   \n",
       "1                        0.027237                                      1.05   \n",
       "2                             NaN                                       NaN   \n",
       "\n",
       "         ...          Day  Car_sales F_and_B_Inflation  \\\n",
       "0        ...          Tue    7559.28             143.7   \n",
       "1        ...          Tue    7559.28             143.7   \n",
       "2        ...          Tue    7559.28             143.7   \n",
       "\n",
       "   F_and_B_Inflation_Adjusted_Effective_Price  \\\n",
       "0                                    0.832985   \n",
       "1                                    3.760119   \n",
       "2                                    1.397600   \n",
       "\n",
       "   F_and_B_Inflation_Adjusted_Median_Price  First_Week_Of_The_Month_Dummy  \\\n",
       "0                                 0.793319                              0   \n",
       "1                                 3.681280                              0   \n",
       "2                                 1.322199                              0   \n",
       "\n",
       "   Last_Week_Of_The_Month_Dummy  Day_Of_The_Week_Seasonality  \\\n",
       "0                             1                         0.86   \n",
       "1                             1                         0.83   \n",
       "2                             1                         1.08   \n",
       "\n",
       "   Month_Of_The_Year_Seasonality  Two_Wheeler_sales  \n",
       "0                           0.91           37307.52  \n",
       "1                           0.91           37307.52  \n",
       "2                           1.08           37307.52  \n",
       "\n",
       "[3 rows x 22 columns]"
      ]
     },
     "execution_count": 20,
     "metadata": {},
     "output_type": "execute_result"
    }
   ],
   "source": [
    "df[:3]"
   ]
  },
  {
   "cell_type": "code",
   "execution_count": 21,
   "metadata": {},
   "outputs": [
    {
     "data": {
      "text/plain": [
       "City                                           object\n",
       "Mapped_Sales_Type                              object\n",
       "Mapped_Item_Code                                int64\n",
       "Transaction_Date                               object\n",
       "Quantity_Sold                                   int64\n",
       "Median_Price                                  float64\n",
       "Average_Tax_Percent                           float64\n",
       "Effective_Price                               float64\n",
       "Percent_Quantity_With_Discount                float64\n",
       "Avg_Discount_Percent_On_Discounted_Items      float64\n",
       "Year                                            int64\n",
       "Month                                           int64\n",
       "Day                                            object\n",
       "Car_sales                                     float64\n",
       "F_and_B_Inflation                             float64\n",
       "F_and_B_Inflation_Adjusted_Effective_Price    float64\n",
       "F_and_B_Inflation_Adjusted_Median_Price       float64\n",
       "First_Week_Of_The_Month_Dummy                   int64\n",
       "Last_Week_Of_The_Month_Dummy                    int64\n",
       "Day_Of_The_Week_Seasonality                   float64\n",
       "Month_Of_The_Year_Seasonality                 float64\n",
       "Two_Wheeler_sales                             float64\n",
       "dtype: object"
      ]
     },
     "execution_count": 21,
     "metadata": {},
     "output_type": "execute_result"
    }
   ],
   "source": [
    "df.dtypes"
   ]
  },
  {
   "cell_type": "code",
   "execution_count": 22,
   "metadata": {},
   "outputs": [
    {
     "data": {
      "text/plain": [
       "array([9923, 4009,  910,  990, 4001, 4010, 4003, 4002, 4006, 4000,  924,\n",
       "       4011,  923, 4007,  916,  915,  911, 4013, 4008,  909, 4005, 9945,\n",
       "       4004], dtype=int64)"
      ]
     },
     "execution_count": 22,
     "metadata": {},
     "output_type": "execute_result"
    }
   ],
   "source": [
    "df['Mapped_Item_Code'].unique()"
   ]
  },
  {
   "cell_type": "code",
   "execution_count": 16,
   "metadata": {
    "collapsed": true
   },
   "outputs": [],
   "source": [
    "dict1 = {9923:1, 4009:2, 910:3, 990:4, 4001:5,4010:6, 915:7,916:8, 911:10,923:11,9945:12}"
   ]
  },
  {
   "cell_type": "code",
   "execution_count": 26,
   "metadata": {},
   "outputs": [],
   "source": [
    "df['Mapped_Item_Code'] = df['Mapped_Item_Code'] + 55"
   ]
  },
  {
   "cell_type": "code",
   "execution_count": 28,
   "metadata": {},
   "outputs": [],
   "source": [
    "df['Quantity_Sold'] = df['Quantity_Sold'] + 111"
   ]
  },
  {
   "cell_type": "code",
   "execution_count": 29,
   "metadata": {
    "collapsed": true
   },
   "outputs": [],
   "source": [
    "df['Median_Price']= df['Median_Price'] + 73"
   ]
  },
  {
   "cell_type": "code",
   "execution_count": 30,
   "metadata": {
    "collapsed": true
   },
   "outputs": [],
   "source": [
    "df['Effective_Price'] = df['Effective_Price'] + 44"
   ]
  },
  {
   "cell_type": "code",
   "execution_count": 31,
   "metadata": {},
   "outputs": [
    {
     "data": {
      "text/html": [
       "<div>\n",
       "<style>\n",
       "    .dataframe thead tr:only-child th {\n",
       "        text-align: right;\n",
       "    }\n",
       "\n",
       "    .dataframe thead th {\n",
       "        text-align: left;\n",
       "    }\n",
       "\n",
       "    .dataframe tbody tr th {\n",
       "        vertical-align: top;\n",
       "    }\n",
       "</style>\n",
       "<table border=\"1\" class=\"dataframe\">\n",
       "  <thead>\n",
       "    <tr style=\"text-align: right;\">\n",
       "      <th></th>\n",
       "      <th>City</th>\n",
       "      <th>Mapped_Sales_Type</th>\n",
       "      <th>Mapped_Item_Code</th>\n",
       "      <th>Transaction_Date</th>\n",
       "      <th>Quantity_Sold</th>\n",
       "      <th>Median_Price</th>\n",
       "      <th>Average_Tax_Percent</th>\n",
       "      <th>Effective_Price</th>\n",
       "      <th>Percent_Quantity_With_Discount</th>\n",
       "      <th>Avg_Discount_Percent_On_Discounted_Items</th>\n",
       "      <th>...</th>\n",
       "      <th>Day</th>\n",
       "      <th>Car_sales</th>\n",
       "      <th>F_and_B_Inflation</th>\n",
       "      <th>F_and_B_Inflation_Adjusted_Effective_Price</th>\n",
       "      <th>F_and_B_Inflation_Adjusted_Median_Price</th>\n",
       "      <th>First_Week_Of_The_Month_Dummy</th>\n",
       "      <th>Last_Week_Of_The_Month_Dummy</th>\n",
       "      <th>Day_Of_The_Week_Seasonality</th>\n",
       "      <th>Month_Of_The_Year_Seasonality</th>\n",
       "      <th>Two_Wheeler_sales</th>\n",
       "    </tr>\n",
       "  </thead>\n",
       "  <tbody>\n",
       "    <tr>\n",
       "      <th>0</th>\n",
       "      <td>Hyderabad</td>\n",
       "      <td>Take Away</td>\n",
       "      <td>9978</td>\n",
       "      <td>2018-07-31</td>\n",
       "      <td>167</td>\n",
       "      <td>187.0</td>\n",
       "      <td>0.05</td>\n",
       "      <td>163.700000</td>\n",
       "      <td>NaN</td>\n",
       "      <td>NaN</td>\n",
       "      <td>...</td>\n",
       "      <td>Tue</td>\n",
       "      <td>7559.28</td>\n",
       "      <td>143.7</td>\n",
       "      <td>0.832985</td>\n",
       "      <td>0.793319</td>\n",
       "      <td>0</td>\n",
       "      <td>1</td>\n",
       "      <td>0.86</td>\n",
       "      <td>0.91</td>\n",
       "      <td>37307.52</td>\n",
       "    </tr>\n",
       "    <tr>\n",
       "      <th>1</th>\n",
       "      <td>Hyderabad</td>\n",
       "      <td>Take Away</td>\n",
       "      <td>4064</td>\n",
       "      <td>2018-07-31</td>\n",
       "      <td>368</td>\n",
       "      <td>602.0</td>\n",
       "      <td>0.05</td>\n",
       "      <td>584.329105</td>\n",
       "      <td>0.027237</td>\n",
       "      <td>1.05</td>\n",
       "      <td>...</td>\n",
       "      <td>Tue</td>\n",
       "      <td>7559.28</td>\n",
       "      <td>143.7</td>\n",
       "      <td>3.760119</td>\n",
       "      <td>3.681280</td>\n",
       "      <td>0</td>\n",
       "      <td>1</td>\n",
       "      <td>0.83</td>\n",
       "      <td>0.91</td>\n",
       "      <td>37307.52</td>\n",
       "    </tr>\n",
       "    <tr>\n",
       "      <th>2</th>\n",
       "      <td>Hyderabad</td>\n",
       "      <td>Main Hall</td>\n",
       "      <td>965</td>\n",
       "      <td>2018-07-31</td>\n",
       "      <td>694</td>\n",
       "      <td>263.0</td>\n",
       "      <td>0.05</td>\n",
       "      <td>244.835163</td>\n",
       "      <td>NaN</td>\n",
       "      <td>NaN</td>\n",
       "      <td>...</td>\n",
       "      <td>Tue</td>\n",
       "      <td>7559.28</td>\n",
       "      <td>143.7</td>\n",
       "      <td>1.397600</td>\n",
       "      <td>1.322199</td>\n",
       "      <td>0</td>\n",
       "      <td>1</td>\n",
       "      <td>1.08</td>\n",
       "      <td>1.08</td>\n",
       "      <td>37307.52</td>\n",
       "    </tr>\n",
       "  </tbody>\n",
       "</table>\n",
       "<p>3 rows × 22 columns</p>\n",
       "</div>"
      ],
      "text/plain": [
       "        City Mapped_Sales_Type  Mapped_Item_Code Transaction_Date  \\\n",
       "0  Hyderabad         Take Away              9978       2018-07-31   \n",
       "1  Hyderabad         Take Away              4064       2018-07-31   \n",
       "2  Hyderabad         Main Hall               965       2018-07-31   \n",
       "\n",
       "   Quantity_Sold  Median_Price  Average_Tax_Percent  Effective_Price  \\\n",
       "0            167         187.0                 0.05       163.700000   \n",
       "1            368         602.0                 0.05       584.329105   \n",
       "2            694         263.0                 0.05       244.835163   \n",
       "\n",
       "   Percent_Quantity_With_Discount  Avg_Discount_Percent_On_Discounted_Items  \\\n",
       "0                             NaN                                       NaN   \n",
       "1                        0.027237                                      1.05   \n",
       "2                             NaN                                       NaN   \n",
       "\n",
       "         ...          Day  Car_sales F_and_B_Inflation  \\\n",
       "0        ...          Tue    7559.28             143.7   \n",
       "1        ...          Tue    7559.28             143.7   \n",
       "2        ...          Tue    7559.28             143.7   \n",
       "\n",
       "   F_and_B_Inflation_Adjusted_Effective_Price  \\\n",
       "0                                    0.832985   \n",
       "1                                    3.760119   \n",
       "2                                    1.397600   \n",
       "\n",
       "   F_and_B_Inflation_Adjusted_Median_Price  First_Week_Of_The_Month_Dummy  \\\n",
       "0                                 0.793319                              0   \n",
       "1                                 3.681280                              0   \n",
       "2                                 1.322199                              0   \n",
       "\n",
       "   Last_Week_Of_The_Month_Dummy  Day_Of_The_Week_Seasonality  \\\n",
       "0                             1                         0.86   \n",
       "1                             1                         0.83   \n",
       "2                             1                         1.08   \n",
       "\n",
       "   Month_Of_The_Year_Seasonality  Two_Wheeler_sales  \n",
       "0                           0.91           37307.52  \n",
       "1                           0.91           37307.52  \n",
       "2                           1.08           37307.52  \n",
       "\n",
       "[3 rows x 22 columns]"
      ]
     },
     "execution_count": 31,
     "metadata": {},
     "output_type": "execute_result"
    }
   ],
   "source": [
    "df[:3]"
   ]
  },
  {
   "cell_type": "code",
   "execution_count": 32,
   "metadata": {
    "collapsed": true
   },
   "outputs": [],
   "source": [
    "df.to_csv('Dataset_new1.csv')"
   ]
  },
  {
   "cell_type": "code",
   "execution_count": 36,
   "metadata": {},
   "outputs": [
    {
     "data": {
      "text/html": [
       "<div>\n",
       "<style>\n",
       "    .dataframe thead tr:only-child th {\n",
       "        text-align: right;\n",
       "    }\n",
       "\n",
       "    .dataframe thead th {\n",
       "        text-align: left;\n",
       "    }\n",
       "\n",
       "    .dataframe tbody tr th {\n",
       "        vertical-align: top;\n",
       "    }\n",
       "</style>\n",
       "<table border=\"1\" class=\"dataframe\">\n",
       "  <thead>\n",
       "    <tr style=\"text-align: right;\">\n",
       "      <th></th>\n",
       "      <th>City</th>\n",
       "      <th>Mapped_Sales_Type</th>\n",
       "      <th>Mapped_Item_Code</th>\n",
       "      <th>Transaction_Date</th>\n",
       "      <th>Quantity_Sold</th>\n",
       "      <th>Median_Price</th>\n",
       "      <th>Average_Tax_Percent</th>\n",
       "      <th>Effective_Price</th>\n",
       "      <th>Percent_Quantity_With_Discount</th>\n",
       "      <th>Avg_Discount_Percent_On_Discounted_Items</th>\n",
       "      <th>...</th>\n",
       "      <th>Day</th>\n",
       "      <th>Car_sales</th>\n",
       "      <th>F_and_B_Inflation</th>\n",
       "      <th>F_and_B_Inflation_Adjusted_Effective_Price</th>\n",
       "      <th>F_and_B_Inflation_Adjusted_Median_Price</th>\n",
       "      <th>First_Week_Of_The_Month_Dummy</th>\n",
       "      <th>Last_Week_Of_The_Month_Dummy</th>\n",
       "      <th>Day_Of_The_Week_Seasonality</th>\n",
       "      <th>Month_Of_The_Year_Seasonality</th>\n",
       "      <th>Two_Wheeler_sales</th>\n",
       "    </tr>\n",
       "  </thead>\n",
       "  <tbody>\n",
       "    <tr>\n",
       "      <th>0</th>\n",
       "      <td>Hyderabad</td>\n",
       "      <td>Take Away</td>\n",
       "      <td>9978</td>\n",
       "      <td>2018-07-31</td>\n",
       "      <td>167</td>\n",
       "      <td>187.0</td>\n",
       "      <td>0.05</td>\n",
       "      <td>163.700000</td>\n",
       "      <td>NaN</td>\n",
       "      <td>NaN</td>\n",
       "      <td>...</td>\n",
       "      <td>Tue</td>\n",
       "      <td>7559.28</td>\n",
       "      <td>143.7</td>\n",
       "      <td>0.832985</td>\n",
       "      <td>0.793319</td>\n",
       "      <td>0</td>\n",
       "      <td>1</td>\n",
       "      <td>0.86</td>\n",
       "      <td>0.91</td>\n",
       "      <td>37307.52</td>\n",
       "    </tr>\n",
       "    <tr>\n",
       "      <th>1</th>\n",
       "      <td>Hyderabad</td>\n",
       "      <td>Take Away</td>\n",
       "      <td>4064</td>\n",
       "      <td>2018-07-31</td>\n",
       "      <td>368</td>\n",
       "      <td>602.0</td>\n",
       "      <td>0.05</td>\n",
       "      <td>584.329105</td>\n",
       "      <td>0.027237</td>\n",
       "      <td>1.05</td>\n",
       "      <td>...</td>\n",
       "      <td>Tue</td>\n",
       "      <td>7559.28</td>\n",
       "      <td>143.7</td>\n",
       "      <td>3.760119</td>\n",
       "      <td>3.681280</td>\n",
       "      <td>0</td>\n",
       "      <td>1</td>\n",
       "      <td>0.83</td>\n",
       "      <td>0.91</td>\n",
       "      <td>37307.52</td>\n",
       "    </tr>\n",
       "    <tr>\n",
       "      <th>2</th>\n",
       "      <td>Hyderabad</td>\n",
       "      <td>Main Hall</td>\n",
       "      <td>965</td>\n",
       "      <td>2018-07-31</td>\n",
       "      <td>694</td>\n",
       "      <td>263.0</td>\n",
       "      <td>0.05</td>\n",
       "      <td>244.835163</td>\n",
       "      <td>NaN</td>\n",
       "      <td>NaN</td>\n",
       "      <td>...</td>\n",
       "      <td>Tue</td>\n",
       "      <td>7559.28</td>\n",
       "      <td>143.7</td>\n",
       "      <td>1.397600</td>\n",
       "      <td>1.322199</td>\n",
       "      <td>0</td>\n",
       "      <td>1</td>\n",
       "      <td>1.08</td>\n",
       "      <td>1.08</td>\n",
       "      <td>37307.52</td>\n",
       "    </tr>\n",
       "  </tbody>\n",
       "</table>\n",
       "<p>3 rows × 22 columns</p>\n",
       "</div>"
      ],
      "text/plain": [
       "        City Mapped_Sales_Type Mapped_Item_Code Transaction_Date  \\\n",
       "0  Hyderabad         Take Away             9978       2018-07-31   \n",
       "1  Hyderabad         Take Away             4064       2018-07-31   \n",
       "2  Hyderabad         Main Hall              965       2018-07-31   \n",
       "\n",
       "   Quantity_Sold  Median_Price  Average_Tax_Percent  Effective_Price  \\\n",
       "0            167         187.0                 0.05       163.700000   \n",
       "1            368         602.0                 0.05       584.329105   \n",
       "2            694         263.0                 0.05       244.835163   \n",
       "\n",
       "   Percent_Quantity_With_Discount  Avg_Discount_Percent_On_Discounted_Items  \\\n",
       "0                             NaN                                       NaN   \n",
       "1                        0.027237                                      1.05   \n",
       "2                             NaN                                       NaN   \n",
       "\n",
       "         ...          Day  Car_sales F_and_B_Inflation  \\\n",
       "0        ...          Tue    7559.28             143.7   \n",
       "1        ...          Tue    7559.28             143.7   \n",
       "2        ...          Tue    7559.28             143.7   \n",
       "\n",
       "   F_and_B_Inflation_Adjusted_Effective_Price  \\\n",
       "0                                    0.832985   \n",
       "1                                    3.760119   \n",
       "2                                    1.397600   \n",
       "\n",
       "   F_and_B_Inflation_Adjusted_Median_Price  First_Week_Of_The_Month_Dummy  \\\n",
       "0                                 0.793319                              0   \n",
       "1                                 3.681280                              0   \n",
       "2                                 1.322199                              0   \n",
       "\n",
       "   Last_Week_Of_The_Month_Dummy  Day_Of_The_Week_Seasonality  \\\n",
       "0                             1                         0.86   \n",
       "1                             1                         0.83   \n",
       "2                             1                         1.08   \n",
       "\n",
       "   Month_Of_The_Year_Seasonality  Two_Wheeler_sales  \n",
       "0                           0.91           37307.52  \n",
       "1                           0.91           37307.52  \n",
       "2                           1.08           37307.52  \n",
       "\n",
       "[3 rows x 22 columns]"
      ]
     },
     "execution_count": 36,
     "metadata": {},
     "output_type": "execute_result"
    }
   ],
   "source": [
    "df[:3]"
   ]
  },
  {
   "cell_type": "code",
   "execution_count": null,
   "metadata": {
    "collapsed": true
   },
   "outputs": [],
   "source": []
  },
  {
   "cell_type": "code",
   "execution_count": 33,
   "metadata": {
    "collapsed": true
   },
   "outputs": [],
   "source": [
    "df['Mapped_Item_Code'] = df['Mapped_Item_Code'].astype(str)"
   ]
  },
  {
   "cell_type": "code",
   "execution_count": 37,
   "metadata": {},
   "outputs": [],
   "source": [
    "df['Transaction_Date'] = pd.to_datetime(df['Transaction_Date'])"
   ]
  },
  {
   "cell_type": "code",
   "execution_count": 39,
   "metadata": {},
   "outputs": [],
   "source": [
    "df = df.loc[(df['Transaction_Date'] >= '2016-08-01'), :]"
   ]
  },
  {
   "cell_type": "code",
   "execution_count": 40,
   "metadata": {},
   "outputs": [
    {
     "data": {
      "text/plain": [
       "Index(['City', 'Mapped_Sales_Type', 'Mapped_Item_Code', 'Transaction_Date',\n",
       "       'Quantity_Sold', 'Median_Price', 'Average_Tax_Percent',\n",
       "       'Effective_Price', 'Percent_Quantity_With_Discount',\n",
       "       'Avg_Discount_Percent_On_Discounted_Items', 'Year', 'Month', 'Day',\n",
       "       'Car_sales', 'F_and_B_Inflation',\n",
       "       'F_and_B_Inflation_Adjusted_Effective_Price',\n",
       "       'F_and_B_Inflation_Adjusted_Median_Price',\n",
       "       'First_Week_Of_The_Month_Dummy', 'Last_Week_Of_The_Month_Dummy',\n",
       "       'Day_Of_The_Week_Seasonality', 'Month_Of_The_Year_Seasonality',\n",
       "       'Two_Wheeler_sales'],\n",
       "      dtype='object')"
      ]
     },
     "execution_count": 40,
     "metadata": {},
     "output_type": "execute_result"
    }
   ],
   "source": [
    "df.columnsumns"
   ]
  },
  {
   "cell_type": "code",
   "execution_count": 41,
   "metadata": {},
   "outputs": [
    {
     "data": {
      "text/plain": [
       "array(['Take Away', 'Main Hall', 'Express', 'Delivery', 'Dine-in', 'Bakery'], dtype=object)"
      ]
     },
     "execution_count": 41,
     "metadata": {},
     "output_type": "execute_result"
    }
   ],
   "source": [
    "df['Mapped_Sales_Type'].unique()"
   ]
  },
  {
   "cell_type": "code",
   "execution_count": 44,
   "metadata": {},
   "outputs": [],
   "source": [
    "# df['Avg_Discount_Percent_On_Discounted_Items'] = np.where(df['P*Q'].notnull(), (df['Discount_Amount']/df['P*Q'])*df['Tax%'] , np.nan )"
   ]
  },
  {
   "cell_type": "code",
   "execution_count": 45,
   "metadata": {
    "collapsed": true
   },
   "outputs": [],
   "source": [
    "df = df.loc[df['Avg_Discount_Percent_On_Discounted_Items'] < 1.0, :]"
   ]
  },
  {
   "cell_type": "code",
   "execution_count": 47,
   "metadata": {},
   "outputs": [
    {
     "data": {
      "text/html": [
       "<div>\n",
       "<style>\n",
       "    .dataframe thead tr:only-child th {\n",
       "        text-align: right;\n",
       "    }\n",
       "\n",
       "    .dataframe thead th {\n",
       "        text-align: left;\n",
       "    }\n",
       "\n",
       "    .dataframe tbody tr th {\n",
       "        vertical-align: top;\n",
       "    }\n",
       "</style>\n",
       "<table border=\"1\" class=\"dataframe\">\n",
       "  <thead>\n",
       "    <tr style=\"text-align: right;\">\n",
       "      <th></th>\n",
       "      <th>City</th>\n",
       "      <th>Mapped_Sales_Type</th>\n",
       "      <th>Mapped_Item_Code</th>\n",
       "      <th>Transaction_Date</th>\n",
       "      <th>Quantity_Sold</th>\n",
       "      <th>Median_Price</th>\n",
       "      <th>Average_Tax_Percent</th>\n",
       "      <th>Effective_Price</th>\n",
       "      <th>Percent_Quantity_With_Discount</th>\n",
       "      <th>Avg_Discount_Percent_On_Discounted_Items</th>\n",
       "      <th>...</th>\n",
       "      <th>Day</th>\n",
       "      <th>Car_sales</th>\n",
       "      <th>F_and_B_Inflation</th>\n",
       "      <th>F_and_B_Inflation_Adjusted_Effective_Price</th>\n",
       "      <th>F_and_B_Inflation_Adjusted_Median_Price</th>\n",
       "      <th>First_Week_Of_The_Month_Dummy</th>\n",
       "      <th>Last_Week_Of_The_Month_Dummy</th>\n",
       "      <th>Day_Of_The_Week_Seasonality</th>\n",
       "      <th>Month_Of_The_Year_Seasonality</th>\n",
       "      <th>Two_Wheeler_sales</th>\n",
       "    </tr>\n",
       "  </thead>\n",
       "  <tbody>\n",
       "  </tbody>\n",
       "</table>\n",
       "<p>0 rows × 22 columns</p>\n",
       "</div>"
      ],
      "text/plain": [
       "Empty DataFrame\n",
       "Columns: [City, Mapped_Sales_Type, Mapped_Item_Code, Transaction_Date, Quantity_Sold, Median_Price, Average_Tax_Percent, Effective_Price, Percent_Quantity_With_Discount, Avg_Discount_Percent_On_Discounted_Items, Year, Month, Day, Car_sales, F_and_B_Inflation, F_and_B_Inflation_Adjusted_Effective_Price, F_and_B_Inflation_Adjusted_Median_Price, First_Week_Of_The_Month_Dummy, Last_Week_Of_The_Month_Dummy, Day_Of_The_Week_Seasonality, Month_Of_The_Year_Seasonality, Two_Wheeler_sales]\n",
       "Index: []\n",
       "\n",
       "[0 rows x 22 columns]"
      ]
     },
     "execution_count": 47,
     "metadata": {},
     "output_type": "execute_result"
    }
   ],
   "source": [
    "df.loc[df['Avg_Discount_Percent_On_Discounted_Items'] >= 1.0]"
   ]
  },
  {
   "cell_type": "code",
   "execution_count": null,
   "metadata": {
    "collapsed": true
   },
   "outputs": [],
   "source": []
  },
  {
   "cell_type": "code",
   "execution_count": 48,
   "metadata": {
    "collapsed": true
   },
   "outputs": [],
   "source": [
    "dict_aggr1 = {'Quantity_Sold':'sum', 'Median_Price':'median', 'Effective_Price':'median'}"
   ]
  },
  {
   "cell_type": "code",
   "execution_count": 50,
   "metadata": {},
   "outputs": [],
   "source": [
    "df_agg = df.groupby(['City', 'Mapped_Sales_Type', 'Mapped_Item_Code', 'Transaction_Date']).agg(dict_aggr1).reset_index()"
   ]
  },
  {
   "cell_type": "code",
   "execution_count": 51,
   "metadata": {},
   "outputs": [
    {
     "data": {
      "text/html": [
       "<div>\n",
       "<style>\n",
       "    .dataframe thead tr:only-child th {\n",
       "        text-align: right;\n",
       "    }\n",
       "\n",
       "    .dataframe thead th {\n",
       "        text-align: left;\n",
       "    }\n",
       "\n",
       "    .dataframe tbody tr th {\n",
       "        vertical-align: top;\n",
       "    }\n",
       "</style>\n",
       "<table border=\"1\" class=\"dataframe\">\n",
       "  <thead>\n",
       "    <tr style=\"text-align: right;\">\n",
       "      <th></th>\n",
       "      <th>City</th>\n",
       "      <th>Mapped_Sales_Type</th>\n",
       "      <th>Mapped_Item_Code</th>\n",
       "      <th>Transaction_Date</th>\n",
       "      <th>Quantity_Sold</th>\n",
       "      <th>Median_Price</th>\n",
       "      <th>Effective_Price</th>\n",
       "    </tr>\n",
       "  </thead>\n",
       "  <tbody>\n",
       "    <tr>\n",
       "      <th>0</th>\n",
       "      <td>Hyderabad</td>\n",
       "      <td>Bakery</td>\n",
       "      <td>4059</td>\n",
       "      <td>2018-06-14</td>\n",
       "      <td>109</td>\n",
       "      <td>359.0</td>\n",
       "      <td>314.27</td>\n",
       "    </tr>\n",
       "    <tr>\n",
       "      <th>1</th>\n",
       "      <td>Hyderabad</td>\n",
       "      <td>Bakery</td>\n",
       "      <td>4060</td>\n",
       "      <td>2018-06-14</td>\n",
       "      <td>110</td>\n",
       "      <td>378.0</td>\n",
       "      <td>332.22</td>\n",
       "    </tr>\n",
       "    <tr>\n",
       "      <th>2</th>\n",
       "      <td>Hyderabad</td>\n",
       "      <td>Bakery</td>\n",
       "      <td>4063</td>\n",
       "      <td>2018-06-14</td>\n",
       "      <td>110</td>\n",
       "      <td>732.0</td>\n",
       "      <td>666.76</td>\n",
       "    </tr>\n",
       "  </tbody>\n",
       "</table>\n",
       "</div>"
      ],
      "text/plain": [
       "        City Mapped_Sales_Type Mapped_Item_Code Transaction_Date  \\\n",
       "0  Hyderabad            Bakery             4059       2018-06-14   \n",
       "1  Hyderabad            Bakery             4060       2018-06-14   \n",
       "2  Hyderabad            Bakery             4063       2018-06-14   \n",
       "\n",
       "   Quantity_Sold  Median_Price  Effective_Price  \n",
       "0            109         359.0           314.27  \n",
       "1            110         378.0           332.22  \n",
       "2            110         732.0           666.76  "
      ]
     },
     "execution_count": 51,
     "metadata": {},
     "output_type": "execute_result"
    }
   ],
   "source": [
    "df_agg[:3]"
   ]
  },
  {
   "cell_type": "code",
   "execution_count": 53,
   "metadata": {},
   "outputs": [
    {
     "data": {
      "text/html": [
       "<div>\n",
       "<style>\n",
       "    .dataframe thead tr:only-child th {\n",
       "        text-align: right;\n",
       "    }\n",
       "\n",
       "    .dataframe thead th {\n",
       "        text-align: left;\n",
       "    }\n",
       "\n",
       "    .dataframe tbody tr th {\n",
       "        vertical-align: top;\n",
       "    }\n",
       "</style>\n",
       "<table border=\"1\" class=\"dataframe\">\n",
       "  <thead>\n",
       "    <tr style=\"text-align: right;\">\n",
       "      <th></th>\n",
       "      <th>City</th>\n",
       "      <th>Mapped_Sales_Type</th>\n",
       "      <th>Mapped_Item_Code</th>\n",
       "      <th>Transaction_Date</th>\n",
       "      <th>Quantity_Sold</th>\n",
       "      <th>Median_Price</th>\n",
       "      <th>Average_Tax_Percent</th>\n",
       "      <th>Effective_Price</th>\n",
       "      <th>Percent_Quantity_With_Discount</th>\n",
       "      <th>Avg_Discount_Percent_On_Discounted_Items</th>\n",
       "      <th>...</th>\n",
       "      <th>Day</th>\n",
       "      <th>Car_sales</th>\n",
       "      <th>F_and_B_Inflation</th>\n",
       "      <th>F_and_B_Inflation_Adjusted_Effective_Price</th>\n",
       "      <th>F_and_B_Inflation_Adjusted_Median_Price</th>\n",
       "      <th>First_Week_Of_The_Month_Dummy</th>\n",
       "      <th>Last_Week_Of_The_Month_Dummy</th>\n",
       "      <th>Day_Of_The_Week_Seasonality</th>\n",
       "      <th>Month_Of_The_Year_Seasonality</th>\n",
       "      <th>Two_Wheeler_sales</th>\n",
       "    </tr>\n",
       "  </thead>\n",
       "  <tbody>\n",
       "  </tbody>\n",
       "</table>\n",
       "<p>0 rows × 22 columns</p>\n",
       "</div>"
      ],
      "text/plain": [
       "Empty DataFrame\n",
       "Columns: [City, Mapped_Sales_Type, Mapped_Item_Code, Transaction_Date, Quantity_Sold, Median_Price, Average_Tax_Percent, Effective_Price, Percent_Quantity_With_Discount, Avg_Discount_Percent_On_Discounted_Items, Year, Month, Day, Car_sales, F_and_B_Inflation, F_and_B_Inflation_Adjusted_Effective_Price, F_and_B_Inflation_Adjusted_Median_Price, First_Week_Of_The_Month_Dummy, Last_Week_Of_The_Month_Dummy, Day_Of_The_Week_Seasonality, Month_Of_The_Year_Seasonality, Two_Wheeler_sales]\n",
       "Index: []\n",
       "\n",
       "[0 rows x 22 columns]"
      ]
     },
     "execution_count": 53,
     "metadata": {},
     "output_type": "execute_result"
    }
   ],
   "source": [
    "df.loc[df['Median_Price'].isnull()]"
   ]
  },
  {
   "cell_type": "code",
   "execution_count": 55,
   "metadata": {},
   "outputs": [
    {
     "data": {
      "text/html": [
       "<div>\n",
       "<style>\n",
       "    .dataframe thead tr:only-child th {\n",
       "        text-align: right;\n",
       "    }\n",
       "\n",
       "    .dataframe thead th {\n",
       "        text-align: left;\n",
       "    }\n",
       "\n",
       "    .dataframe tbody tr th {\n",
       "        vertical-align: top;\n",
       "    }\n",
       "</style>\n",
       "<table border=\"1\" class=\"dataframe\">\n",
       "  <thead>\n",
       "    <tr style=\"text-align: right;\">\n",
       "      <th></th>\n",
       "      <th>City</th>\n",
       "      <th>Mapped_Sales_Type</th>\n",
       "      <th>Mapped_Item_Code</th>\n",
       "      <th>Transaction_Date</th>\n",
       "      <th>Quantity_Sold</th>\n",
       "      <th>Median_Price</th>\n",
       "      <th>Average_Tax_Percent</th>\n",
       "      <th>Effective_Price</th>\n",
       "      <th>Percent_Quantity_With_Discount</th>\n",
       "      <th>Avg_Discount_Percent_On_Discounted_Items</th>\n",
       "      <th>...</th>\n",
       "      <th>Day</th>\n",
       "      <th>Car_sales</th>\n",
       "      <th>F_and_B_Inflation</th>\n",
       "      <th>F_and_B_Inflation_Adjusted_Effective_Price</th>\n",
       "      <th>F_and_B_Inflation_Adjusted_Median_Price</th>\n",
       "      <th>First_Week_Of_The_Month_Dummy</th>\n",
       "      <th>Last_Week_Of_The_Month_Dummy</th>\n",
       "      <th>Day_Of_The_Week_Seasonality</th>\n",
       "      <th>Month_Of_The_Year_Seasonality</th>\n",
       "      <th>Two_Wheeler_sales</th>\n",
       "    </tr>\n",
       "  </thead>\n",
       "  <tbody>\n",
       "    <tr>\n",
       "      <th>5</th>\n",
       "      <td>Hyderabad</td>\n",
       "      <td>Delivery</td>\n",
       "      <td>4056</td>\n",
       "      <td>2018-07-31</td>\n",
       "      <td>617</td>\n",
       "      <td>322.0</td>\n",
       "      <td>0.05</td>\n",
       "      <td>305.354585</td>\n",
       "      <td>0.003953</td>\n",
       "      <td>0.105020</td>\n",
       "      <td>...</td>\n",
       "      <td>Tue</td>\n",
       "      <td>7559.28</td>\n",
       "      <td>143.7</td>\n",
       "      <td>1.818751</td>\n",
       "      <td>1.732777</td>\n",
       "      <td>0</td>\n",
       "      <td>1</td>\n",
       "      <td>0.82</td>\n",
       "      <td>1.06</td>\n",
       "      <td>37307.52</td>\n",
       "    </tr>\n",
       "    <tr>\n",
       "      <th>10</th>\n",
       "      <td>Hyderabad</td>\n",
       "      <td>Delivery</td>\n",
       "      <td>4061</td>\n",
       "      <td>2018-07-31</td>\n",
       "      <td>144</td>\n",
       "      <td>942.0</td>\n",
       "      <td>0.05</td>\n",
       "      <td>942.631515</td>\n",
       "      <td>0.151515</td>\n",
       "      <td>0.105006</td>\n",
       "      <td>...</td>\n",
       "      <td>Tue</td>\n",
       "      <td>7559.28</td>\n",
       "      <td>143.7</td>\n",
       "      <td>6.253525</td>\n",
       "      <td>6.047321</td>\n",
       "      <td>0</td>\n",
       "      <td>1</td>\n",
       "      <td>0.75</td>\n",
       "      <td>1.06</td>\n",
       "      <td>37307.52</td>\n",
       "    </tr>\n",
       "    <tr>\n",
       "      <th>20</th>\n",
       "      <td>Hyderabad</td>\n",
       "      <td>Dine-in</td>\n",
       "      <td>966</td>\n",
       "      <td>2018-07-31</td>\n",
       "      <td>1250</td>\n",
       "      <td>392.0</td>\n",
       "      <td>0.05</td>\n",
       "      <td>378.840053</td>\n",
       "      <td>0.003512</td>\n",
       "      <td>0.105008</td>\n",
       "      <td>...</td>\n",
       "      <td>Tue</td>\n",
       "      <td>7559.28</td>\n",
       "      <td>143.7</td>\n",
       "      <td>2.330133</td>\n",
       "      <td>2.219903</td>\n",
       "      <td>0</td>\n",
       "      <td>1</td>\n",
       "      <td>0.92</td>\n",
       "      <td>1.09</td>\n",
       "      <td>37307.52</td>\n",
       "    </tr>\n",
       "    <tr>\n",
       "      <th>24</th>\n",
       "      <td>Hyderabad</td>\n",
       "      <td>Dine-in</td>\n",
       "      <td>965</td>\n",
       "      <td>2018-07-31</td>\n",
       "      <td>1934</td>\n",
       "      <td>362.0</td>\n",
       "      <td>0.05</td>\n",
       "      <td>347.258327</td>\n",
       "      <td>0.001646</td>\n",
       "      <td>0.420000</td>\n",
       "      <td>...</td>\n",
       "      <td>Tue</td>\n",
       "      <td>7559.28</td>\n",
       "      <td>143.7</td>\n",
       "      <td>2.110357</td>\n",
       "      <td>2.011134</td>\n",
       "      <td>0</td>\n",
       "      <td>1</td>\n",
       "      <td>0.89</td>\n",
       "      <td>1.09</td>\n",
       "      <td>37307.52</td>\n",
       "    </tr>\n",
       "    <tr>\n",
       "      <th>26</th>\n",
       "      <td>Hyderabad</td>\n",
       "      <td>Delivery</td>\n",
       "      <td>4068</td>\n",
       "      <td>2018-07-31</td>\n",
       "      <td>148</td>\n",
       "      <td>622.0</td>\n",
       "      <td>0.05</td>\n",
       "      <td>618.898649</td>\n",
       "      <td>0.027027</td>\n",
       "      <td>0.105009</td>\n",
       "      <td>...</td>\n",
       "      <td>Tue</td>\n",
       "      <td>7559.28</td>\n",
       "      <td>143.7</td>\n",
       "      <td>4.000686</td>\n",
       "      <td>3.820459</td>\n",
       "      <td>0</td>\n",
       "      <td>1</td>\n",
       "      <td>0.64</td>\n",
       "      <td>1.06</td>\n",
       "      <td>37307.52</td>\n",
       "    </tr>\n",
       "  </tbody>\n",
       "</table>\n",
       "<p>5 rows × 22 columns</p>\n",
       "</div>"
      ],
      "text/plain": [
       "         City Mapped_Sales_Type Mapped_Item_Code Transaction_Date  \\\n",
       "5   Hyderabad          Delivery             4056       2018-07-31   \n",
       "10  Hyderabad          Delivery             4061       2018-07-31   \n",
       "20  Hyderabad           Dine-in              966       2018-07-31   \n",
       "24  Hyderabad           Dine-in              965       2018-07-31   \n",
       "26  Hyderabad          Delivery             4068       2018-07-31   \n",
       "\n",
       "    Quantity_Sold  Median_Price  Average_Tax_Percent  Effective_Price  \\\n",
       "5             617         322.0                 0.05       305.354585   \n",
       "10            144         942.0                 0.05       942.631515   \n",
       "20           1250         392.0                 0.05       378.840053   \n",
       "24           1934         362.0                 0.05       347.258327   \n",
       "26            148         622.0                 0.05       618.898649   \n",
       "\n",
       "    Percent_Quantity_With_Discount  Avg_Discount_Percent_On_Discounted_Items  \\\n",
       "5                         0.003953                                  0.105020   \n",
       "10                        0.151515                                  0.105006   \n",
       "20                        0.003512                                  0.105008   \n",
       "24                        0.001646                                  0.420000   \n",
       "26                        0.027027                                  0.105009   \n",
       "\n",
       "          ...          Day  Car_sales F_and_B_Inflation  \\\n",
       "5         ...          Tue    7559.28             143.7   \n",
       "10        ...          Tue    7559.28             143.7   \n",
       "20        ...          Tue    7559.28             143.7   \n",
       "24        ...          Tue    7559.28             143.7   \n",
       "26        ...          Tue    7559.28             143.7   \n",
       "\n",
       "    F_and_B_Inflation_Adjusted_Effective_Price  \\\n",
       "5                                     1.818751   \n",
       "10                                    6.253525   \n",
       "20                                    2.330133   \n",
       "24                                    2.110357   \n",
       "26                                    4.000686   \n",
       "\n",
       "    F_and_B_Inflation_Adjusted_Median_Price  First_Week_Of_The_Month_Dummy  \\\n",
       "5                                  1.732777                              0   \n",
       "10                                 6.047321                              0   \n",
       "20                                 2.219903                              0   \n",
       "24                                 2.011134                              0   \n",
       "26                                 3.820459                              0   \n",
       "\n",
       "    Last_Week_Of_The_Month_Dummy  Day_Of_The_Week_Seasonality  \\\n",
       "5                              1                         0.82   \n",
       "10                             1                         0.75   \n",
       "20                             1                         0.92   \n",
       "24                             1                         0.89   \n",
       "26                             1                         0.64   \n",
       "\n",
       "    Month_Of_The_Year_Seasonality  Two_Wheeler_sales  \n",
       "5                            1.06           37307.52  \n",
       "10                           1.06           37307.52  \n",
       "20                           1.09           37307.52  \n",
       "24                           1.09           37307.52  \n",
       "26                           1.06           37307.52  \n",
       "\n",
       "[5 rows x 22 columns]"
      ]
     },
     "execution_count": 55,
     "metadata": {},
     "output_type": "execute_result"
    }
   ],
   "source": [
    "df.loc[df['Effective_Price'].notnull()].head()"
   ]
  },
  {
   "cell_type": "code",
   "execution_count": 60,
   "metadata": {},
   "outputs": [
    {
     "data": {
      "text/html": [
       "<div>\n",
       "<style>\n",
       "    .dataframe thead tr:only-child th {\n",
       "        text-align: right;\n",
       "    }\n",
       "\n",
       "    .dataframe thead th {\n",
       "        text-align: left;\n",
       "    }\n",
       "\n",
       "    .dataframe tbody tr th {\n",
       "        vertical-align: top;\n",
       "    }\n",
       "</style>\n",
       "<table border=\"1\" class=\"dataframe\">\n",
       "  <thead>\n",
       "    <tr style=\"text-align: right;\">\n",
       "      <th></th>\n",
       "      <th>City</th>\n",
       "      <th>Mapped_Sales_Type</th>\n",
       "      <th>Mapped_Item_Code</th>\n",
       "      <th>Transaction_Date</th>\n",
       "      <th>Quantity_Sold</th>\n",
       "      <th>Median_Price</th>\n",
       "      <th>Average_Tax_Percent</th>\n",
       "      <th>Effective_Price</th>\n",
       "      <th>Percent_Quantity_With_Discount</th>\n",
       "      <th>Avg_Discount_Percent_On_Discounted_Items</th>\n",
       "      <th>...</th>\n",
       "      <th>Day</th>\n",
       "      <th>Car_sales</th>\n",
       "      <th>F_and_B_Inflation</th>\n",
       "      <th>F_and_B_Inflation_Adjusted_Effective_Price</th>\n",
       "      <th>F_and_B_Inflation_Adjusted_Median_Price</th>\n",
       "      <th>First_Week_Of_The_Month_Dummy</th>\n",
       "      <th>Last_Week_Of_The_Month_Dummy</th>\n",
       "      <th>Day_Of_The_Week_Seasonality</th>\n",
       "      <th>Month_Of_The_Year_Seasonality</th>\n",
       "      <th>Two_Wheeler_sales</th>\n",
       "    </tr>\n",
       "  </thead>\n",
       "  <tbody>\n",
       "    <tr>\n",
       "      <th>5</th>\n",
       "      <td>Hyderabad</td>\n",
       "      <td>Delivery</td>\n",
       "      <td>4056</td>\n",
       "      <td>2018-07-31</td>\n",
       "      <td>617</td>\n",
       "      <td>322.0</td>\n",
       "      <td>0.05</td>\n",
       "      <td>305.354585</td>\n",
       "      <td>0.003953</td>\n",
       "      <td>0.105020</td>\n",
       "      <td>...</td>\n",
       "      <td>Tue</td>\n",
       "      <td>7559.28</td>\n",
       "      <td>143.7</td>\n",
       "      <td>1.818751</td>\n",
       "      <td>1.732777</td>\n",
       "      <td>0</td>\n",
       "      <td>1</td>\n",
       "      <td>0.82</td>\n",
       "      <td>1.06</td>\n",
       "      <td>37307.52</td>\n",
       "    </tr>\n",
       "    <tr>\n",
       "      <th>10</th>\n",
       "      <td>Hyderabad</td>\n",
       "      <td>Delivery</td>\n",
       "      <td>4061</td>\n",
       "      <td>2018-07-31</td>\n",
       "      <td>144</td>\n",
       "      <td>942.0</td>\n",
       "      <td>0.05</td>\n",
       "      <td>942.631515</td>\n",
       "      <td>0.151515</td>\n",
       "      <td>0.105006</td>\n",
       "      <td>...</td>\n",
       "      <td>Tue</td>\n",
       "      <td>7559.28</td>\n",
       "      <td>143.7</td>\n",
       "      <td>6.253525</td>\n",
       "      <td>6.047321</td>\n",
       "      <td>0</td>\n",
       "      <td>1</td>\n",
       "      <td>0.75</td>\n",
       "      <td>1.06</td>\n",
       "      <td>37307.52</td>\n",
       "    </tr>\n",
       "    <tr>\n",
       "      <th>26</th>\n",
       "      <td>Hyderabad</td>\n",
       "      <td>Delivery</td>\n",
       "      <td>4068</td>\n",
       "      <td>2018-07-31</td>\n",
       "      <td>148</td>\n",
       "      <td>622.0</td>\n",
       "      <td>0.05</td>\n",
       "      <td>618.898649</td>\n",
       "      <td>0.027027</td>\n",
       "      <td>0.105009</td>\n",
       "      <td>...</td>\n",
       "      <td>Tue</td>\n",
       "      <td>7559.28</td>\n",
       "      <td>143.7</td>\n",
       "      <td>4.000686</td>\n",
       "      <td>3.820459</td>\n",
       "      <td>0</td>\n",
       "      <td>1</td>\n",
       "      <td>0.64</td>\n",
       "      <td>1.06</td>\n",
       "      <td>37307.52</td>\n",
       "    </tr>\n",
       "    <tr>\n",
       "      <th>42</th>\n",
       "      <td>Hyderabad</td>\n",
       "      <td>Delivery</td>\n",
       "      <td>4058</td>\n",
       "      <td>2018-07-31</td>\n",
       "      <td>532</td>\n",
       "      <td>272.0</td>\n",
       "      <td>0.05</td>\n",
       "      <td>252.660214</td>\n",
       "      <td>0.014252</td>\n",
       "      <td>0.105008</td>\n",
       "      <td>...</td>\n",
       "      <td>Tue</td>\n",
       "      <td>7559.28</td>\n",
       "      <td>143.7</td>\n",
       "      <td>1.452054</td>\n",
       "      <td>1.384830</td>\n",
       "      <td>0</td>\n",
       "      <td>1</td>\n",
       "      <td>0.72</td>\n",
       "      <td>1.06</td>\n",
       "      <td>37307.52</td>\n",
       "    </tr>\n",
       "    <tr>\n",
       "      <th>46</th>\n",
       "      <td>Hyderabad</td>\n",
       "      <td>Delivery</td>\n",
       "      <td>4064</td>\n",
       "      <td>2018-07-31</td>\n",
       "      <td>261</td>\n",
       "      <td>682.0</td>\n",
       "      <td>0.05</td>\n",
       "      <td>683.031933</td>\n",
       "      <td>0.006667</td>\n",
       "      <td>0.105008</td>\n",
       "      <td>...</td>\n",
       "      <td>Tue</td>\n",
       "      <td>7559.28</td>\n",
       "      <td>143.7</td>\n",
       "      <td>4.446986</td>\n",
       "      <td>4.237996</td>\n",
       "      <td>0</td>\n",
       "      <td>1</td>\n",
       "      <td>0.76</td>\n",
       "      <td>1.06</td>\n",
       "      <td>37307.52</td>\n",
       "    </tr>\n",
       "  </tbody>\n",
       "</table>\n",
       "<p>5 rows × 22 columns</p>\n",
       "</div>"
      ],
      "text/plain": [
       "         City Mapped_Sales_Type Mapped_Item_Code Transaction_Date  \\\n",
       "5   Hyderabad          Delivery             4056       2018-07-31   \n",
       "10  Hyderabad          Delivery             4061       2018-07-31   \n",
       "26  Hyderabad          Delivery             4068       2018-07-31   \n",
       "42  Hyderabad          Delivery             4058       2018-07-31   \n",
       "46  Hyderabad          Delivery             4064       2018-07-31   \n",
       "\n",
       "    Quantity_Sold  Median_Price  Average_Tax_Percent  Effective_Price  \\\n",
       "5             617         322.0                 0.05       305.354585   \n",
       "10            144         942.0                 0.05       942.631515   \n",
       "26            148         622.0                 0.05       618.898649   \n",
       "42            532         272.0                 0.05       252.660214   \n",
       "46            261         682.0                 0.05       683.031933   \n",
       "\n",
       "    Percent_Quantity_With_Discount  Avg_Discount_Percent_On_Discounted_Items  \\\n",
       "5                         0.003953                                  0.105020   \n",
       "10                        0.151515                                  0.105006   \n",
       "26                        0.027027                                  0.105009   \n",
       "42                        0.014252                                  0.105008   \n",
       "46                        0.006667                                  0.105008   \n",
       "\n",
       "          ...          Day  Car_sales F_and_B_Inflation  \\\n",
       "5         ...          Tue    7559.28             143.7   \n",
       "10        ...          Tue    7559.28             143.7   \n",
       "26        ...          Tue    7559.28             143.7   \n",
       "42        ...          Tue    7559.28             143.7   \n",
       "46        ...          Tue    7559.28             143.7   \n",
       "\n",
       "    F_and_B_Inflation_Adjusted_Effective_Price  \\\n",
       "5                                     1.818751   \n",
       "10                                    6.253525   \n",
       "26                                    4.000686   \n",
       "42                                    1.452054   \n",
       "46                                    4.446986   \n",
       "\n",
       "    F_and_B_Inflation_Adjusted_Median_Price  First_Week_Of_The_Month_Dummy  \\\n",
       "5                                  1.732777                              0   \n",
       "10                                 6.047321                              0   \n",
       "26                                 3.820459                              0   \n",
       "42                                 1.384830                              0   \n",
       "46                                 4.237996                              0   \n",
       "\n",
       "    Last_Week_Of_The_Month_Dummy  Day_Of_The_Week_Seasonality  \\\n",
       "5                              1                         0.82   \n",
       "10                             1                         0.75   \n",
       "26                             1                         0.64   \n",
       "42                             1                         0.72   \n",
       "46                             1                         0.76   \n",
       "\n",
       "    Month_Of_The_Year_Seasonality  Two_Wheeler_sales  \n",
       "5                            1.06           37307.52  \n",
       "10                           1.06           37307.52  \n",
       "26                           1.06           37307.52  \n",
       "42                           1.06           37307.52  \n",
       "46                           1.06           37307.52  \n",
       "\n",
       "[5 rows x 22 columns]"
      ]
     },
     "execution_count": 60,
     "metadata": {},
     "output_type": "execute_result"
    }
   ],
   "source": [
    "df.loc[(df['City'] == 'Hyderabad') & (df['Mapped_Sales_Type'] == 'Delivery'), :].head()"
   ]
  },
  {
   "cell_type": "code",
   "execution_count": 62,
   "metadata": {},
   "outputs": [
    {
     "data": {
      "text/html": [
       "<div>\n",
       "<style>\n",
       "    .dataframe thead tr:only-child th {\n",
       "        text-align: right;\n",
       "    }\n",
       "\n",
       "    .dataframe thead th {\n",
       "        text-align: left;\n",
       "    }\n",
       "\n",
       "    .dataframe tbody tr th {\n",
       "        vertical-align: top;\n",
       "    }\n",
       "</style>\n",
       "<table border=\"1\" class=\"dataframe\">\n",
       "  <thead>\n",
       "    <tr style=\"text-align: right;\">\n",
       "      <th></th>\n",
       "      <th>City</th>\n",
       "      <th>Mapped_Sales_Type</th>\n",
       "      <th>Mapped_Item_Code</th>\n",
       "      <th>Transaction_Date</th>\n",
       "      <th>Quantity_Sold</th>\n",
       "      <th>Median_Price</th>\n",
       "      <th>Average_Tax_Percent</th>\n",
       "      <th>Effective_Price</th>\n",
       "      <th>Percent_Quantity_With_Discount</th>\n",
       "      <th>Avg_Discount_Percent_On_Discounted_Items</th>\n",
       "      <th>...</th>\n",
       "      <th>Day</th>\n",
       "      <th>Car_sales</th>\n",
       "      <th>F_and_B_Inflation</th>\n",
       "      <th>F_and_B_Inflation_Adjusted_Effective_Price</th>\n",
       "      <th>F_and_B_Inflation_Adjusted_Median_Price</th>\n",
       "      <th>First_Week_Of_The_Month_Dummy</th>\n",
       "      <th>Last_Week_Of_The_Month_Dummy</th>\n",
       "      <th>Day_Of_The_Week_Seasonality</th>\n",
       "      <th>Month_Of_The_Year_Seasonality</th>\n",
       "      <th>Two_Wheeler_sales</th>\n",
       "    </tr>\n",
       "  </thead>\n",
       "  <tbody>\n",
       "    <tr>\n",
       "      <th>5</th>\n",
       "      <td>Hyderabad</td>\n",
       "      <td>Delivery</td>\n",
       "      <td>4056</td>\n",
       "      <td>2018-07-31</td>\n",
       "      <td>617</td>\n",
       "      <td>322.0</td>\n",
       "      <td>0.05</td>\n",
       "      <td>305.354585</td>\n",
       "      <td>0.003953</td>\n",
       "      <td>0.105020</td>\n",
       "      <td>...</td>\n",
       "      <td>Tue</td>\n",
       "      <td>7559.28</td>\n",
       "      <td>143.7</td>\n",
       "      <td>1.818751</td>\n",
       "      <td>1.732777</td>\n",
       "      <td>0</td>\n",
       "      <td>1</td>\n",
       "      <td>0.82</td>\n",
       "      <td>1.06</td>\n",
       "      <td>37307.52</td>\n",
       "    </tr>\n",
       "    <tr>\n",
       "      <th>10</th>\n",
       "      <td>Hyderabad</td>\n",
       "      <td>Delivery</td>\n",
       "      <td>4061</td>\n",
       "      <td>2018-07-31</td>\n",
       "      <td>144</td>\n",
       "      <td>942.0</td>\n",
       "      <td>0.05</td>\n",
       "      <td>942.631515</td>\n",
       "      <td>0.151515</td>\n",
       "      <td>0.105006</td>\n",
       "      <td>...</td>\n",
       "      <td>Tue</td>\n",
       "      <td>7559.28</td>\n",
       "      <td>143.7</td>\n",
       "      <td>6.253525</td>\n",
       "      <td>6.047321</td>\n",
       "      <td>0</td>\n",
       "      <td>1</td>\n",
       "      <td>0.75</td>\n",
       "      <td>1.06</td>\n",
       "      <td>37307.52</td>\n",
       "    </tr>\n",
       "    <tr>\n",
       "      <th>20</th>\n",
       "      <td>Hyderabad</td>\n",
       "      <td>Dine-in</td>\n",
       "      <td>966</td>\n",
       "      <td>2018-07-31</td>\n",
       "      <td>1250</td>\n",
       "      <td>392.0</td>\n",
       "      <td>0.05</td>\n",
       "      <td>378.840053</td>\n",
       "      <td>0.003512</td>\n",
       "      <td>0.105008</td>\n",
       "      <td>...</td>\n",
       "      <td>Tue</td>\n",
       "      <td>7559.28</td>\n",
       "      <td>143.7</td>\n",
       "      <td>2.330133</td>\n",
       "      <td>2.219903</td>\n",
       "      <td>0</td>\n",
       "      <td>1</td>\n",
       "      <td>0.92</td>\n",
       "      <td>1.09</td>\n",
       "      <td>37307.52</td>\n",
       "    </tr>\n",
       "    <tr>\n",
       "      <th>24</th>\n",
       "      <td>Hyderabad</td>\n",
       "      <td>Dine-in</td>\n",
       "      <td>965</td>\n",
       "      <td>2018-07-31</td>\n",
       "      <td>1934</td>\n",
       "      <td>362.0</td>\n",
       "      <td>0.05</td>\n",
       "      <td>347.258327</td>\n",
       "      <td>0.001646</td>\n",
       "      <td>0.420000</td>\n",
       "      <td>...</td>\n",
       "      <td>Tue</td>\n",
       "      <td>7559.28</td>\n",
       "      <td>143.7</td>\n",
       "      <td>2.110357</td>\n",
       "      <td>2.011134</td>\n",
       "      <td>0</td>\n",
       "      <td>1</td>\n",
       "      <td>0.89</td>\n",
       "      <td>1.09</td>\n",
       "      <td>37307.52</td>\n",
       "    </tr>\n",
       "    <tr>\n",
       "      <th>26</th>\n",
       "      <td>Hyderabad</td>\n",
       "      <td>Delivery</td>\n",
       "      <td>4068</td>\n",
       "      <td>2018-07-31</td>\n",
       "      <td>148</td>\n",
       "      <td>622.0</td>\n",
       "      <td>0.05</td>\n",
       "      <td>618.898649</td>\n",
       "      <td>0.027027</td>\n",
       "      <td>0.105009</td>\n",
       "      <td>...</td>\n",
       "      <td>Tue</td>\n",
       "      <td>7559.28</td>\n",
       "      <td>143.7</td>\n",
       "      <td>4.000686</td>\n",
       "      <td>3.820459</td>\n",
       "      <td>0</td>\n",
       "      <td>1</td>\n",
       "      <td>0.64</td>\n",
       "      <td>1.06</td>\n",
       "      <td>37307.52</td>\n",
       "    </tr>\n",
       "  </tbody>\n",
       "</table>\n",
       "<p>5 rows × 22 columns</p>\n",
       "</div>"
      ],
      "text/plain": [
       "         City Mapped_Sales_Type Mapped_Item_Code Transaction_Date  \\\n",
       "5   Hyderabad          Delivery             4056       2018-07-31   \n",
       "10  Hyderabad          Delivery             4061       2018-07-31   \n",
       "20  Hyderabad           Dine-in              966       2018-07-31   \n",
       "24  Hyderabad           Dine-in              965       2018-07-31   \n",
       "26  Hyderabad          Delivery             4068       2018-07-31   \n",
       "\n",
       "    Quantity_Sold  Median_Price  Average_Tax_Percent  Effective_Price  \\\n",
       "5             617         322.0                 0.05       305.354585   \n",
       "10            144         942.0                 0.05       942.631515   \n",
       "20           1250         392.0                 0.05       378.840053   \n",
       "24           1934         362.0                 0.05       347.258327   \n",
       "26            148         622.0                 0.05       618.898649   \n",
       "\n",
       "    Percent_Quantity_With_Discount  Avg_Discount_Percent_On_Discounted_Items  \\\n",
       "5                         0.003953                                  0.105020   \n",
       "10                        0.151515                                  0.105006   \n",
       "20                        0.003512                                  0.105008   \n",
       "24                        0.001646                                  0.420000   \n",
       "26                        0.027027                                  0.105009   \n",
       "\n",
       "          ...          Day  Car_sales F_and_B_Inflation  \\\n",
       "5         ...          Tue    7559.28             143.7   \n",
       "10        ...          Tue    7559.28             143.7   \n",
       "20        ...          Tue    7559.28             143.7   \n",
       "24        ...          Tue    7559.28             143.7   \n",
       "26        ...          Tue    7559.28             143.7   \n",
       "\n",
       "    F_and_B_Inflation_Adjusted_Effective_Price  \\\n",
       "5                                     1.818751   \n",
       "10                                    6.253525   \n",
       "20                                    2.330133   \n",
       "24                                    2.110357   \n",
       "26                                    4.000686   \n",
       "\n",
       "    F_and_B_Inflation_Adjusted_Median_Price  First_Week_Of_The_Month_Dummy  \\\n",
       "5                                  1.732777                              0   \n",
       "10                                 6.047321                              0   \n",
       "20                                 2.219903                              0   \n",
       "24                                 2.011134                              0   \n",
       "26                                 3.820459                              0   \n",
       "\n",
       "    Last_Week_Of_The_Month_Dummy  Day_Of_The_Week_Seasonality  \\\n",
       "5                              1                         0.82   \n",
       "10                             1                         0.75   \n",
       "20                             1                         0.92   \n",
       "24                             1                         0.89   \n",
       "26                             1                         0.64   \n",
       "\n",
       "    Month_Of_The_Year_Seasonality  Two_Wheeler_sales  \n",
       "5                            1.06           37307.52  \n",
       "10                           1.06           37307.52  \n",
       "20                           1.09           37307.52  \n",
       "24                           1.09           37307.52  \n",
       "26                           1.06           37307.52  \n",
       "\n",
       "[5 rows x 22 columns]"
      ]
     },
     "execution_count": 62,
     "metadata": {},
     "output_type": "execute_result"
    }
   ],
   "source": [
    "df.loc[df['Day'].isin(['Mon', 'Tue']), :].head()"
   ]
  },
  {
   "cell_type": "code",
   "execution_count": 64,
   "metadata": {},
   "outputs": [
    {
     "data": {
      "text/html": [
       "<div>\n",
       "<style>\n",
       "    .dataframe thead tr:only-child th {\n",
       "        text-align: right;\n",
       "    }\n",
       "\n",
       "    .dataframe thead th {\n",
       "        text-align: left;\n",
       "    }\n",
       "\n",
       "    .dataframe tbody tr th {\n",
       "        vertical-align: top;\n",
       "    }\n",
       "</style>\n",
       "<table border=\"1\" class=\"dataframe\">\n",
       "  <thead>\n",
       "    <tr style=\"text-align: right;\">\n",
       "      <th></th>\n",
       "      <th>City</th>\n",
       "      <th>Mapped_Sales_Type</th>\n",
       "      <th>Mapped_Item_Code</th>\n",
       "      <th>Transaction_Date</th>\n",
       "      <th>Quantity_Sold</th>\n",
       "      <th>Median_Price</th>\n",
       "      <th>Average_Tax_Percent</th>\n",
       "      <th>Effective_Price</th>\n",
       "      <th>Percent_Quantity_With_Discount</th>\n",
       "      <th>Avg_Discount_Percent_On_Discounted_Items</th>\n",
       "      <th>...</th>\n",
       "      <th>Day</th>\n",
       "      <th>Car_sales</th>\n",
       "      <th>F_and_B_Inflation</th>\n",
       "      <th>F_and_B_Inflation_Adjusted_Effective_Price</th>\n",
       "      <th>F_and_B_Inflation_Adjusted_Median_Price</th>\n",
       "      <th>First_Week_Of_The_Month_Dummy</th>\n",
       "      <th>Last_Week_Of_The_Month_Dummy</th>\n",
       "      <th>Day_Of_The_Week_Seasonality</th>\n",
       "      <th>Month_Of_The_Year_Seasonality</th>\n",
       "      <th>Two_Wheeler_sales</th>\n",
       "    </tr>\n",
       "  </thead>\n",
       "  <tbody>\n",
       "    <tr>\n",
       "      <th>5</th>\n",
       "      <td>Hyderabad</td>\n",
       "      <td>Delivery</td>\n",
       "      <td>4056</td>\n",
       "      <td>2018-07-31</td>\n",
       "      <td>617</td>\n",
       "      <td>322.0</td>\n",
       "      <td>0.05</td>\n",
       "      <td>305.354585</td>\n",
       "      <td>0.003953</td>\n",
       "      <td>0.105020</td>\n",
       "      <td>...</td>\n",
       "      <td>Tue</td>\n",
       "      <td>7559.28</td>\n",
       "      <td>143.7</td>\n",
       "      <td>1.818751</td>\n",
       "      <td>1.732777</td>\n",
       "      <td>0</td>\n",
       "      <td>1</td>\n",
       "      <td>0.82</td>\n",
       "      <td>1.06</td>\n",
       "      <td>37307.52</td>\n",
       "    </tr>\n",
       "    <tr>\n",
       "      <th>10</th>\n",
       "      <td>Hyderabad</td>\n",
       "      <td>Delivery</td>\n",
       "      <td>4061</td>\n",
       "      <td>2018-07-31</td>\n",
       "      <td>144</td>\n",
       "      <td>942.0</td>\n",
       "      <td>0.05</td>\n",
       "      <td>942.631515</td>\n",
       "      <td>0.151515</td>\n",
       "      <td>0.105006</td>\n",
       "      <td>...</td>\n",
       "      <td>Tue</td>\n",
       "      <td>7559.28</td>\n",
       "      <td>143.7</td>\n",
       "      <td>6.253525</td>\n",
       "      <td>6.047321</td>\n",
       "      <td>0</td>\n",
       "      <td>1</td>\n",
       "      <td>0.75</td>\n",
       "      <td>1.06</td>\n",
       "      <td>37307.52</td>\n",
       "    </tr>\n",
       "    <tr>\n",
       "      <th>20</th>\n",
       "      <td>Hyderabad</td>\n",
       "      <td>Dine-in</td>\n",
       "      <td>966</td>\n",
       "      <td>2018-07-31</td>\n",
       "      <td>1250</td>\n",
       "      <td>392.0</td>\n",
       "      <td>0.05</td>\n",
       "      <td>378.840053</td>\n",
       "      <td>0.003512</td>\n",
       "      <td>0.105008</td>\n",
       "      <td>...</td>\n",
       "      <td>Tue</td>\n",
       "      <td>7559.28</td>\n",
       "      <td>143.7</td>\n",
       "      <td>2.330133</td>\n",
       "      <td>2.219903</td>\n",
       "      <td>0</td>\n",
       "      <td>1</td>\n",
       "      <td>0.92</td>\n",
       "      <td>1.09</td>\n",
       "      <td>37307.52</td>\n",
       "    </tr>\n",
       "    <tr>\n",
       "      <th>24</th>\n",
       "      <td>Hyderabad</td>\n",
       "      <td>Dine-in</td>\n",
       "      <td>965</td>\n",
       "      <td>2018-07-31</td>\n",
       "      <td>1934</td>\n",
       "      <td>362.0</td>\n",
       "      <td>0.05</td>\n",
       "      <td>347.258327</td>\n",
       "      <td>0.001646</td>\n",
       "      <td>0.420000</td>\n",
       "      <td>...</td>\n",
       "      <td>Tue</td>\n",
       "      <td>7559.28</td>\n",
       "      <td>143.7</td>\n",
       "      <td>2.110357</td>\n",
       "      <td>2.011134</td>\n",
       "      <td>0</td>\n",
       "      <td>1</td>\n",
       "      <td>0.89</td>\n",
       "      <td>1.09</td>\n",
       "      <td>37307.52</td>\n",
       "    </tr>\n",
       "    <tr>\n",
       "      <th>26</th>\n",
       "      <td>Hyderabad</td>\n",
       "      <td>Delivery</td>\n",
       "      <td>4068</td>\n",
       "      <td>2018-07-31</td>\n",
       "      <td>148</td>\n",
       "      <td>622.0</td>\n",
       "      <td>0.05</td>\n",
       "      <td>618.898649</td>\n",
       "      <td>0.027027</td>\n",
       "      <td>0.105009</td>\n",
       "      <td>...</td>\n",
       "      <td>Tue</td>\n",
       "      <td>7559.28</td>\n",
       "      <td>143.7</td>\n",
       "      <td>4.000686</td>\n",
       "      <td>3.820459</td>\n",
       "      <td>0</td>\n",
       "      <td>1</td>\n",
       "      <td>0.64</td>\n",
       "      <td>1.06</td>\n",
       "      <td>37307.52</td>\n",
       "    </tr>\n",
       "  </tbody>\n",
       "</table>\n",
       "<p>5 rows × 22 columns</p>\n",
       "</div>"
      ],
      "text/plain": [
       "         City Mapped_Sales_Type Mapped_Item_Code Transaction_Date  \\\n",
       "5   Hyderabad          Delivery             4056       2018-07-31   \n",
       "10  Hyderabad          Delivery             4061       2018-07-31   \n",
       "20  Hyderabad           Dine-in              966       2018-07-31   \n",
       "24  Hyderabad           Dine-in              965       2018-07-31   \n",
       "26  Hyderabad          Delivery             4068       2018-07-31   \n",
       "\n",
       "    Quantity_Sold  Median_Price  Average_Tax_Percent  Effective_Price  \\\n",
       "5             617         322.0                 0.05       305.354585   \n",
       "10            144         942.0                 0.05       942.631515   \n",
       "20           1250         392.0                 0.05       378.840053   \n",
       "24           1934         362.0                 0.05       347.258327   \n",
       "26            148         622.0                 0.05       618.898649   \n",
       "\n",
       "    Percent_Quantity_With_Discount  Avg_Discount_Percent_On_Discounted_Items  \\\n",
       "5                         0.003953                                  0.105020   \n",
       "10                        0.151515                                  0.105006   \n",
       "20                        0.003512                                  0.105008   \n",
       "24                        0.001646                                  0.420000   \n",
       "26                        0.027027                                  0.105009   \n",
       "\n",
       "          ...          Day  Car_sales F_and_B_Inflation  \\\n",
       "5         ...          Tue    7559.28             143.7   \n",
       "10        ...          Tue    7559.28             143.7   \n",
       "20        ...          Tue    7559.28             143.7   \n",
       "24        ...          Tue    7559.28             143.7   \n",
       "26        ...          Tue    7559.28             143.7   \n",
       "\n",
       "    F_and_B_Inflation_Adjusted_Effective_Price  \\\n",
       "5                                     1.818751   \n",
       "10                                    6.253525   \n",
       "20                                    2.330133   \n",
       "24                                    2.110357   \n",
       "26                                    4.000686   \n",
       "\n",
       "    F_and_B_Inflation_Adjusted_Median_Price  First_Week_Of_The_Month_Dummy  \\\n",
       "5                                  1.732777                              0   \n",
       "10                                 6.047321                              0   \n",
       "20                                 2.219903                              0   \n",
       "24                                 2.011134                              0   \n",
       "26                                 3.820459                              0   \n",
       "\n",
       "    Last_Week_Of_The_Month_Dummy  Day_Of_The_Week_Seasonality  \\\n",
       "5                              1                         0.82   \n",
       "10                             1                         0.75   \n",
       "20                             1                         0.92   \n",
       "24                             1                         0.89   \n",
       "26                             1                         0.64   \n",
       "\n",
       "    Month_Of_The_Year_Seasonality  Two_Wheeler_sales  \n",
       "5                            1.06           37307.52  \n",
       "10                           1.06           37307.52  \n",
       "20                           1.09           37307.52  \n",
       "24                           1.09           37307.52  \n",
       "26                           1.06           37307.52  \n",
       "\n",
       "[5 rows x 22 columns]"
      ]
     },
     "execution_count": 64,
     "metadata": {},
     "output_type": "execute_result"
    }
   ],
   "source": [
    "df.loc[df['Percent_Quantity_With_Discount'] != 0.0, :].head()"
   ]
  },
  {
   "cell_type": "code",
   "execution_count": 63,
   "metadata": {},
   "outputs": [
    {
     "data": {
      "text/plain": [
       "Index(['City', 'Mapped_Sales_Type', 'Mapped_Item_Code', 'Transaction_Date',\n",
       "       'Quantity_Sold', 'Median_Price', 'Average_Tax_Percent',\n",
       "       'Effective_Price', 'Percent_Quantity_With_Discount',\n",
       "       'Avg_Discount_Percent_On_Discounted_Items', 'Year', 'Month', 'Day',\n",
       "       'Car_sales', 'F_and_B_Inflation',\n",
       "       'F_and_B_Inflation_Adjusted_Effective_Price',\n",
       "       'F_and_B_Inflation_Adjusted_Median_Price',\n",
       "       'First_Week_Of_The_Month_Dummy', 'Last_Week_Of_The_Month_Dummy',\n",
       "       'Day_Of_The_Week_Seasonality', 'Month_Of_The_Year_Seasonality',\n",
       "       'Two_Wheeler_sales'],\n",
       "      dtype='object')"
      ]
     },
     "execution_count": 63,
     "metadata": {},
     "output_type": "execute_result"
    }
   ],
   "source": [
    "df.columns"
   ]
  },
  {
   "cell_type": "code",
   "execution_count": 65,
   "metadata": {
    "collapsed": true
   },
   "outputs": [],
   "source": [
    "df['Range'] = np.where(df['Effective_Price']>500, 'High', 'Average')"
   ]
  },
  {
   "cell_type": "code",
   "execution_count": 66,
   "metadata": {},
   "outputs": [
    {
     "data": {
      "text/html": [
       "<div>\n",
       "<style>\n",
       "    .dataframe thead tr:only-child th {\n",
       "        text-align: right;\n",
       "    }\n",
       "\n",
       "    .dataframe thead th {\n",
       "        text-align: left;\n",
       "    }\n",
       "\n",
       "    .dataframe tbody tr th {\n",
       "        vertical-align: top;\n",
       "    }\n",
       "</style>\n",
       "<table border=\"1\" class=\"dataframe\">\n",
       "  <thead>\n",
       "    <tr style=\"text-align: right;\">\n",
       "      <th></th>\n",
       "      <th>City</th>\n",
       "      <th>Mapped_Sales_Type</th>\n",
       "      <th>Mapped_Item_Code</th>\n",
       "      <th>Transaction_Date</th>\n",
       "      <th>Quantity_Sold</th>\n",
       "      <th>Median_Price</th>\n",
       "      <th>Average_Tax_Percent</th>\n",
       "      <th>Effective_Price</th>\n",
       "      <th>Percent_Quantity_With_Discount</th>\n",
       "      <th>Avg_Discount_Percent_On_Discounted_Items</th>\n",
       "      <th>...</th>\n",
       "      <th>Car_sales</th>\n",
       "      <th>F_and_B_Inflation</th>\n",
       "      <th>F_and_B_Inflation_Adjusted_Effective_Price</th>\n",
       "      <th>F_and_B_Inflation_Adjusted_Median_Price</th>\n",
       "      <th>First_Week_Of_The_Month_Dummy</th>\n",
       "      <th>Last_Week_Of_The_Month_Dummy</th>\n",
       "      <th>Day_Of_The_Week_Seasonality</th>\n",
       "      <th>Month_Of_The_Year_Seasonality</th>\n",
       "      <th>Two_Wheeler_sales</th>\n",
       "      <th>Range</th>\n",
       "    </tr>\n",
       "  </thead>\n",
       "  <tbody>\n",
       "    <tr>\n",
       "      <th>5</th>\n",
       "      <td>Hyderabad</td>\n",
       "      <td>Delivery</td>\n",
       "      <td>4056</td>\n",
       "      <td>2018-07-31</td>\n",
       "      <td>617</td>\n",
       "      <td>322.0</td>\n",
       "      <td>0.05</td>\n",
       "      <td>305.354585</td>\n",
       "      <td>0.003953</td>\n",
       "      <td>0.105020</td>\n",
       "      <td>...</td>\n",
       "      <td>7559.28</td>\n",
       "      <td>143.7</td>\n",
       "      <td>1.818751</td>\n",
       "      <td>1.732777</td>\n",
       "      <td>0</td>\n",
       "      <td>1</td>\n",
       "      <td>0.82</td>\n",
       "      <td>1.06</td>\n",
       "      <td>37307.52</td>\n",
       "      <td>Average</td>\n",
       "    </tr>\n",
       "    <tr>\n",
       "      <th>10</th>\n",
       "      <td>Hyderabad</td>\n",
       "      <td>Delivery</td>\n",
       "      <td>4061</td>\n",
       "      <td>2018-07-31</td>\n",
       "      <td>144</td>\n",
       "      <td>942.0</td>\n",
       "      <td>0.05</td>\n",
       "      <td>942.631515</td>\n",
       "      <td>0.151515</td>\n",
       "      <td>0.105006</td>\n",
       "      <td>...</td>\n",
       "      <td>7559.28</td>\n",
       "      <td>143.7</td>\n",
       "      <td>6.253525</td>\n",
       "      <td>6.047321</td>\n",
       "      <td>0</td>\n",
       "      <td>1</td>\n",
       "      <td>0.75</td>\n",
       "      <td>1.06</td>\n",
       "      <td>37307.52</td>\n",
       "      <td>High</td>\n",
       "    </tr>\n",
       "    <tr>\n",
       "      <th>20</th>\n",
       "      <td>Hyderabad</td>\n",
       "      <td>Dine-in</td>\n",
       "      <td>966</td>\n",
       "      <td>2018-07-31</td>\n",
       "      <td>1250</td>\n",
       "      <td>392.0</td>\n",
       "      <td>0.05</td>\n",
       "      <td>378.840053</td>\n",
       "      <td>0.003512</td>\n",
       "      <td>0.105008</td>\n",
       "      <td>...</td>\n",
       "      <td>7559.28</td>\n",
       "      <td>143.7</td>\n",
       "      <td>2.330133</td>\n",
       "      <td>2.219903</td>\n",
       "      <td>0</td>\n",
       "      <td>1</td>\n",
       "      <td>0.92</td>\n",
       "      <td>1.09</td>\n",
       "      <td>37307.52</td>\n",
       "      <td>Average</td>\n",
       "    </tr>\n",
       "    <tr>\n",
       "      <th>24</th>\n",
       "      <td>Hyderabad</td>\n",
       "      <td>Dine-in</td>\n",
       "      <td>965</td>\n",
       "      <td>2018-07-31</td>\n",
       "      <td>1934</td>\n",
       "      <td>362.0</td>\n",
       "      <td>0.05</td>\n",
       "      <td>347.258327</td>\n",
       "      <td>0.001646</td>\n",
       "      <td>0.420000</td>\n",
       "      <td>...</td>\n",
       "      <td>7559.28</td>\n",
       "      <td>143.7</td>\n",
       "      <td>2.110357</td>\n",
       "      <td>2.011134</td>\n",
       "      <td>0</td>\n",
       "      <td>1</td>\n",
       "      <td>0.89</td>\n",
       "      <td>1.09</td>\n",
       "      <td>37307.52</td>\n",
       "      <td>Average</td>\n",
       "    </tr>\n",
       "    <tr>\n",
       "      <th>26</th>\n",
       "      <td>Hyderabad</td>\n",
       "      <td>Delivery</td>\n",
       "      <td>4068</td>\n",
       "      <td>2018-07-31</td>\n",
       "      <td>148</td>\n",
       "      <td>622.0</td>\n",
       "      <td>0.05</td>\n",
       "      <td>618.898649</td>\n",
       "      <td>0.027027</td>\n",
       "      <td>0.105009</td>\n",
       "      <td>...</td>\n",
       "      <td>7559.28</td>\n",
       "      <td>143.7</td>\n",
       "      <td>4.000686</td>\n",
       "      <td>3.820459</td>\n",
       "      <td>0</td>\n",
       "      <td>1</td>\n",
       "      <td>0.64</td>\n",
       "      <td>1.06</td>\n",
       "      <td>37307.52</td>\n",
       "      <td>High</td>\n",
       "    </tr>\n",
       "  </tbody>\n",
       "</table>\n",
       "<p>5 rows × 23 columns</p>\n",
       "</div>"
      ],
      "text/plain": [
       "         City Mapped_Sales_Type Mapped_Item_Code Transaction_Date  \\\n",
       "5   Hyderabad          Delivery             4056       2018-07-31   \n",
       "10  Hyderabad          Delivery             4061       2018-07-31   \n",
       "20  Hyderabad           Dine-in              966       2018-07-31   \n",
       "24  Hyderabad           Dine-in              965       2018-07-31   \n",
       "26  Hyderabad          Delivery             4068       2018-07-31   \n",
       "\n",
       "    Quantity_Sold  Median_Price  Average_Tax_Percent  Effective_Price  \\\n",
       "5             617         322.0                 0.05       305.354585   \n",
       "10            144         942.0                 0.05       942.631515   \n",
       "20           1250         392.0                 0.05       378.840053   \n",
       "24           1934         362.0                 0.05       347.258327   \n",
       "26            148         622.0                 0.05       618.898649   \n",
       "\n",
       "    Percent_Quantity_With_Discount  Avg_Discount_Percent_On_Discounted_Items  \\\n",
       "5                         0.003953                                  0.105020   \n",
       "10                        0.151515                                  0.105006   \n",
       "20                        0.003512                                  0.105008   \n",
       "24                        0.001646                                  0.420000   \n",
       "26                        0.027027                                  0.105009   \n",
       "\n",
       "     ...     Car_sales  F_and_B_Inflation  \\\n",
       "5    ...       7559.28              143.7   \n",
       "10   ...       7559.28              143.7   \n",
       "20   ...       7559.28              143.7   \n",
       "24   ...       7559.28              143.7   \n",
       "26   ...       7559.28              143.7   \n",
       "\n",
       "   F_and_B_Inflation_Adjusted_Effective_Price  \\\n",
       "5                                    1.818751   \n",
       "10                                   6.253525   \n",
       "20                                   2.330133   \n",
       "24                                   2.110357   \n",
       "26                                   4.000686   \n",
       "\n",
       "    F_and_B_Inflation_Adjusted_Median_Price  First_Week_Of_The_Month_Dummy  \\\n",
       "5                                  1.732777                              0   \n",
       "10                                 6.047321                              0   \n",
       "20                                 2.219903                              0   \n",
       "24                                 2.011134                              0   \n",
       "26                                 3.820459                              0   \n",
       "\n",
       "    Last_Week_Of_The_Month_Dummy  Day_Of_The_Week_Seasonality  \\\n",
       "5                              1                         0.82   \n",
       "10                             1                         0.75   \n",
       "20                             1                         0.92   \n",
       "24                             1                         0.89   \n",
       "26                             1                         0.64   \n",
       "\n",
       "    Month_Of_The_Year_Seasonality  Two_Wheeler_sales    Range  \n",
       "5                            1.06           37307.52  Average  \n",
       "10                           1.06           37307.52     High  \n",
       "20                           1.09           37307.52  Average  \n",
       "24                           1.09           37307.52  Average  \n",
       "26                           1.06           37307.52     High  \n",
       "\n",
       "[5 rows x 23 columns]"
      ]
     },
     "execution_count": 66,
     "metadata": {},
     "output_type": "execute_result"
    }
   ],
   "source": [
    "df.head()"
   ]
  },
  {
   "cell_type": "code",
   "execution_count": null,
   "metadata": {
    "collapsed": true
   },
   "outputs": [],
   "source": []
  },
  {
   "cell_type": "code",
   "execution_count": null,
   "metadata": {
    "collapsed": true
   },
   "outputs": [],
   "source": [
    "t1 = pd.read_csv('Dataset_new1.csv')"
   ]
  },
  {
   "cell_type": "code",
   "execution_count": 70,
   "metadata": {},
   "outputs": [
    {
     "data": {
      "text/html": [
       "<div>\n",
       "<style>\n",
       "    .dataframe thead tr:only-child th {\n",
       "        text-align: right;\n",
       "    }\n",
       "\n",
       "    .dataframe thead th {\n",
       "        text-align: left;\n",
       "    }\n",
       "\n",
       "    .dataframe tbody tr th {\n",
       "        vertical-align: top;\n",
       "    }\n",
       "</style>\n",
       "<table border=\"1\" class=\"dataframe\">\n",
       "  <thead>\n",
       "    <tr style=\"text-align: right;\">\n",
       "      <th></th>\n",
       "      <th>Unnamed: 0</th>\n",
       "      <th>City</th>\n",
       "      <th>Mapped_Sales_Type</th>\n",
       "      <th>Mapped_Item_Code</th>\n",
       "      <th>Transaction_Date</th>\n",
       "      <th>Quantity_Sold</th>\n",
       "      <th>Median_Price</th>\n",
       "      <th>Average_Tax_Percent</th>\n",
       "      <th>Effective_Price</th>\n",
       "      <th>Percent_Quantity_With_Discount</th>\n",
       "      <th>...</th>\n",
       "      <th>Day</th>\n",
       "      <th>Car_sales</th>\n",
       "      <th>F_and_B_Inflation</th>\n",
       "      <th>F_and_B_Inflation_Adjusted_Effective_Price</th>\n",
       "      <th>F_and_B_Inflation_Adjusted_Median_Price</th>\n",
       "      <th>First_Week_Of_The_Month_Dummy</th>\n",
       "      <th>Last_Week_Of_The_Month_Dummy</th>\n",
       "      <th>Day_Of_The_Week_Seasonality</th>\n",
       "      <th>Month_Of_The_Year_Seasonality</th>\n",
       "      <th>Two_Wheeler_sales</th>\n",
       "    </tr>\n",
       "  </thead>\n",
       "  <tbody>\n",
       "    <tr>\n",
       "      <th>0</th>\n",
       "      <td>0</td>\n",
       "      <td>Hyderabad</td>\n",
       "      <td>Take Away</td>\n",
       "      <td>9978</td>\n",
       "      <td>2018-07-31</td>\n",
       "      <td>167</td>\n",
       "      <td>187.0</td>\n",
       "      <td>0.05</td>\n",
       "      <td>163.700000</td>\n",
       "      <td>NaN</td>\n",
       "      <td>...</td>\n",
       "      <td>Tue</td>\n",
       "      <td>7559.28</td>\n",
       "      <td>143.7</td>\n",
       "      <td>0.832985</td>\n",
       "      <td>0.793319</td>\n",
       "      <td>0</td>\n",
       "      <td>1</td>\n",
       "      <td>0.86</td>\n",
       "      <td>0.91</td>\n",
       "      <td>37307.52</td>\n",
       "    </tr>\n",
       "    <tr>\n",
       "      <th>1</th>\n",
       "      <td>1</td>\n",
       "      <td>Hyderabad</td>\n",
       "      <td>Take Away</td>\n",
       "      <td>4064</td>\n",
       "      <td>2018-07-31</td>\n",
       "      <td>368</td>\n",
       "      <td>602.0</td>\n",
       "      <td>0.05</td>\n",
       "      <td>584.329105</td>\n",
       "      <td>0.027237</td>\n",
       "      <td>...</td>\n",
       "      <td>Tue</td>\n",
       "      <td>7559.28</td>\n",
       "      <td>143.7</td>\n",
       "      <td>3.760119</td>\n",
       "      <td>3.681280</td>\n",
       "      <td>0</td>\n",
       "      <td>1</td>\n",
       "      <td>0.83</td>\n",
       "      <td>0.91</td>\n",
       "      <td>37307.52</td>\n",
       "    </tr>\n",
       "    <tr>\n",
       "      <th>2</th>\n",
       "      <td>2</td>\n",
       "      <td>Hyderabad</td>\n",
       "      <td>Main Hall</td>\n",
       "      <td>965</td>\n",
       "      <td>2018-07-31</td>\n",
       "      <td>694</td>\n",
       "      <td>263.0</td>\n",
       "      <td>0.05</td>\n",
       "      <td>244.835163</td>\n",
       "      <td>NaN</td>\n",
       "      <td>...</td>\n",
       "      <td>Tue</td>\n",
       "      <td>7559.28</td>\n",
       "      <td>143.7</td>\n",
       "      <td>1.397600</td>\n",
       "      <td>1.322199</td>\n",
       "      <td>0</td>\n",
       "      <td>1</td>\n",
       "      <td>1.08</td>\n",
       "      <td>1.08</td>\n",
       "      <td>37307.52</td>\n",
       "    </tr>\n",
       "    <tr>\n",
       "      <th>3</th>\n",
       "      <td>3</td>\n",
       "      <td>Hyderabad</td>\n",
       "      <td>Express</td>\n",
       "      <td>9978</td>\n",
       "      <td>2018-07-31</td>\n",
       "      <td>140</td>\n",
       "      <td>263.0</td>\n",
       "      <td>0.05</td>\n",
       "      <td>243.500000</td>\n",
       "      <td>NaN</td>\n",
       "      <td>...</td>\n",
       "      <td>Tue</td>\n",
       "      <td>7559.28</td>\n",
       "      <td>143.7</td>\n",
       "      <td>1.388309</td>\n",
       "      <td>1.322199</td>\n",
       "      <td>0</td>\n",
       "      <td>1</td>\n",
       "      <td>0.78</td>\n",
       "      <td>0.08</td>\n",
       "      <td>37307.52</td>\n",
       "    </tr>\n",
       "    <tr>\n",
       "      <th>4</th>\n",
       "      <td>4</td>\n",
       "      <td>Hyderabad</td>\n",
       "      <td>Express</td>\n",
       "      <td>1045</td>\n",
       "      <td>2018-07-31</td>\n",
       "      <td>139</td>\n",
       "      <td>392.0</td>\n",
       "      <td>0.05</td>\n",
       "      <td>378.960000</td>\n",
       "      <td>NaN</td>\n",
       "      <td>...</td>\n",
       "      <td>Tue</td>\n",
       "      <td>7559.28</td>\n",
       "      <td>143.7</td>\n",
       "      <td>2.330967</td>\n",
       "      <td>2.219903</td>\n",
       "      <td>0</td>\n",
       "      <td>1</td>\n",
       "      <td>0.73</td>\n",
       "      <td>0.08</td>\n",
       "      <td>37307.52</td>\n",
       "    </tr>\n",
       "  </tbody>\n",
       "</table>\n",
       "<p>5 rows × 23 columns</p>\n",
       "</div>"
      ],
      "text/plain": [
       "   Unnamed: 0       City Mapped_Sales_Type  Mapped_Item_Code Transaction_Date  \\\n",
       "0           0  Hyderabad         Take Away              9978       2018-07-31   \n",
       "1           1  Hyderabad         Take Away              4064       2018-07-31   \n",
       "2           2  Hyderabad         Main Hall               965       2018-07-31   \n",
       "3           3  Hyderabad           Express              9978       2018-07-31   \n",
       "4           4  Hyderabad           Express              1045       2018-07-31   \n",
       "\n",
       "   Quantity_Sold  Median_Price  Average_Tax_Percent  Effective_Price  \\\n",
       "0            167         187.0                 0.05       163.700000   \n",
       "1            368         602.0                 0.05       584.329105   \n",
       "2            694         263.0                 0.05       244.835163   \n",
       "3            140         263.0                 0.05       243.500000   \n",
       "4            139         392.0                 0.05       378.960000   \n",
       "\n",
       "   Percent_Quantity_With_Discount        ...          Day  Car_sales  \\\n",
       "0                             NaN        ...          Tue    7559.28   \n",
       "1                        0.027237        ...          Tue    7559.28   \n",
       "2                             NaN        ...          Tue    7559.28   \n",
       "3                             NaN        ...          Tue    7559.28   \n",
       "4                             NaN        ...          Tue    7559.28   \n",
       "\n",
       "   F_and_B_Inflation F_and_B_Inflation_Adjusted_Effective_Price  \\\n",
       "0              143.7                                   0.832985   \n",
       "1              143.7                                   3.760119   \n",
       "2              143.7                                   1.397600   \n",
       "3              143.7                                   1.388309   \n",
       "4              143.7                                   2.330967   \n",
       "\n",
       "   F_and_B_Inflation_Adjusted_Median_Price  First_Week_Of_The_Month_Dummy  \\\n",
       "0                                 0.793319                              0   \n",
       "1                                 3.681280                              0   \n",
       "2                                 1.322199                              0   \n",
       "3                                 1.322199                              0   \n",
       "4                                 2.219903                              0   \n",
       "\n",
       "   Last_Week_Of_The_Month_Dummy  Day_Of_The_Week_Seasonality  \\\n",
       "0                             1                         0.86   \n",
       "1                             1                         0.83   \n",
       "2                             1                         1.08   \n",
       "3                             1                         0.78   \n",
       "4                             1                         0.73   \n",
       "\n",
       "   Month_Of_The_Year_Seasonality  Two_Wheeler_sales  \n",
       "0                           0.91           37307.52  \n",
       "1                           0.91           37307.52  \n",
       "2                           1.08           37307.52  \n",
       "3                           0.08           37307.52  \n",
       "4                           0.08           37307.52  \n",
       "\n",
       "[5 rows x 23 columns]"
      ]
     },
     "execution_count": 70,
     "metadata": {},
     "output_type": "execute_result"
    }
   ],
   "source": [
    "t1.head()"
   ]
  },
  {
   "cell_type": "code",
   "execution_count": null,
   "metadata": {
    "collapsed": true
   },
   "outputs": [],
   "source": []
  },
  {
   "cell_type": "code",
   "execution_count": null,
   "metadata": {
    "collapsed": true
   },
   "outputs": [],
   "source": []
  },
  {
   "cell_type": "code",
   "execution_count": null,
   "metadata": {
    "collapsed": true
   },
   "outputs": [],
   "source": []
  },
  {
   "cell_type": "code",
   "execution_count": null,
   "metadata": {
    "collapsed": true
   },
   "outputs": [],
   "source": []
  },
  {
   "cell_type": "code",
   "execution_count": null,
   "metadata": {
    "collapsed": true
   },
   "outputs": [],
   "source": []
  },
  {
   "cell_type": "code",
   "execution_count": null,
   "metadata": {
    "collapsed": true
   },
   "outputs": [],
   "source": []
  },
  {
   "cell_type": "code",
   "execution_count": null,
   "metadata": {
    "collapsed": true
   },
   "outputs": [],
   "source": []
  },
  {
   "cell_type": "code",
   "execution_count": null,
   "metadata": {
    "collapsed": true
   },
   "outputs": [],
   "source": []
  }
 ],
 "metadata": {
  "kernelspec": {
   "display_name": "Python 3",
   "language": "python",
   "name": "python3"
  },
  "language_info": {
   "codemirror_mode": {
    "name": "ipython",
    "version": 3
   },
   "file_extension": ".py",
   "mimetype": "text/x-python",
   "name": "python",
   "nbconvert_exporter": "python",
   "pygments_lexer": "ipython3",
   "version": "3.6.3"
  }
 },
 "nbformat": 4,
 "nbformat_minor": 2
}
