{
 "cells": [
  {
   "cell_type": "code",
   "execution_count": 159,
   "metadata": {},
   "outputs": [],
   "source": [
    "import numpy as np\n",
    "import pandas as pd\n",
    "import os\n",
    "from sklearn import model_selection, metrics, svm\n",
    "from sklearn.feature_extraction.text import TfidfVectorizer\n",
    "from sklearn.preprocessing import LabelEncoder\n",
    "import nltk\n",
    "from nltk.stem.wordnet import WordNetLemmatizer\n",
    "import regex as re\n",
    "from nltk.corpus import stopwords\n",
    "from sklearn.naive_bayes import MultinomialNB\n",
    "from string import *\n",
    "from sklearn.ensemble import RandomForestClassifier"
   ]
  },
  {
   "cell_type": "code",
   "execution_count": 160,
   "metadata": {},
   "outputs": [
    {
     "data": {
      "text/plain": [
       "'C:\\\\Users\\\\my\\\\csv_files_cairn'"
      ]
     },
     "execution_count": 160,
     "metadata": {},
     "output_type": "execute_result"
    }
   ],
   "source": [
    "pwd = os.getcwd()\n",
    "pwd"
   ]
  },
  {
   "cell_type": "code",
   "execution_count": 3,
   "metadata": {},
   "outputs": [],
   "source": [
    "os.chdir('csv_files_cairn')"
   ]
  },
  {
   "cell_type": "code",
   "execution_count": 161,
   "metadata": {},
   "outputs": [],
   "source": [
    "data = pd.read_excel('Cairn_sample_dataset.xlsx')"
   ]
  },
  {
   "cell_type": "code",
   "execution_count": 162,
   "metadata": {},
   "outputs": [
    {
     "data": {
      "text/plain": [
       "(5060, 16)"
      ]
     },
     "execution_count": 162,
     "metadata": {},
     "output_type": "execute_result"
    }
   ],
   "source": [
    "data.shape"
   ]
  },
  {
   "cell_type": "code",
   "execution_count": 142,
   "metadata": {},
   "outputs": [],
   "source": [
    "# data.dtypes"
   ]
  },
  {
   "cell_type": "code",
   "execution_count": 7,
   "metadata": {},
   "outputs": [
    {
     "data": {
      "text/html": [
       "<div>\n",
       "<style scoped>\n",
       "    .dataframe tbody tr th:only-of-type {\n",
       "        vertical-align: middle;\n",
       "    }\n",
       "\n",
       "    .dataframe tbody tr th {\n",
       "        vertical-align: top;\n",
       "    }\n",
       "\n",
       "    .dataframe thead th {\n",
       "        text-align: right;\n",
       "    }\n",
       "</style>\n",
       "<table border=\"1\" class=\"dataframe\">\n",
       "  <thead>\n",
       "    <tr style=\"text-align: right;\">\n",
       "      <th></th>\n",
       "      <th>Company</th>\n",
       "      <th>Project</th>\n",
       "      <th>Event code</th>\n",
       "      <th>Common Well Name</th>\n",
       "      <th>Report Date</th>\n",
       "      <th>From</th>\n",
       "      <th>To</th>\n",
       "      <th>Hrs (hr)</th>\n",
       "      <th>Phase</th>\n",
       "      <th>Class</th>\n",
       "      <th>Code</th>\n",
       "      <th>Code description</th>\n",
       "      <th>Sub</th>\n",
       "      <th>code + sub</th>\n",
       "      <th>24 Hr Operation Summary</th>\n",
       "      <th>Operation</th>\n",
       "    </tr>\n",
       "  </thead>\n",
       "  <tbody>\n",
       "    <tr>\n",
       "      <th>0</th>\n",
       "      <td>Cairn India Ltd.</td>\n",
       "      <td>RJ-ON-90-1</td>\n",
       "      <td>ABN</td>\n",
       "      <td>Tukaram-SE-A</td>\n",
       "      <td>2019-03-02 00:00:00</td>\n",
       "      <td>2019-03-02 07:00:00</td>\n",
       "      <td>2019-03-02 19:00:00</td>\n",
       "      <td>12.00</td>\n",
       "      <td>ABAND</td>\n",
       "      <td>U</td>\n",
       "      <td>24.0</td>\n",
       "      <td>NaN</td>\n",
       "      <td>NaN</td>\n",
       "      <td>24</td>\n",
       "      <td>Waiting on CT</td>\n",
       "      <td>Waiting on CT</td>\n",
       "    </tr>\n",
       "    <tr>\n",
       "      <th>1</th>\n",
       "      <td>Cairn India Ltd.</td>\n",
       "      <td>RJ-ON-90-1</td>\n",
       "      <td>ABN</td>\n",
       "      <td>Tukaram-SE-A</td>\n",
       "      <td>2019-03-03 00:00:00</td>\n",
       "      <td>2019-03-03 07:00:00</td>\n",
       "      <td>2019-03-03 23:17:00</td>\n",
       "      <td>16.28</td>\n",
       "      <td>ABAND</td>\n",
       "      <td>U</td>\n",
       "      <td>24.0</td>\n",
       "      <td>NaN</td>\n",
       "      <td>NaN</td>\n",
       "      <td>24</td>\n",
       "      <td>Waiting on CT</td>\n",
       "      <td>Waiting on CT</td>\n",
       "    </tr>\n",
       "    <tr>\n",
       "      <th>2</th>\n",
       "      <td>Cairn India Ltd.</td>\n",
       "      <td>RJ-ON-90-1</td>\n",
       "      <td>ABN</td>\n",
       "      <td>Tukaram-SE-A</td>\n",
       "      <td>2019-03-04 00:00:00</td>\n",
       "      <td>2019-03-04 07:00:00</td>\n",
       "      <td>2019-03-04 09:00:00</td>\n",
       "      <td>2.00</td>\n",
       "      <td>ABAND</td>\n",
       "      <td>U</td>\n",
       "      <td>24.0</td>\n",
       "      <td>NaN</td>\n",
       "      <td>NaN</td>\n",
       "      <td>24</td>\n",
       "      <td>Waiting on CT</td>\n",
       "      <td>Waiting on CT</td>\n",
       "    </tr>\n",
       "  </tbody>\n",
       "</table>\n",
       "</div>"
      ],
      "text/plain": [
       "            Company     Project Event code Common Well Name  \\\n",
       "0  Cairn India Ltd.  RJ-ON-90-1        ABN     Tukaram-SE-A   \n",
       "1  Cairn India Ltd.  RJ-ON-90-1        ABN     Tukaram-SE-A   \n",
       "2  Cairn India Ltd.  RJ-ON-90-1        ABN     Tukaram-SE-A   \n",
       "\n",
       "           Report Date                 From                   To  Hrs (hr)  \\\n",
       "0  2019-03-02 00:00:00  2019-03-02 07:00:00  2019-03-02 19:00:00     12.00   \n",
       "1  2019-03-03 00:00:00  2019-03-03 07:00:00  2019-03-03 23:17:00     16.28   \n",
       "2  2019-03-04 00:00:00  2019-03-04 07:00:00  2019-03-04 09:00:00      2.00   \n",
       "\n",
       "   Phase Class  Code  Code description  Sub code + sub  \\\n",
       "0  ABAND     U  24.0               NaN  NaN         24   \n",
       "1  ABAND     U  24.0               NaN  NaN         24   \n",
       "2  ABAND     U  24.0               NaN  NaN         24   \n",
       "\n",
       "  24 Hr Operation Summary      Operation  \n",
       "0           Waiting on CT  Waiting on CT  \n",
       "1           Waiting on CT  Waiting on CT  \n",
       "2           Waiting on CT  Waiting on CT  "
      ]
     },
     "execution_count": 7,
     "metadata": {},
     "output_type": "execute_result"
    }
   ],
   "source": [
    "data[:3]"
   ]
  },
  {
   "cell_type": "code",
   "execution_count": 8,
   "metadata": {},
   "outputs": [],
   "source": [
    "dataset= data.loc[:, ['Operation', 'code + sub']]"
   ]
  },
  {
   "cell_type": "code",
   "execution_count": 9,
   "metadata": {},
   "outputs": [],
   "source": [
    "dataset = dataset.rename(columns={'code + sub': 'Code'})"
   ]
  },
  {
   "cell_type": "code",
   "execution_count": 10,
   "metadata": {},
   "outputs": [
    {
     "data": {
      "text/plain": [
       "(5060, 2)"
      ]
     },
     "execution_count": 10,
     "metadata": {},
     "output_type": "execute_result"
    }
   ],
   "source": [
    "dataset.shape"
   ]
  },
  {
   "cell_type": "code",
   "execution_count": 11,
   "metadata": {},
   "outputs": [
    {
     "data": {
      "text/html": [
       "<div>\n",
       "<style scoped>\n",
       "    .dataframe tbody tr th:only-of-type {\n",
       "        vertical-align: middle;\n",
       "    }\n",
       "\n",
       "    .dataframe tbody tr th {\n",
       "        vertical-align: top;\n",
       "    }\n",
       "\n",
       "    .dataframe thead th {\n",
       "        text-align: right;\n",
       "    }\n",
       "</style>\n",
       "<table border=\"1\" class=\"dataframe\">\n",
       "  <thead>\n",
       "    <tr style=\"text-align: right;\">\n",
       "      <th></th>\n",
       "      <th>Operation</th>\n",
       "      <th>Code</th>\n",
       "    </tr>\n",
       "  </thead>\n",
       "  <tbody>\n",
       "    <tr>\n",
       "      <th>3025</th>\n",
       "      <td>Night crew Arrived on Location handed over.</td>\n",
       "      <td>NaN</td>\n",
       "    </tr>\n",
       "    <tr>\n",
       "      <th>3026</th>\n",
       "      <td>Conducted TBT, discussed Job program (especial...</td>\n",
       "      <td>33A</td>\n",
       "    </tr>\n",
       "    <tr>\n",
       "      <th>3027</th>\n",
       "      <td>Waiting for area to be clear from Rig equipmen...</td>\n",
       "      <td>24H</td>\n",
       "    </tr>\n",
       "    <tr>\n",
       "      <th>3028</th>\n",
       "      <td>Waiting well hand over from production.</td>\n",
       "      <td>24A</td>\n",
       "    </tr>\n",
       "  </tbody>\n",
       "</table>\n",
       "</div>"
      ],
      "text/plain": [
       "                                              Operation Code\n",
       "3025        Night crew Arrived on Location handed over.  NaN\n",
       "3026  Conducted TBT, discussed Job program (especial...  33A\n",
       "3027  Waiting for area to be clear from Rig equipmen...  24H\n",
       "3028            Waiting well hand over from production.  24A"
      ]
     },
     "execution_count": 11,
     "metadata": {},
     "output_type": "execute_result"
    }
   ],
   "source": [
    "dataset[3025:3029]"
   ]
  },
  {
   "cell_type": "code",
   "execution_count": 12,
   "metadata": {},
   "outputs": [
    {
     "data": {
      "text/plain": [
       "Operation     12\n",
       "Code         861\n",
       "dtype: int64"
      ]
     },
     "execution_count": 12,
     "metadata": {},
     "output_type": "execute_result"
    }
   ],
   "source": [
    "dataset.isnull().sum()"
   ]
  },
  {
   "cell_type": "code",
   "execution_count": 13,
   "metadata": {},
   "outputs": [],
   "source": [
    "dataset.dropna(inplace=True)"
   ]
  },
  {
   "cell_type": "code",
   "execution_count": 14,
   "metadata": {},
   "outputs": [],
   "source": [
    "dataset_copy = dataset.copy()"
   ]
  },
  {
   "cell_type": "code",
   "execution_count": 15,
   "metadata": {},
   "outputs": [],
   "source": [
    "#Converting the feature to lower case\n",
    "# dataset['Operation'] = dataset['Operation'].apply(lambda x: \" \".join(x.lower() for x in x.split()))\n",
    "dataset['Operation'] = dataset['Operation'].apply(lambda x:x.lower())\n",
    "\n",
    "#Removing punctuations\n",
    "# dataset['Operation'] = dataset['Operation'].str.replace('[^\\w\\s]','')\n",
    "dataset['Operation'] = dataset['Operation'].str.translate(str.maketrans('', '', punctuation))\n",
    "\n",
    "#Removing digits\n",
    "dataset['Operation'] = dataset['Operation'].str.translate(str.maketrans('', '', digits))\n",
    "\n",
    "#Removing stop words\n",
    "stop = stopwords.words('english')\n",
    "dataset['Operation'] = dataset['Operation'].apply(lambda x: \" \".join(x for x in x.split() if x not in stop))\n"
   ]
  },
  {
   "cell_type": "code",
   "execution_count": 16,
   "metadata": {},
   "outputs": [
    {
     "data": {
      "text/plain": [
       "147"
      ]
     },
     "execution_count": 16,
     "metadata": {},
     "output_type": "execute_result"
    }
   ],
   "source": [
    "#Full dataset contains 147 classes\n",
    "\n",
    "dataset['Code'].nunique()"
   ]
  },
  {
   "cell_type": "markdown",
   "metadata": {},
   "source": [
    "## Event code: CTU - Modeling with all sub-codes"
   ]
  },
  {
   "cell_type": "code",
   "execution_count": 17,
   "metadata": {},
   "outputs": [],
   "source": [
    "dataset_CTU = data.loc[data['Event code']=='CTU']"
   ]
  },
  {
   "cell_type": "code",
   "execution_count": 18,
   "metadata": {},
   "outputs": [
    {
     "data": {
      "text/plain": [
       "34"
      ]
     },
     "execution_count": 18,
     "metadata": {},
     "output_type": "execute_result"
    }
   ],
   "source": [
    "dataset_CTU['code + sub'].nunique()"
   ]
  },
  {
   "cell_type": "code",
   "execution_count": 19,
   "metadata": {},
   "outputs": [],
   "source": [
    "dataset_CTU= dataset_CTU.loc[:, ['Operation', 'code + sub']]"
   ]
  },
  {
   "cell_type": "code",
   "execution_count": 20,
   "metadata": {},
   "outputs": [],
   "source": [
    "dataset_CTU = dataset_CTU.rename(columns={'code + sub': 'Code'})"
   ]
  },
  {
   "cell_type": "code",
   "execution_count": 21,
   "metadata": {},
   "outputs": [],
   "source": [
    "dataset_CTU.dropna(inplace=True)"
   ]
  },
  {
   "cell_type": "code",
   "execution_count": 22,
   "metadata": {},
   "outputs": [],
   "source": [
    "# dataset_CTU['Code'].value_counts()"
   ]
  },
  {
   "cell_type": "code",
   "execution_count": 23,
   "metadata": {},
   "outputs": [
    {
     "data": {
      "text/plain": [
       "(567, 2)"
      ]
     },
     "execution_count": 23,
     "metadata": {},
     "output_type": "execute_result"
    }
   ],
   "source": [
    "dataset_CTU.shape"
   ]
  },
  {
   "cell_type": "code",
   "execution_count": 24,
   "metadata": {},
   "outputs": [
    {
     "name": "stdout",
     "output_type": "stream",
     "text": [
      "SVM\n",
      "Training Acc: 0.2398989898989899 \n",
      "Test Accuracy: 0.1111111111111111\n",
      "\n",
      "NB\n",
      "Training Acc: 0.5075757575757576 \n",
      "Test Accuracy: 0.09941520467836257\n",
      "\n",
      "RF\n",
      "Training Acc: 0.9772727272727273 \n",
      "Test Accuracy: 0.0935672514619883\n"
     ]
    }
   ],
   "source": [
    "x_train, x_test, y_train, y_test = model_selection.train_test_split(dataset_CTU['Operation'], dataset_CTU['Code'], test_size = 0.3, random_state = 42)\n",
    "\n",
    "encoder = LabelEncoder()\n",
    "y_train = encoder.fit_transform(y_train)\n",
    "y_test = encoder.fit_transform(y_test)\n",
    "actual = y_test\n",
    "\n",
    "tfidf_vect = TfidfVectorizer() \n",
    "tfidf_vect.fit(dataset_CTU['Operation'])\n",
    "x_train_tf = tfidf_vect.transform(x_train)\n",
    "x_test_tf = tfidf_vect.transform(x_test)\n",
    "\n",
    "def model_utility(classifier, x_train, y_train, x_test):\n",
    "    classifier.fit(x_train, y_train)\n",
    "    pred = classifier.predict(x_test)\n",
    "    train_acc = classifier.predict(x_train)\n",
    "    x = metrics.accuracy_score(actual, pred)\n",
    "    y = metrics.accuracy_score(y_train,train_acc)\n",
    "    return print('Training Acc:',y, \"\\nTest Accuracy:\",x)\n",
    "\n",
    "print(\"SVM\")\n",
    "svm_model = model_utility(svm.SVC(), x_train_tf, y_train, x_test_tf)\n",
    "\n",
    "print(\"\\nNB\")\n",
    "mnb_model = model_utility(MultinomialNB(), x_train_tf, y_train, x_test_tf)\n",
    "\n",
    "print(\"\\nRF\")\n",
    "rf_model = model_utility(RandomForestClassifier(), x_train_tf, y_train, x_test_tf)\n"
   ]
  },
  {
   "cell_type": "markdown",
   "metadata": {},
   "source": [
    "## Event code: CTU - Modeling with top 5 sub-codes"
   ]
  },
  {
   "cell_type": "code",
   "execution_count": 25,
   "metadata": {},
   "outputs": [
    {
     "name": "stdout",
     "output_type": "stream",
     "text": [
      "SVM\n",
      "Training Acc: 0.4020100502512563 \n",
      "Test Accuracy: 0.3567251461988304\n",
      "\n",
      "NB\n",
      "Training Acc: 0.7864321608040201 \n",
      "Test Accuracy: 0.7426900584795322\n",
      "\n",
      "RF\n",
      "Training Acc: 0.9773869346733668 \n",
      "Test Accuracy: 0.7485380116959064\n"
     ]
    },
    {
     "name": "stderr",
     "output_type": "stream",
     "text": [
      "C:\\Users\\my\\Anaconda3\\lib\\site-packages\\ipykernel_launcher.py:3: SettingWithCopyWarning: \n",
      "A value is trying to be set on a copy of a slice from a DataFrame.\n",
      "Try using .loc[row_indexer,col_indexer] = value instead\n",
      "\n",
      "See the caveats in the documentation: http://pandas.pydata.org/pandas-docs/stable/indexing.html#indexing-view-versus-copy\n",
      "  This is separate from the ipykernel package so we can avoid doing imports until\n",
      "C:\\Users\\my\\Anaconda3\\lib\\site-packages\\ipykernel_launcher.py:7: SettingWithCopyWarning: \n",
      "A value is trying to be set on a copy of a slice from a DataFrame.\n",
      "Try using .loc[row_indexer,col_indexer] = value instead\n",
      "\n",
      "See the caveats in the documentation: http://pandas.pydata.org/pandas-docs/stable/indexing.html#indexing-view-versus-copy\n",
      "  import sys\n",
      "C:\\Users\\my\\Anaconda3\\lib\\site-packages\\ipykernel_launcher.py:11: SettingWithCopyWarning: \n",
      "A value is trying to be set on a copy of a slice from a DataFrame.\n",
      "Try using .loc[row_indexer,col_indexer] = value instead\n",
      "\n",
      "See the caveats in the documentation: http://pandas.pydata.org/pandas-docs/stable/indexing.html#indexing-view-versus-copy\n",
      "  # This is added back by InteractiveShellApp.init_path()\n",
      "C:\\Users\\my\\Anaconda3\\lib\\site-packages\\ipykernel_launcher.py:14: SettingWithCopyWarning: \n",
      "A value is trying to be set on a copy of a slice from a DataFrame.\n",
      "Try using .loc[row_indexer,col_indexer] = value instead\n",
      "\n",
      "See the caveats in the documentation: http://pandas.pydata.org/pandas-docs/stable/indexing.html#indexing-view-versus-copy\n",
      "  \n",
      "C:\\Users\\my\\Anaconda3\\lib\\site-packages\\ipykernel_launcher.py:18: SettingWithCopyWarning: \n",
      "A value is trying to be set on a copy of a slice from a DataFrame.\n",
      "Try using .loc[row_indexer,col_indexer] = value instead\n",
      "\n",
      "See the caveats in the documentation: http://pandas.pydata.org/pandas-docs/stable/indexing.html#indexing-view-versus-copy\n"
     ]
    }
   ],
   "source": [
    "dataset_CTU_top = data.loc[data['Event code']=='CTU']\n",
    "\n",
    "dataset_CTU_top['Code_new'] = np.where(dataset_CTU_top['code + sub'].isin(['87C', '87F', '87O', '88A', '86A']), dataset_CTU_top['code + sub'], 'Others')\n",
    "\n",
    "#Converting the feature to lower case\n",
    "# dataset['Operation'] = dataset['Operation'].apply(lambda x: \" \".join(x.lower() for x in x.split()))\n",
    "dataset_CTU_top['Operation'] = dataset_CTU_top['Operation'].apply(lambda x:x.lower())\n",
    "\n",
    "#Removing punctuations\n",
    "# dataset['Operation'] = dataset['Operation'].str.replace('[^\\w\\s]','')\n",
    "dataset_CTU_top['Operation'] = dataset_CTU_top['Operation'].str.translate(str.maketrans('', '', punctuation))\n",
    "\n",
    "#Removing digits\n",
    "dataset_CTU_top['Operation'] = dataset_CTU_top['Operation'].str.translate(str.maketrans('', '', digits))\n",
    "\n",
    "#Removing stop words\n",
    "stop = stopwords.words('english')\n",
    "dataset_CTU_top['Operation'] = dataset_CTU_top['Operation'].apply(lambda x: \" \".join(x for x in x.split() if x not in stop))\n",
    "\n",
    "x_train, x_test, y_train, y_test = model_selection.train_test_split(dataset_CTU_top['Operation'], dataset_CTU_top['Code_new'], test_size = 0.3, random_state = 42)\n",
    "\n",
    "encoder = LabelEncoder()\n",
    "y_train = encoder.fit_transform(y_train)\n",
    "y_test = encoder.fit_transform(y_test)\n",
    "actual = y_test\n",
    "\n",
    "tfidf_vect = TfidfVectorizer() \n",
    "tfidf_vect.fit(dataset_CTU['Operation'])\n",
    "x_train_tf = tfidf_vect.transform(x_train)\n",
    "x_test_tf = tfidf_vect.transform(x_test)\n",
    "\n",
    "#Utility function for multiple models\n",
    "\n",
    "def model_utility(classifier, x_train, y_train, x_test):\n",
    "    classifier.fit(x_train, y_train)\n",
    "    pred = classifier.predict(x_test)\n",
    "    train_acc = classifier.predict(x_train)\n",
    "    x = metrics.accuracy_score(actual, pred)\n",
    "    y = metrics.accuracy_score(y_train,train_acc)\n",
    "    return print('Training Acc:',y, \"\\nTest Accuracy:\",x)\n",
    "\n",
    "print(\"SVM\")\n",
    "svm_model = model_utility(svm.SVC(), x_train_tf, y_train, x_test_tf)\n",
    "\n",
    "print(\"\\nNB\")\n",
    "mnb_model = model_utility(MultinomialNB(), x_train_tf, y_train, x_test_tf)\n",
    "\n",
    "print(\"\\nRF\")\n",
    "rf_model = model_utility(RandomForestClassifier(), x_train_tf, y_train, x_test_tf)\n"
   ]
  },
  {
   "cell_type": "markdown",
   "metadata": {},
   "source": [
    "## To calculating accuracy at each sub-code level"
   ]
  },
  {
   "cell_type": "code",
   "execution_count": 26,
   "metadata": {},
   "outputs": [
    {
     "data": {
      "text/plain": [
       "array([0, 1, 2, 3, 4, 5], dtype=int64)"
      ]
     },
     "execution_count": 26,
     "metadata": {},
     "output_type": "execute_result"
    }
   ],
   "source": [
    "encoder.transform(['86A', '87C', '87F', '87O', '88A', 'Others'])"
   ]
  },
  {
   "cell_type": "code",
   "execution_count": 27,
   "metadata": {},
   "outputs": [
    {
     "name": "stdout",
     "output_type": "stream",
     "text": [
      "Training accuracy of NB:  0.9798994974874372\n",
      "Test accuracy of NB:  0.7134502923976608\n"
     ]
    }
   ],
   "source": [
    "nb1 = RandomForestClassifier()\n",
    "nb1.fit(x_train_tf, y_train)\n",
    "train_pred = nb1.predict(x_train_tf) \n",
    "test_pred = nb1.predict(x_test_tf)\n",
    "train_accuracy = print('Training accuracy of NB: ', metrics.accuracy_score(y_train, train_pred))\n",
    "test_accuracy = print('Test accuracy of NB: ', metrics.accuracy_score(y_test, test_pred))\n"
   ]
  },
  {
   "cell_type": "code",
   "execution_count": 28,
   "metadata": {},
   "outputs": [
    {
     "name": "stdout",
     "output_type": "stream",
     "text": [
      "Test and Pred count:  171 171\n"
     ]
    }
   ],
   "source": [
    "print('Test and Pred count: ', len(y_test.tolist()), len(test_pred.tolist()))"
   ]
  },
  {
   "cell_type": "code",
   "execution_count": 29,
   "metadata": {},
   "outputs": [
    {
     "name": "stdout",
     "output_type": "stream",
     "text": [
      "Test and pred values {0, 1, 2, 3, 4, 5} {0, 1, 2, 3, 4, 5}\n"
     ]
    }
   ],
   "source": [
    "print('Test and pred values', set(y_test.tolist()), set(test_pred.tolist()))"
   ]
  },
  {
   "cell_type": "code",
   "execution_count": 30,
   "metadata": {},
   "outputs": [
    {
     "name": "stdout",
     "output_type": "stream",
     "text": [
      "Train and Pred count:  398 398\n"
     ]
    }
   ],
   "source": [
    "print('Train and Pred count: ', len(y_train.tolist()), len(train_pred.tolist()))"
   ]
  },
  {
   "cell_type": "code",
   "execution_count": 31,
   "metadata": {},
   "outputs": [
    {
     "name": "stdout",
     "output_type": "stream",
     "text": [
      "Train and Pred values:  {0, 1, 2, 3, 4, 5} {0, 1, 2, 3, 4, 5}\n"
     ]
    }
   ],
   "source": [
    "print('Train and Pred values: ', set(y_train.tolist()), set(train_pred.tolist()))"
   ]
  },
  {
   "cell_type": "code",
   "execution_count": 32,
   "metadata": {},
   "outputs": [],
   "source": [
    "test_tuple = list(zip(y_test.tolist(), test_pred.tolist()))"
   ]
  },
  {
   "cell_type": "code",
   "execution_count": 33,
   "metadata": {},
   "outputs": [],
   "source": [
    "test_df = pd.DataFrame(test_tuple, columns=['Test_Actual', 'Test_Pred'])"
   ]
  },
  {
   "cell_type": "code",
   "execution_count": 34,
   "metadata": {},
   "outputs": [],
   "source": [
    "train_tuple = list(zip(y_train.tolist(), train_pred.tolist()))"
   ]
  },
  {
   "cell_type": "code",
   "execution_count": 35,
   "metadata": {},
   "outputs": [],
   "source": [
    "train_df = pd.DataFrame(train_tuple, columns=['Train_Actual', 'Train_Pred'])"
   ]
  },
  {
   "cell_type": "code",
   "execution_count": 36,
   "metadata": {},
   "outputs": [],
   "source": [
    "# test_df.to_csv('svm_test.csv')"
   ]
  },
  {
   "cell_type": "code",
   "execution_count": 37,
   "metadata": {},
   "outputs": [],
   "source": [
    "# train_df.to_csv('svm_train.csv')"
   ]
  },
  {
   "cell_type": "code",
   "execution_count": 38,
   "metadata": {},
   "outputs": [],
   "source": [
    "# pd.DataFrame(list(zip(x_train, y_train, train_pred)), columns=['Train', 'Actual', 'Pred']).to_csv('Train_act_pred.csv')"
   ]
  },
  {
   "cell_type": "code",
   "execution_count": null,
   "metadata": {},
   "outputs": [],
   "source": []
  },
  {
   "cell_type": "markdown",
   "metadata": {},
   "source": [
    "## Oct'18 till Mar'19 data - 1st to 20th of each month"
   ]
  },
  {
   "cell_type": "code",
   "execution_count": 39,
   "metadata": {},
   "outputs": [],
   "source": [
    "data_6m = pd.read_excel('Cairn_6m.xlsx')"
   ]
  },
  {
   "cell_type": "code",
   "execution_count": 40,
   "metadata": {},
   "outputs": [
    {
     "data": {
      "text/html": [
       "<div>\n",
       "<style scoped>\n",
       "    .dataframe tbody tr th:only-of-type {\n",
       "        vertical-align: middle;\n",
       "    }\n",
       "\n",
       "    .dataframe tbody tr th {\n",
       "        vertical-align: top;\n",
       "    }\n",
       "\n",
       "    .dataframe thead th {\n",
       "        text-align: right;\n",
       "    }\n",
       "</style>\n",
       "<table border=\"1\" class=\"dataframe\">\n",
       "  <thead>\n",
       "    <tr style=\"text-align: right;\">\n",
       "      <th></th>\n",
       "      <th>Company</th>\n",
       "      <th>Project</th>\n",
       "      <th>Event code</th>\n",
       "      <th>Common Well Name</th>\n",
       "      <th>Report Date</th>\n",
       "      <th>From</th>\n",
       "      <th>To</th>\n",
       "      <th>Hrs (hr)</th>\n",
       "      <th>Phase</th>\n",
       "      <th>Class</th>\n",
       "      <th>Code</th>\n",
       "      <th>Sub</th>\n",
       "      <th>24 Hr Operation Summary</th>\n",
       "      <th>Operation</th>\n",
       "    </tr>\n",
       "  </thead>\n",
       "  <tbody>\n",
       "    <tr>\n",
       "      <th>0</th>\n",
       "      <td>Cairn India Ltd.</td>\n",
       "      <td>RJ-ON-90-1</td>\n",
       "      <td>ELN</td>\n",
       "      <td>MANG-244-11-101</td>\n",
       "      <td>2018-10-01</td>\n",
       "      <td>2018-10-01</td>\n",
       "      <td>2018-10-01 03:00:00</td>\n",
       "      <td>3.0</td>\n",
       "      <td>WSRVS</td>\n",
       "      <td>P</td>\n",
       "      <td>87</td>\n",
       "      <td>U</td>\n",
       "      <td>COmpleted C/O passes. RD unit.</td>\n",
       "      <td>RST C/O Pass-3 recorded from 1190 m - 1065 m a...</td>\n",
       "    </tr>\n",
       "    <tr>\n",
       "      <th>1</th>\n",
       "      <td>Cairn India Ltd.</td>\n",
       "      <td>RJ-ON-90-1</td>\n",
       "      <td>PMP</td>\n",
       "      <td>AISH-057-04-211</td>\n",
       "      <td>2018-10-01</td>\n",
       "      <td>2018-10-01</td>\n",
       "      <td>2018-10-01 07:30:00</td>\n",
       "      <td>7.5</td>\n",
       "      <td>WSRVS</td>\n",
       "      <td>P</td>\n",
       "      <td>24</td>\n",
       "      <td>D</td>\n",
       "      <td>NaN</td>\n",
       "      <td>Stand By on fluid .</td>\n",
       "    </tr>\n",
       "    <tr>\n",
       "      <th>2</th>\n",
       "      <td>Cairn India Ltd.</td>\n",
       "      <td>RJ-ON-90-1</td>\n",
       "      <td>MWS</td>\n",
       "      <td>MANG-197-01-209</td>\n",
       "      <td>2018-10-01</td>\n",
       "      <td>2018-10-01</td>\n",
       "      <td>2018-10-01 05:00:00</td>\n",
       "      <td>5.0</td>\n",
       "      <td>PRDTN</td>\n",
       "      <td>P</td>\n",
       "      <td>86</td>\n",
       "      <td>A</td>\n",
       "      <td>Continue R/ U; Commenced P/ T;</td>\n",
       "      <td>Rigged up flow lines from 5 way diverter manif...</td>\n",
       "    </tr>\n",
       "  </tbody>\n",
       "</table>\n",
       "</div>"
      ],
      "text/plain": [
       "            Company     Project Event code Common Well Name Report Date  \\\n",
       "0  Cairn India Ltd.  RJ-ON-90-1        ELN  MANG-244-11-101  2018-10-01   \n",
       "1  Cairn India Ltd.  RJ-ON-90-1        PMP  AISH-057-04-211  2018-10-01   \n",
       "2  Cairn India Ltd.  RJ-ON-90-1        MWS  MANG-197-01-209  2018-10-01   \n",
       "\n",
       "        From                  To  Hrs (hr)  Phase Class Code Sub  \\\n",
       "0 2018-10-01 2018-10-01 03:00:00       3.0  WSRVS     P   87   U   \n",
       "1 2018-10-01 2018-10-01 07:30:00       7.5  WSRVS     P   24   D   \n",
       "2 2018-10-01 2018-10-01 05:00:00       5.0  PRDTN     P   86   A   \n",
       "\n",
       "            24 Hr Operation Summary  \\\n",
       "0    COmpleted C/O passes. RD unit.   \n",
       "1                               NaN   \n",
       "2  Continue R/ U; Commenced P/ T;     \n",
       "\n",
       "                                           Operation  \n",
       "0  RST C/O Pass-3 recorded from 1190 m - 1065 m a...  \n",
       "1                                Stand By on fluid .  \n",
       "2  Rigged up flow lines from 5 way diverter manif...  "
      ]
     },
     "execution_count": 40,
     "metadata": {},
     "output_type": "execute_result"
    }
   ],
   "source": [
    "data_6m[:3]"
   ]
  },
  {
   "cell_type": "code",
   "execution_count": 41,
   "metadata": {},
   "outputs": [
    {
     "data": {
      "text/plain": [
       "Company                            object\n",
       "Project                            object\n",
       "Event code                         object\n",
       "Common Well Name                   object\n",
       "Report Date                datetime64[ns]\n",
       "From                       datetime64[ns]\n",
       "To                         datetime64[ns]\n",
       "Hrs (hr)                          float64\n",
       "Phase                              object\n",
       "Class                              object\n",
       "Code                               object\n",
       "Sub                                object\n",
       "24 Hr Operation Summary            object\n",
       "Operation                          object\n",
       "dtype: object"
      ]
     },
     "execution_count": 41,
     "metadata": {},
     "output_type": "execute_result"
    }
   ],
   "source": [
    "data_6m.dtypes"
   ]
  },
  {
   "cell_type": "code",
   "execution_count": 42,
   "metadata": {},
   "outputs": [],
   "source": [
    "data_6m_87 = data_6m.loc[(data_6m['Code']==87) & (((data_6m['Event code']=='CTU') & (data_6m['Sub'].isin(['R', 'C', 'O', 'B', 'F']))) |\n",
    "                                                  ((data_6m['Event code']=='ELN') & (data_6m['Sub'].isin(['S', 'O', 'U', 'Z', 'X']))) |\n",
    "                                                  ((data_6m['Event code']=='MWS') & (data_6m['Sub'].isin(['S', 'R', 'C', 'O', 'F']))) |\n",
    "                                                  ((data_6m['Event code']=='SLN') & (data_6m['Sub'].isin(['R', 'C', 'B', 'Y', 'P']))) |\n",
    "                                                  ((data_6m['Event code']=='PMP') & (data_6m['Sub'].isin(['B'])))\n",
    "                                                  ), :]"
   ]
  },
  {
   "cell_type": "code",
   "execution_count": 43,
   "metadata": {},
   "outputs": [
    {
     "data": {
      "text/plain": [
       "(6942, 14)"
      ]
     },
     "execution_count": 43,
     "metadata": {},
     "output_type": "execute_result"
    }
   ],
   "source": [
    "data_6m_87.shape"
   ]
  },
  {
   "cell_type": "code",
   "execution_count": 44,
   "metadata": {},
   "outputs": [
    {
     "data": {
      "text/plain": [
       "Company                      0\n",
       "Project                      0\n",
       "Event code                   0\n",
       "Common Well Name             0\n",
       "Report Date                  0\n",
       "From                         1\n",
       "To                           1\n",
       "Hrs (hr)                    58\n",
       "Phase                      198\n",
       "Class                      159\n",
       "Code                         0\n",
       "Sub                          0\n",
       "24 Hr Operation Summary    312\n",
       "Operation                    0\n",
       "dtype: int64"
      ]
     },
     "execution_count": 44,
     "metadata": {},
     "output_type": "execute_result"
    }
   ],
   "source": [
    "data_6m_87.isnull().sum()"
   ]
  },
  {
   "cell_type": "code",
   "execution_count": 45,
   "metadata": {},
   "outputs": [
    {
     "name": "stderr",
     "output_type": "stream",
     "text": [
      "C:\\Users\\my\\Anaconda3\\lib\\site-packages\\ipykernel_launcher.py:1: SettingWithCopyWarning: \n",
      "A value is trying to be set on a copy of a slice from a DataFrame.\n",
      "Try using .loc[row_indexer,col_indexer] = value instead\n",
      "\n",
      "See the caveats in the documentation: http://pandas.pydata.org/pandas-docs/stable/indexing.html#indexing-view-versus-copy\n",
      "  \"\"\"Entry point for launching an IPython kernel.\n"
     ]
    }
   ],
   "source": [
    "data_6m_87['Code_Sub'] = data_6m_87['Code'].map(str) + data_6m_87['Sub'].map(str)"
   ]
  },
  {
   "cell_type": "code",
   "execution_count": 46,
   "metadata": {},
   "outputs": [],
   "source": [
    "data_6m_87_mod = data_6m_87.loc[:, ['Event code', 'Operation', 'Code_Sub']]"
   ]
  },
  {
   "cell_type": "code",
   "execution_count": 47,
   "metadata": {},
   "outputs": [],
   "source": [
    "data_6m_87_mod = data_6m_87_mod.reset_index(drop=True)"
   ]
  },
  {
   "cell_type": "code",
   "execution_count": 48,
   "metadata": {},
   "outputs": [
    {
     "data": {
      "text/html": [
       "<div>\n",
       "<style scoped>\n",
       "    .dataframe tbody tr th:only-of-type {\n",
       "        vertical-align: middle;\n",
       "    }\n",
       "\n",
       "    .dataframe tbody tr th {\n",
       "        vertical-align: top;\n",
       "    }\n",
       "\n",
       "    .dataframe thead th {\n",
       "        text-align: right;\n",
       "    }\n",
       "</style>\n",
       "<table border=\"1\" class=\"dataframe\">\n",
       "  <thead>\n",
       "    <tr style=\"text-align: right;\">\n",
       "      <th></th>\n",
       "      <th>Event code</th>\n",
       "      <th>Operation</th>\n",
       "      <th>Code_Sub</th>\n",
       "    </tr>\n",
       "  </thead>\n",
       "  <tbody>\n",
       "    <tr>\n",
       "      <th>0</th>\n",
       "      <td>ELN</td>\n",
       "      <td>RST C/O Pass-3 recorded from 1190 m - 1065 m a...</td>\n",
       "      <td>87U</td>\n",
       "    </tr>\n",
       "    <tr>\n",
       "      <th>1</th>\n",
       "      <td>SLN</td>\n",
       "      <td>Made up T/s with IRBP P/T. and stab lubricator...</td>\n",
       "      <td>87P</td>\n",
       "    </tr>\n",
       "    <tr>\n",
       "      <th>2</th>\n",
       "      <td>MWS</td>\n",
       "      <td>CT Start RIH while pumping nitrified fluid. At...</td>\n",
       "      <td>87C</td>\n",
       "    </tr>\n",
       "  </tbody>\n",
       "</table>\n",
       "</div>"
      ],
      "text/plain": [
       "  Event code                                          Operation Code_Sub\n",
       "0        ELN  RST C/O Pass-3 recorded from 1190 m - 1065 m a...      87U\n",
       "1        SLN  Made up T/s with IRBP P/T. and stab lubricator...      87P\n",
       "2        MWS  CT Start RIH while pumping nitrified fluid. At...      87C"
      ]
     },
     "execution_count": 48,
     "metadata": {},
     "output_type": "execute_result"
    }
   ],
   "source": [
    "data_6m_87_mod[:3]"
   ]
  },
  {
   "cell_type": "code",
   "execution_count": 49,
   "metadata": {},
   "outputs": [
    {
     "data": {
      "text/plain": [
       "6942"
      ]
     },
     "execution_count": 49,
     "metadata": {},
     "output_type": "execute_result"
    }
   ],
   "source": [
    "len(data_6m_87_mod)"
   ]
  },
  {
   "cell_type": "code",
   "execution_count": 50,
   "metadata": {},
   "outputs": [],
   "source": [
    "data_6m_87_mod1 = data_6m_87_mod.copy()"
   ]
  },
  {
   "cell_type": "code",
   "execution_count": 106,
   "metadata": {},
   "outputs": [
    {
     "data": {
      "text/html": [
       "<div>\n",
       "<style scoped>\n",
       "    .dataframe tbody tr th:only-of-type {\n",
       "        vertical-align: middle;\n",
       "    }\n",
       "\n",
       "    .dataframe tbody tr th {\n",
       "        vertical-align: top;\n",
       "    }\n",
       "\n",
       "    .dataframe thead th {\n",
       "        text-align: right;\n",
       "    }\n",
       "</style>\n",
       "<table border=\"1\" class=\"dataframe\">\n",
       "  <thead>\n",
       "    <tr style=\"text-align: right;\">\n",
       "      <th></th>\n",
       "      <th>Event code</th>\n",
       "      <th>Code_Sub</th>\n",
       "      <th>Words_to_match</th>\n",
       "    </tr>\n",
       "  </thead>\n",
       "  <tbody>\n",
       "    <tr>\n",
       "      <th>0</th>\n",
       "      <td>CTU</td>\n",
       "      <td>87R</td>\n",
       "      <td>['RIH', 'POOH']</td>\n",
       "    </tr>\n",
       "    <tr>\n",
       "      <th>1</th>\n",
       "      <td>CTU</td>\n",
       "      <td>87C</td>\n",
       "      <td>['Cleanout', 'Jetting']</td>\n",
       "    </tr>\n",
       "    <tr>\n",
       "      <th>2</th>\n",
       "      <td>CTU</td>\n",
       "      <td>87O</td>\n",
       "      <td>['Others']</td>\n",
       "    </tr>\n",
       "    <tr>\n",
       "      <th>3</th>\n",
       "      <td>CTU</td>\n",
       "      <td>87B</td>\n",
       "      <td>['Bullheading']</td>\n",
       "    </tr>\n",
       "    <tr>\n",
       "      <th>4</th>\n",
       "      <td>CTU</td>\n",
       "      <td>87F</td>\n",
       "      <td>['Flowback (N2)']</td>\n",
       "    </tr>\n",
       "  </tbody>\n",
       "</table>\n",
       "</div>"
      ],
      "text/plain": [
       "  Event code Code_Sub           Words_to_match\n",
       "0        CTU      87R          ['RIH', 'POOH']\n",
       "1        CTU      87C  ['Cleanout', 'Jetting']\n",
       "2        CTU      87O               ['Others']\n",
       "3        CTU      87B          ['Bullheading']\n",
       "4        CTU      87F        ['Flowback (N2)']"
      ]
     },
     "execution_count": 106,
     "metadata": {},
     "output_type": "execute_result"
    }
   ],
   "source": [
    "words_map = pd.read_csv('words_map.csv')\n",
    "words_map.head()"
   ]
  },
  {
   "cell_type": "code",
   "execution_count": 134,
   "metadata": {},
   "outputs": [],
   "source": [
    "from ast import literal_eval\n",
    "\n",
    "def check_string(row):\n",
    "    a = literal_eval(row['Words_to_match'])\n",
    "    b = row['Operation']\n",
    "    c = row['Code_Sub']\n",
    "    \n",
    "    def t_or_f(a,b):\n",
    "        if any(x in b for x in a):\n",
    "            return(True)\n",
    "        else:\n",
    "            return(False)\n",
    "    \n",
    "    match = t_or_f(a,b)\n",
    "    match = np.where(match is True,c,'')\n",
    "    \n",
    "    return(match)"
   ]
  },
  {
   "cell_type": "code",
   "execution_count": 118,
   "metadata": {},
   "outputs": [
    {
     "data": {
      "text/html": [
       "<div>\n",
       "<style scoped>\n",
       "    .dataframe tbody tr th:only-of-type {\n",
       "        vertical-align: middle;\n",
       "    }\n",
       "\n",
       "    .dataframe tbody tr th {\n",
       "        vertical-align: top;\n",
       "    }\n",
       "\n",
       "    .dataframe thead th {\n",
       "        text-align: right;\n",
       "    }\n",
       "</style>\n",
       "<table border=\"1\" class=\"dataframe\">\n",
       "  <thead>\n",
       "    <tr style=\"text-align: right;\">\n",
       "      <th></th>\n",
       "      <th>Event code</th>\n",
       "      <th>Code_Sub</th>\n",
       "      <th>Words_to_match</th>\n",
       "    </tr>\n",
       "  </thead>\n",
       "  <tbody>\n",
       "    <tr>\n",
       "      <th>0</th>\n",
       "      <td>CTU</td>\n",
       "      <td>87R</td>\n",
       "      <td>['RIH', 'POOH']</td>\n",
       "    </tr>\n",
       "    <tr>\n",
       "      <th>1</th>\n",
       "      <td>CTU</td>\n",
       "      <td>87C</td>\n",
       "      <td>['Cleanout', 'Jetting']</td>\n",
       "    </tr>\n",
       "    <tr>\n",
       "      <th>2</th>\n",
       "      <td>CTU</td>\n",
       "      <td>87O</td>\n",
       "      <td>['Others']</td>\n",
       "    </tr>\n",
       "    <tr>\n",
       "      <th>3</th>\n",
       "      <td>CTU</td>\n",
       "      <td>87B</td>\n",
       "      <td>['Bullheading']</td>\n",
       "    </tr>\n",
       "    <tr>\n",
       "      <th>4</th>\n",
       "      <td>CTU</td>\n",
       "      <td>87F</td>\n",
       "      <td>['Flowback (N2)']</td>\n",
       "    </tr>\n",
       "  </tbody>\n",
       "</table>\n",
       "</div>"
      ],
      "text/plain": [
       "  Event code Code_Sub           Words_to_match\n",
       "0        CTU      87R          ['RIH', 'POOH']\n",
       "1        CTU      87C  ['Cleanout', 'Jetting']\n",
       "2        CTU      87O               ['Others']\n",
       "3        CTU      87B          ['Bullheading']\n",
       "4        CTU      87F        ['Flowback (N2)']"
      ]
     },
     "execution_count": 118,
     "metadata": {},
     "output_type": "execute_result"
    }
   ],
   "source": [
    "# data_6m_87_mod1.head()\n",
    "words_map.head()"
   ]
  },
  {
   "cell_type": "code",
   "execution_count": 130,
   "metadata": {},
   "outputs": [],
   "source": [
    "output = data_6m_87_mod1.merge(words_map, on=['Event code', 'Code_Sub'], how = 'left')"
   ]
  },
  {
   "cell_type": "code",
   "execution_count": 132,
   "metadata": {},
   "outputs": [],
   "source": [
    "output['Words_to_match'] = np.where(output['Words_to_match'].isnull(),\"['####']\",output['Words_to_match'])"
   ]
  },
  {
   "cell_type": "code",
   "execution_count": 135,
   "metadata": {},
   "outputs": [
    {
     "data": {
      "text/html": [
       "<div>\n",
       "<style scoped>\n",
       "    .dataframe tbody tr th:only-of-type {\n",
       "        vertical-align: middle;\n",
       "    }\n",
       "\n",
       "    .dataframe tbody tr th {\n",
       "        vertical-align: top;\n",
       "    }\n",
       "\n",
       "    .dataframe thead th {\n",
       "        text-align: right;\n",
       "    }\n",
       "</style>\n",
       "<table border=\"1\" class=\"dataframe\">\n",
       "  <thead>\n",
       "    <tr style=\"text-align: right;\">\n",
       "      <th></th>\n",
       "      <th>Event code</th>\n",
       "      <th>Operation</th>\n",
       "      <th>Code_Sub</th>\n",
       "      <th>Words_to_match</th>\n",
       "    </tr>\n",
       "  </thead>\n",
       "  <tbody>\n",
       "    <tr>\n",
       "      <th>0</th>\n",
       "      <td>ELN</td>\n",
       "      <td>RST C/O Pass-3 recorded from 1190 m - 1065 m a...</td>\n",
       "      <td>87U</td>\n",
       "      <td>['####']</td>\n",
       "    </tr>\n",
       "    <tr>\n",
       "      <th>1</th>\n",
       "      <td>SLN</td>\n",
       "      <td>Made up T/s with IRBP P/T. and stab lubricator...</td>\n",
       "      <td>87P</td>\n",
       "      <td>['Plug Setting', 'Retrieval']</td>\n",
       "    </tr>\n",
       "    <tr>\n",
       "      <th>2</th>\n",
       "      <td>MWS</td>\n",
       "      <td>CT Start RIH while pumping nitrified fluid. At...</td>\n",
       "      <td>87C</td>\n",
       "      <td>['Cleanout']</td>\n",
       "    </tr>\n",
       "    <tr>\n",
       "      <th>3</th>\n",
       "      <td>SLN</td>\n",
       "      <td>Made up T/s with 2.0\" JUC P/T. and stab lubric...</td>\n",
       "      <td>87P</td>\n",
       "      <td>['Plug Setting', 'Retrieval']</td>\n",
       "    </tr>\n",
       "    <tr>\n",
       "      <th>4</th>\n",
       "      <td>SLN</td>\n",
       "      <td>Made up T/s with 2.0\" RB P/T. and stab lubrica...</td>\n",
       "      <td>87P</td>\n",
       "      <td>['Plug Setting', 'Retrieval']</td>\n",
       "    </tr>\n",
       "  </tbody>\n",
       "</table>\n",
       "</div>"
      ],
      "text/plain": [
       "  Event code                                          Operation Code_Sub  \\\n",
       "0        ELN  RST C/O Pass-3 recorded from 1190 m - 1065 m a...      87U   \n",
       "1        SLN  Made up T/s with IRBP P/T. and stab lubricator...      87P   \n",
       "2        MWS  CT Start RIH while pumping nitrified fluid. At...      87C   \n",
       "3        SLN  Made up T/s with 2.0\" JUC P/T. and stab lubric...      87P   \n",
       "4        SLN  Made up T/s with 2.0\" RB P/T. and stab lubrica...      87P   \n",
       "\n",
       "                  Words_to_match  \n",
       "0                       ['####']  \n",
       "1  ['Plug Setting', 'Retrieval']  \n",
       "2                   ['Cleanout']  \n",
       "3  ['Plug Setting', 'Retrieval']  \n",
       "4  ['Plug Setting', 'Retrieval']  "
      ]
     },
     "execution_count": 135,
     "metadata": {},
     "output_type": "execute_result"
    }
   ],
   "source": [
    "output.head()"
   ]
  },
  {
   "cell_type": "code",
   "execution_count": 136,
   "metadata": {
    "scrolled": true
   },
   "outputs": [],
   "source": [
    "output['Flag'] = output.apply(check_string, axis=1)"
   ]
  },
  {
   "cell_type": "code",
   "execution_count": 137,
   "metadata": {},
   "outputs": [
    {
     "data": {
      "text/html": [
       "<div>\n",
       "<style scoped>\n",
       "    .dataframe tbody tr th:only-of-type {\n",
       "        vertical-align: middle;\n",
       "    }\n",
       "\n",
       "    .dataframe tbody tr th {\n",
       "        vertical-align: top;\n",
       "    }\n",
       "\n",
       "    .dataframe thead th {\n",
       "        text-align: right;\n",
       "    }\n",
       "</style>\n",
       "<table border=\"1\" class=\"dataframe\">\n",
       "  <thead>\n",
       "    <tr style=\"text-align: right;\">\n",
       "      <th></th>\n",
       "      <th>Event code</th>\n",
       "      <th>Operation</th>\n",
       "      <th>Code_Sub</th>\n",
       "      <th>Words_to_match</th>\n",
       "      <th>Flag</th>\n",
       "    </tr>\n",
       "  </thead>\n",
       "  <tbody>\n",
       "    <tr>\n",
       "      <th>0</th>\n",
       "      <td>ELN</td>\n",
       "      <td>RST C/O Pass-3 recorded from 1190 m - 1065 m a...</td>\n",
       "      <td>87U</td>\n",
       "      <td>['####']</td>\n",
       "      <td></td>\n",
       "    </tr>\n",
       "    <tr>\n",
       "      <th>1</th>\n",
       "      <td>SLN</td>\n",
       "      <td>Made up T/s with IRBP P/T. and stab lubricator...</td>\n",
       "      <td>87P</td>\n",
       "      <td>['Plug Setting', 'Retrieval']</td>\n",
       "      <td></td>\n",
       "    </tr>\n",
       "    <tr>\n",
       "      <th>2</th>\n",
       "      <td>MWS</td>\n",
       "      <td>CT Start RIH while pumping nitrified fluid. At...</td>\n",
       "      <td>87C</td>\n",
       "      <td>['Cleanout']</td>\n",
       "      <td></td>\n",
       "    </tr>\n",
       "    <tr>\n",
       "      <th>3</th>\n",
       "      <td>SLN</td>\n",
       "      <td>Made up T/s with 2.0\" JUC P/T. and stab lubric...</td>\n",
       "      <td>87P</td>\n",
       "      <td>['Plug Setting', 'Retrieval']</td>\n",
       "      <td></td>\n",
       "    </tr>\n",
       "    <tr>\n",
       "      <th>4</th>\n",
       "      <td>SLN</td>\n",
       "      <td>Made up T/s with 2.0\" RB P/T. and stab lubrica...</td>\n",
       "      <td>87P</td>\n",
       "      <td>['Plug Setting', 'Retrieval']</td>\n",
       "      <td></td>\n",
       "    </tr>\n",
       "  </tbody>\n",
       "</table>\n",
       "</div>"
      ],
      "text/plain": [
       "  Event code                                          Operation Code_Sub  \\\n",
       "0        ELN  RST C/O Pass-3 recorded from 1190 m - 1065 m a...      87U   \n",
       "1        SLN  Made up T/s with IRBP P/T. and stab lubricator...      87P   \n",
       "2        MWS  CT Start RIH while pumping nitrified fluid. At...      87C   \n",
       "3        SLN  Made up T/s with 2.0\" JUC P/T. and stab lubric...      87P   \n",
       "4        SLN  Made up T/s with 2.0\" RB P/T. and stab lubrica...      87P   \n",
       "\n",
       "                  Words_to_match Flag  \n",
       "0                       ['####']       \n",
       "1  ['Plug Setting', 'Retrieval']       \n",
       "2                   ['Cleanout']       \n",
       "3  ['Plug Setting', 'Retrieval']       \n",
       "4  ['Plug Setting', 'Retrieval']       "
      ]
     },
     "execution_count": 137,
     "metadata": {},
     "output_type": "execute_result"
    }
   ],
   "source": [
    "output.head()"
   ]
  },
  {
   "cell_type": "code",
   "execution_count": 140,
   "metadata": {},
   "outputs": [],
   "source": [
    "output.to_excel('output.xlsx')"
   ]
  },
  {
   "cell_type": "code",
   "execution_count": null,
   "metadata": {},
   "outputs": [],
   "source": []
  }
 ],
 "metadata": {
  "kernelspec": {
   "display_name": "Python 3",
   "language": "python",
   "name": "python3"
  },
  "language_info": {
   "codemirror_mode": {
    "name": "ipython",
    "version": 3
   },
   "file_extension": ".py",
   "mimetype": "text/x-python",
   "name": "python",
   "nbconvert_exporter": "python",
   "pygments_lexer": "ipython3",
   "version": "3.6.4"
  }
 },
 "nbformat": 4,
 "nbformat_minor": 2
}
